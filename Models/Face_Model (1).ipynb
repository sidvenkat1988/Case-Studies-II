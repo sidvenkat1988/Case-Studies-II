{
  "nbformat": 4,
  "nbformat_minor": 0,
  "metadata": {
    "colab": {
      "name": "Face Model.ipynb",
      "provenance": []
    },
    "kernelspec": {
      "name": "python3",
      "display_name": "Python 3"
    },
    "accelerator": "GPU"
  },
  "cells": [
    {
      "cell_type": "code",
      "metadata": {
        "id": "FGXUNe9FEkHW",
        "colab_type": "code",
        "colab": {
          "base_uri": "https://localhost:8080/",
          "height": 34
        },
        "outputId": "111bbd02-7eea-4021-aa3b-807c9feb45f5"
      },
      "source": [
        "%cd drive/My\\ Drive"
      ],
      "execution_count": 1,
      "outputs": [
        {
          "output_type": "stream",
          "text": [
            "/content/drive/My Drive\n"
          ],
          "name": "stdout"
        }
      ]
    },
    {
      "cell_type": "code",
      "metadata": {
        "id": "aELXsU2wEtMR",
        "colab_type": "code",
        "colab": {
          "base_uri": "https://localhost:8080/",
          "height": 34
        },
        "outputId": "e46461f9-1361-4699-ddcf-129c2c35d547"
      },
      "source": [
        "%cd case\\ studies\\ 2"
      ],
      "execution_count": 2,
      "outputs": [
        {
          "output_type": "stream",
          "text": [
            "/content/drive/My Drive/case studies 2\n"
          ],
          "name": "stdout"
        }
      ]
    },
    {
      "cell_type": "code",
      "metadata": {
        "id": "_ZfO1BqLEu9e",
        "colab_type": "code",
        "colab": {
          "base_uri": "https://localhost:8080/",
          "height": 34
        },
        "outputId": "d23ee7d4-367b-41a2-d8f2-0df0c00552fe"
      },
      "source": [
        "%cd Models/"
      ],
      "execution_count": 3,
      "outputs": [
        {
          "output_type": "stream",
          "text": [
            "/content/drive/My Drive/case studies 2/Models\n"
          ],
          "name": "stdout"
        }
      ]
    },
    {
      "cell_type": "code",
      "metadata": {
        "id": "-DES5j8bEwbG",
        "colab_type": "code",
        "colab": {
          "base_uri": "https://localhost:8080/",
          "height": 34
        },
        "outputId": "e3f39be7-2266-4133-833d-371a0acf9e67"
      },
      "source": [
        "%cd Face\\ Models"
      ],
      "execution_count": 4,
      "outputs": [
        {
          "output_type": "stream",
          "text": [
            "/content/drive/My Drive/case studies 2/Models/Face Models\n"
          ],
          "name": "stdout"
        }
      ]
    },
    {
      "cell_type": "code",
      "metadata": {
        "id": "ZRA-JXKlExyf",
        "colab_type": "code",
        "colab": {
          "base_uri": "https://localhost:8080/",
          "height": 51
        },
        "outputId": "986d2736-51fe-4148-da3a-8d44b1a8f344"
      },
      "source": [
        "!ls"
      ],
      "execution_count": 5,
      "outputs": [
        {
          "output_type": "stream",
          "text": [
            "face_test_data.npy   face_train_data.npy   Trial\n",
            "face_test_label.npy  face_train_label.npy  Untitled\n"
          ],
          "name": "stdout"
        }
      ]
    },
    {
      "cell_type": "code",
      "metadata": {
        "id": "LtMongNUEyY_",
        "colab_type": "code",
        "colab": {
          "base_uri": "https://localhost:8080/",
          "height": 80
        },
        "outputId": "88dd9a96-371c-4219-8cc2-2ea7901f7d79"
      },
      "source": [
        "import pandas as pd\n",
        "import numpy as np\n",
        "from keras.layers import Input, Dense, Conv2D, MaxPooling2D, UpSampling2D, Dropout, Flatten, BatchNormalization, Activation\n",
        "from keras.models import Model\n",
        "from keras import backend as K\n",
        "from keras.utils.np_utils import to_categorical\n",
        "\n",
        "from keras.callbacks import ModelCheckpoint\n",
        "import matplotlib.pyplot as plt\n",
        "%matplotlib inline\n",
        "import cv2\n",
        "from sklearn.preprocessing import LabelEncoder"
      ],
      "execution_count": 6,
      "outputs": [
        {
          "output_type": "stream",
          "text": [
            "Using TensorFlow backend.\n"
          ],
          "name": "stderr"
        },
        {
          "output_type": "display_data",
          "data": {
            "text/html": [
              "<p style=\"color: red;\">\n",
              "The default version of TensorFlow in Colab will soon switch to TensorFlow 2.x.<br>\n",
              "We recommend you <a href=\"https://www.tensorflow.org/guide/migrate\" target=\"_blank\">upgrade</a> now \n",
              "or ensure your notebook will continue to use TensorFlow 1.x via the <code>%tensorflow_version 1.x</code> magic:\n",
              "<a href=\"https://colab.research.google.com/notebooks/tensorflow_version.ipynb\" target=\"_blank\">more info</a>.</p>\n"
            ],
            "text/plain": [
              "<IPython.core.display.HTML object>"
            ]
          },
          "metadata": {
            "tags": []
          }
        }
      ]
    },
    {
      "cell_type": "code",
      "metadata": {
        "id": "EHkXl7ldE28y",
        "colab_type": "code",
        "colab": {}
      },
      "source": [
        "train_data = np.load('face_train_data.npy', allow_pickle=True)\n",
        "train_labels = np.load('face_train_label.npy', allow_pickle = True)\n",
        "test_data = np.load('face_test_data.npy', allow_pickle = True)\n",
        "test_labels = np.load('face_test_label.npy', allow_pickle = True)"
      ],
      "execution_count": 0,
      "outputs": []
    },
    {
      "cell_type": "code",
      "metadata": {
        "id": "qWvFSwa3FFeP",
        "colab_type": "code",
        "colab": {}
      },
      "source": [
        "train_df = pd.DataFrame(columns = ['train_labels'])\n",
        "train_df['train_labels'] = train_labels"
      ],
      "execution_count": 0,
      "outputs": []
    },
    {
      "cell_type": "code",
      "metadata": {
        "id": "2JfooxtzFKXG",
        "colab_type": "code",
        "colab": {}
      },
      "source": [
        "test_df = pd.DataFrame(columns = ['test_labels'])\n",
        "test_df['test_labels'] = test_labels"
      ],
      "execution_count": 0,
      "outputs": []
    },
    {
      "cell_type": "code",
      "metadata": {
        "id": "suGVJgSwFMv2",
        "colab_type": "code",
        "colab": {}
      },
      "source": [
        "X = train_data/255.0\n",
        "X_test = test_data/255.0"
      ],
      "execution_count": 0,
      "outputs": []
    },
    {
      "cell_type": "code",
      "metadata": {
        "id": "8eH2bo1KFOlg",
        "colab_type": "code",
        "colab": {}
      },
      "source": [
        "y = train_labels"
      ],
      "execution_count": 0,
      "outputs": []
    },
    {
      "cell_type": "code",
      "metadata": {
        "id": "VmU4sSMvFQd_",
        "colab_type": "code",
        "colab": {}
      },
      "source": [
        "y_test = test_labels"
      ],
      "execution_count": 0,
      "outputs": []
    },
    {
      "cell_type": "code",
      "metadata": {
        "id": "dRazd2a_FSQF",
        "colab_type": "code",
        "colab": {}
      },
      "source": [
        "lb = LabelEncoder()\n",
        "y = to_categorical(lb.fit_transform(y))\n",
        "y_test = to_categorical(lb.fit_transform(y_test))"
      ],
      "execution_count": 0,
      "outputs": []
    },
    {
      "cell_type": "code",
      "metadata": {
        "id": "SZyuEXc7FURe",
        "colab_type": "code",
        "colab": {}
      },
      "source": [
        "X_train = X[:24000]\n",
        "y_train = y[:24000]\n",
        "X_val = X[24000:]\n",
        "y_val = y[24000:]"
      ],
      "execution_count": 0,
      "outputs": []
    },
    {
      "cell_type": "code",
      "metadata": {
        "id": "axXP2N5_FWCH",
        "colab_type": "code",
        "colab": {
          "base_uri": "https://localhost:8080/",
          "height": 479
        },
        "outputId": "664bcf9f-8174-4c81-ae3b-ca74580f9dc5"
      },
      "source": [
        "input_img = Input(shape = (64, 64, 3))\n",
        "x = Conv2D(32, (3,3), activation = 'relu', padding = 'same')(input_img)\n",
        "x = BatchNormalization()(x)\n",
        "x = Conv2D(32, (3,3), activation = 'relu', padding = 'same')(x)\n",
        "x = BatchNormalization()(x)\n",
        "x = MaxPooling2D((2,2), padding = 'same')(x)\n",
        "\n",
        "x = Conv2D(64, (3,3), activation = 'relu', padding = 'same')(x)\n",
        "x = BatchNormalization()(x)\n",
        "x = Conv2D(64, (3,3), activation = 'relu', padding = 'same')(x)\n",
        "x = BatchNormalization()(x)\n",
        "x = MaxPooling2D((2,2), padding = 'same')(x)\n",
        "\n",
        "x = Conv2D(128, (3,3), activation = 'relu', padding = 'same')(x)\n",
        "x = BatchNormalization()(x)\n",
        "x = Conv2D(128, (3,3), activation = 'relu', padding = 'same')(x)\n",
        "x = BatchNormalization()(x)\n",
        "x = MaxPooling2D((2,2), padding = 'same')(x)\n",
        "\n",
        "x = Conv2D(256, (3,3), activation = 'relu', padding = 'same')(x)\n",
        "x = BatchNormalization()(x)\n",
        "x = Conv2D(256, (3,3), activation = 'relu', padding = 'same')(x)\n",
        "x = BatchNormalization()(x)\n",
        "x = MaxPooling2D((2,2), padding = 'same')(x)\n",
        "\n",
        "x = Conv2D(512, (3,3), activation = 'relu', padding = 'same')(x)\n",
        "x = BatchNormalization()(x)\n",
        "x = Conv2D(512, (3,3), activation = 'relu', padding = 'same')(x)\n",
        "x = BatchNormalization()(x)\n",
        "encoded = MaxPooling2D((2,2), padding = 'same')(x)\n",
        "\n",
        "x = Conv2D(512, (3,3), activation = 'relu', padding = 'same')(encoded)\n",
        "x = BatchNormalization()(x)\n",
        "x = Conv2D(512, (3,3), activation = 'relu', padding = 'same')(x)\n",
        "x = BatchNormalization()(x)\n",
        "x = UpSampling2D((2,2))(x)\n",
        "\n",
        "x = Conv2D(256, (3,3), activation = 'relu', padding = 'same')(x)\n",
        "x = BatchNormalization()(x)\n",
        "x = Conv2D(256, (3,3), activation = 'relu', padding = 'same')(x)\n",
        "x = BatchNormalization()(x)\n",
        "x = UpSampling2D((2,2))(x)\n",
        "\n",
        "x = Conv2D(128, (3,3), activation = 'relu', padding = 'same')(x)\n",
        "x = BatchNormalization()(x)\n",
        "x = Conv2D(128, (3,3), activation = 'relu', padding = 'same')(x)\n",
        "x = BatchNormalization()(x)\n",
        "x = UpSampling2D((2,2))(x)\n",
        "\n",
        "x = Conv2D(64, (3,3), activation = 'relu', padding = 'same')(x)\n",
        "x = BatchNormalization()(x)\n",
        "x = Conv2D(64, (3,3), activation = 'relu', padding = 'same')(x)\n",
        "x = BatchNormalization()(x)\n",
        "x = UpSampling2D((2,2))(x)\n",
        "\n",
        "x = Conv2D(32, (3,3), activation = 'relu', padding = 'same')(x)\n",
        "x = BatchNormalization()(x)\n",
        "x = Conv2D(32, (3,3), activation = 'relu', padding = 'same')(x)\n",
        "x = BatchNormalization()(x)\n",
        "x = UpSampling2D((2,2))(x)\n",
        "\n",
        "decoded = Conv2D(3, (3,3), activation = 'softmax', padding = 'same')(x)\n"
      ],
      "execution_count": 15,
      "outputs": [
        {
          "output_type": "stream",
          "text": [
            "WARNING:tensorflow:From /usr/local/lib/python3.6/dist-packages/keras/backend/tensorflow_backend.py:66: The name tf.get_default_graph is deprecated. Please use tf.compat.v1.get_default_graph instead.\n",
            "\n",
            "WARNING:tensorflow:From /usr/local/lib/python3.6/dist-packages/keras/backend/tensorflow_backend.py:541: The name tf.placeholder is deprecated. Please use tf.compat.v1.placeholder instead.\n",
            "\n",
            "WARNING:tensorflow:From /usr/local/lib/python3.6/dist-packages/keras/backend/tensorflow_backend.py:4432: The name tf.random_uniform is deprecated. Please use tf.random.uniform instead.\n",
            "\n",
            "WARNING:tensorflow:From /usr/local/lib/python3.6/dist-packages/keras/backend/tensorflow_backend.py:190: The name tf.get_default_session is deprecated. Please use tf.compat.v1.get_default_session instead.\n",
            "\n",
            "WARNING:tensorflow:From /usr/local/lib/python3.6/dist-packages/keras/backend/tensorflow_backend.py:197: The name tf.ConfigProto is deprecated. Please use tf.compat.v1.ConfigProto instead.\n",
            "\n",
            "WARNING:tensorflow:From /usr/local/lib/python3.6/dist-packages/keras/backend/tensorflow_backend.py:203: The name tf.Session is deprecated. Please use tf.compat.v1.Session instead.\n",
            "\n",
            "WARNING:tensorflow:From /usr/local/lib/python3.6/dist-packages/keras/backend/tensorflow_backend.py:207: The name tf.global_variables is deprecated. Please use tf.compat.v1.global_variables instead.\n",
            "\n",
            "WARNING:tensorflow:From /usr/local/lib/python3.6/dist-packages/keras/backend/tensorflow_backend.py:216: The name tf.is_variable_initialized is deprecated. Please use tf.compat.v1.is_variable_initialized instead.\n",
            "\n",
            "WARNING:tensorflow:From /usr/local/lib/python3.6/dist-packages/keras/backend/tensorflow_backend.py:223: The name tf.variables_initializer is deprecated. Please use tf.compat.v1.variables_initializer instead.\n",
            "\n",
            "WARNING:tensorflow:From /usr/local/lib/python3.6/dist-packages/keras/backend/tensorflow_backend.py:2041: The name tf.nn.fused_batch_norm is deprecated. Please use tf.compat.v1.nn.fused_batch_norm instead.\n",
            "\n",
            "WARNING:tensorflow:From /usr/local/lib/python3.6/dist-packages/keras/backend/tensorflow_backend.py:148: The name tf.placeholder_with_default is deprecated. Please use tf.compat.v1.placeholder_with_default instead.\n",
            "\n",
            "WARNING:tensorflow:From /usr/local/lib/python3.6/dist-packages/keras/backend/tensorflow_backend.py:4267: The name tf.nn.max_pool is deprecated. Please use tf.nn.max_pool2d instead.\n",
            "\n",
            "WARNING:tensorflow:From /usr/local/lib/python3.6/dist-packages/keras/backend/tensorflow_backend.py:2239: The name tf.image.resize_nearest_neighbor is deprecated. Please use tf.compat.v1.image.resize_nearest_neighbor instead.\n",
            "\n"
          ],
          "name": "stdout"
        }
      ]
    },
    {
      "cell_type": "code",
      "metadata": {
        "id": "9toe5US2FXyW",
        "colab_type": "code",
        "colab": {
          "base_uri": "https://localhost:8080/",
          "height": 105
        },
        "outputId": "4d9108a9-8b13-4733-e577-f0910d49a97e"
      },
      "source": [
        "autoencoder = Model(input_img, decoded)\n",
        "autoencoder.compile(loss = 'categorical_crossentropy', metrics = ['accuracy'], optimizer = 'adam')"
      ],
      "execution_count": 16,
      "outputs": [
        {
          "output_type": "stream",
          "text": [
            "WARNING:tensorflow:From /usr/local/lib/python3.6/dist-packages/keras/optimizers.py:793: The name tf.train.Optimizer is deprecated. Please use tf.compat.v1.train.Optimizer instead.\n",
            "\n",
            "WARNING:tensorflow:From /usr/local/lib/python3.6/dist-packages/keras/backend/tensorflow_backend.py:3576: The name tf.log is deprecated. Please use tf.math.log instead.\n",
            "\n"
          ],
          "name": "stdout"
        }
      ]
    },
    {
      "cell_type": "code",
      "metadata": {
        "id": "bpzOdfBFFaeK",
        "colab_type": "code",
        "colab": {
          "base_uri": "https://localhost:8080/",
          "height": 1000
        },
        "outputId": "5052a579-fc7b-4bfe-8167-01cf8241176e"
      },
      "source": [
        "autoencoder.summary()"
      ],
      "execution_count": 17,
      "outputs": [
        {
          "output_type": "stream",
          "text": [
            "Model: \"model_1\"\n",
            "_________________________________________________________________\n",
            "Layer (type)                 Output Shape              Param #   \n",
            "=================================================================\n",
            "input_1 (InputLayer)         (None, 64, 64, 3)         0         \n",
            "_________________________________________________________________\n",
            "conv2d_1 (Conv2D)            (None, 64, 64, 32)        896       \n",
            "_________________________________________________________________\n",
            "batch_normalization_1 (Batch (None, 64, 64, 32)        128       \n",
            "_________________________________________________________________\n",
            "conv2d_2 (Conv2D)            (None, 64, 64, 32)        9248      \n",
            "_________________________________________________________________\n",
            "batch_normalization_2 (Batch (None, 64, 64, 32)        128       \n",
            "_________________________________________________________________\n",
            "max_pooling2d_1 (MaxPooling2 (None, 32, 32, 32)        0         \n",
            "_________________________________________________________________\n",
            "conv2d_3 (Conv2D)            (None, 32, 32, 64)        18496     \n",
            "_________________________________________________________________\n",
            "batch_normalization_3 (Batch (None, 32, 32, 64)        256       \n",
            "_________________________________________________________________\n",
            "conv2d_4 (Conv2D)            (None, 32, 32, 64)        36928     \n",
            "_________________________________________________________________\n",
            "batch_normalization_4 (Batch (None, 32, 32, 64)        256       \n",
            "_________________________________________________________________\n",
            "max_pooling2d_2 (MaxPooling2 (None, 16, 16, 64)        0         \n",
            "_________________________________________________________________\n",
            "conv2d_5 (Conv2D)            (None, 16, 16, 128)       73856     \n",
            "_________________________________________________________________\n",
            "batch_normalization_5 (Batch (None, 16, 16, 128)       512       \n",
            "_________________________________________________________________\n",
            "conv2d_6 (Conv2D)            (None, 16, 16, 128)       147584    \n",
            "_________________________________________________________________\n",
            "batch_normalization_6 (Batch (None, 16, 16, 128)       512       \n",
            "_________________________________________________________________\n",
            "max_pooling2d_3 (MaxPooling2 (None, 8, 8, 128)         0         \n",
            "_________________________________________________________________\n",
            "conv2d_7 (Conv2D)            (None, 8, 8, 256)         295168    \n",
            "_________________________________________________________________\n",
            "batch_normalization_7 (Batch (None, 8, 8, 256)         1024      \n",
            "_________________________________________________________________\n",
            "conv2d_8 (Conv2D)            (None, 8, 8, 256)         590080    \n",
            "_________________________________________________________________\n",
            "batch_normalization_8 (Batch (None, 8, 8, 256)         1024      \n",
            "_________________________________________________________________\n",
            "max_pooling2d_4 (MaxPooling2 (None, 4, 4, 256)         0         \n",
            "_________________________________________________________________\n",
            "conv2d_9 (Conv2D)            (None, 4, 4, 512)         1180160   \n",
            "_________________________________________________________________\n",
            "batch_normalization_9 (Batch (None, 4, 4, 512)         2048      \n",
            "_________________________________________________________________\n",
            "conv2d_10 (Conv2D)           (None, 4, 4, 512)         2359808   \n",
            "_________________________________________________________________\n",
            "batch_normalization_10 (Batc (None, 4, 4, 512)         2048      \n",
            "_________________________________________________________________\n",
            "max_pooling2d_5 (MaxPooling2 (None, 2, 2, 512)         0         \n",
            "_________________________________________________________________\n",
            "conv2d_11 (Conv2D)           (None, 2, 2, 512)         2359808   \n",
            "_________________________________________________________________\n",
            "batch_normalization_11 (Batc (None, 2, 2, 512)         2048      \n",
            "_________________________________________________________________\n",
            "conv2d_12 (Conv2D)           (None, 2, 2, 512)         2359808   \n",
            "_________________________________________________________________\n",
            "batch_normalization_12 (Batc (None, 2, 2, 512)         2048      \n",
            "_________________________________________________________________\n",
            "up_sampling2d_1 (UpSampling2 (None, 4, 4, 512)         0         \n",
            "_________________________________________________________________\n",
            "conv2d_13 (Conv2D)           (None, 4, 4, 256)         1179904   \n",
            "_________________________________________________________________\n",
            "batch_normalization_13 (Batc (None, 4, 4, 256)         1024      \n",
            "_________________________________________________________________\n",
            "conv2d_14 (Conv2D)           (None, 4, 4, 256)         590080    \n",
            "_________________________________________________________________\n",
            "batch_normalization_14 (Batc (None, 4, 4, 256)         1024      \n",
            "_________________________________________________________________\n",
            "up_sampling2d_2 (UpSampling2 (None, 8, 8, 256)         0         \n",
            "_________________________________________________________________\n",
            "conv2d_15 (Conv2D)           (None, 8, 8, 128)         295040    \n",
            "_________________________________________________________________\n",
            "batch_normalization_15 (Batc (None, 8, 8, 128)         512       \n",
            "_________________________________________________________________\n",
            "conv2d_16 (Conv2D)           (None, 8, 8, 128)         147584    \n",
            "_________________________________________________________________\n",
            "batch_normalization_16 (Batc (None, 8, 8, 128)         512       \n",
            "_________________________________________________________________\n",
            "up_sampling2d_3 (UpSampling2 (None, 16, 16, 128)       0         \n",
            "_________________________________________________________________\n",
            "conv2d_17 (Conv2D)           (None, 16, 16, 64)        73792     \n",
            "_________________________________________________________________\n",
            "batch_normalization_17 (Batc (None, 16, 16, 64)        256       \n",
            "_________________________________________________________________\n",
            "conv2d_18 (Conv2D)           (None, 16, 16, 64)        36928     \n",
            "_________________________________________________________________\n",
            "batch_normalization_18 (Batc (None, 16, 16, 64)        256       \n",
            "_________________________________________________________________\n",
            "up_sampling2d_4 (UpSampling2 (None, 32, 32, 64)        0         \n",
            "_________________________________________________________________\n",
            "conv2d_19 (Conv2D)           (None, 32, 32, 32)        18464     \n",
            "_________________________________________________________________\n",
            "batch_normalization_19 (Batc (None, 32, 32, 32)        128       \n",
            "_________________________________________________________________\n",
            "conv2d_20 (Conv2D)           (None, 32, 32, 32)        9248      \n",
            "_________________________________________________________________\n",
            "batch_normalization_20 (Batc (None, 32, 32, 32)        128       \n",
            "_________________________________________________________________\n",
            "up_sampling2d_5 (UpSampling2 (None, 64, 64, 32)        0         \n",
            "_________________________________________________________________\n",
            "conv2d_21 (Conv2D)           (None, 64, 64, 3)         867       \n",
            "=================================================================\n",
            "Total params: 11,799,619\n",
            "Trainable params: 11,791,683\n",
            "Non-trainable params: 7,936\n",
            "_________________________________________________________________\n"
          ],
          "name": "stdout"
        }
      ]
    },
    {
      "cell_type": "code",
      "metadata": {
        "id": "krEbAshSFcjm",
        "colab_type": "code",
        "colab": {}
      },
      "source": [
        "filepath = 'face_autoencoder.h5'\n",
        "checkpoint = ModelCheckpoint(filepath, monitor = 'val_acc', verbose = 1, save_best_only = True, mode = 'max')\n",
        "callbacks_list = [checkpoint]"
      ],
      "execution_count": 0,
      "outputs": []
    },
    {
      "cell_type": "code",
      "metadata": {
        "id": "Pr9dG7TXFgkm",
        "colab_type": "code",
        "colab": {
          "base_uri": "https://localhost:8080/",
          "height": 1000
        },
        "outputId": "3855fe13-f7c6-41fa-e01f-5310bf1e6c97"
      },
      "source": [
        "autoencoder_train = autoencoder.fit(X_train, X_train, epochs = 100, batch_size = 256, verbose = 1, callbacks = callbacks_list, validation_data = [X_val, X_val])"
      ],
      "execution_count": 19,
      "outputs": [
        {
          "output_type": "stream",
          "text": [
            "WARNING:tensorflow:From /usr/local/lib/python3.6/dist-packages/tensorflow_core/python/ops/math_grad.py:1424: where (from tensorflow.python.ops.array_ops) is deprecated and will be removed in a future version.\n",
            "Instructions for updating:\n",
            "Use tf.where in 2.0, which has the same broadcast rule as np.where\n",
            "WARNING:tensorflow:From /usr/local/lib/python3.6/dist-packages/keras/backend/tensorflow_backend.py:1033: The name tf.assign_add is deprecated. Please use tf.compat.v1.assign_add instead.\n",
            "\n",
            "WARNING:tensorflow:From /usr/local/lib/python3.6/dist-packages/keras/backend/tensorflow_backend.py:1020: The name tf.assign is deprecated. Please use tf.compat.v1.assign instead.\n",
            "\n",
            "Train on 24000 samples, validate on 7994 samples\n",
            "Epoch 1/100\n",
            "24000/24000 [==============================] - 53s 2ms/step - loss: 1.6020 - acc: 0.7999 - val_loss: 1.5914 - val_acc: 0.9083\n",
            "\n",
            "Epoch 00001: val_acc improved from -inf to 0.90832, saving model to face_autoencoder.h5\n",
            "Epoch 2/100\n",
            "24000/24000 [==============================] - 36s 2ms/step - loss: 1.5703 - acc: 0.9107 - val_loss: 1.5792 - val_acc: 0.9326\n",
            "\n",
            "Epoch 00002: val_acc improved from 0.90832 to 0.93261, saving model to face_autoencoder.h5\n",
            "Epoch 3/100\n",
            "24000/24000 [==============================] - 36s 2ms/step - loss: 1.5678 - acc: 0.9188 - val_loss: 1.5770 - val_acc: 0.9391\n",
            "\n",
            "Epoch 00003: val_acc improved from 0.93261 to 0.93912, saving model to face_autoencoder.h5\n",
            "Epoch 4/100\n",
            "24000/24000 [==============================] - 36s 2ms/step - loss: 1.5666 - acc: 0.9228 - val_loss: 1.5745 - val_acc: 0.9379\n",
            "\n",
            "Epoch 00004: val_acc did not improve from 0.93912\n",
            "Epoch 5/100\n",
            "24000/24000 [==============================] - 36s 2ms/step - loss: 1.5656 - acc: 0.9221 - val_loss: 1.5732 - val_acc: 0.9342\n",
            "\n",
            "Epoch 00005: val_acc did not improve from 0.93912\n",
            "Epoch 6/100\n",
            "24000/24000 [==============================] - 36s 2ms/step - loss: 1.5646 - acc: 0.9210 - val_loss: 1.5728 - val_acc: 0.9258\n",
            "\n",
            "Epoch 00006: val_acc did not improve from 0.93912\n",
            "Epoch 7/100\n",
            "24000/24000 [==============================] - 36s 2ms/step - loss: 1.5637 - acc: 0.9202 - val_loss: 1.5725 - val_acc: 0.9212\n",
            "\n",
            "Epoch 00007: val_acc did not improve from 0.93912\n",
            "Epoch 8/100\n",
            "24000/24000 [==============================] - 36s 2ms/step - loss: 1.5627 - acc: 0.9203 - val_loss: 1.5710 - val_acc: 0.9103\n",
            "\n",
            "Epoch 00008: val_acc did not improve from 0.93912\n",
            "Epoch 9/100\n",
            "24000/24000 [==============================] - 36s 2ms/step - loss: 1.5620 - acc: 0.9219 - val_loss: 1.5712 - val_acc: 0.8928\n",
            "\n",
            "Epoch 00009: val_acc did not improve from 0.93912\n",
            "Epoch 10/100\n",
            "24000/24000 [==============================] - 36s 2ms/step - loss: 1.5612 - acc: 0.9236 - val_loss: 1.5698 - val_acc: 0.9107\n",
            "\n",
            "Epoch 00010: val_acc did not improve from 0.93912\n",
            "Epoch 11/100\n",
            "24000/24000 [==============================] - 36s 2ms/step - loss: 1.5604 - acc: 0.9259 - val_loss: 1.5692 - val_acc: 0.9124\n",
            "\n",
            "Epoch 00011: val_acc did not improve from 0.93912\n",
            "Epoch 12/100\n",
            "24000/24000 [==============================] - 36s 2ms/step - loss: 1.5599 - acc: 0.9281 - val_loss: 1.5701 - val_acc: 0.9171\n",
            "\n",
            "Epoch 00012: val_acc did not improve from 0.93912\n",
            "Epoch 13/100\n",
            "24000/24000 [==============================] - 36s 2ms/step - loss: 1.5604 - acc: 0.9277 - val_loss: 1.5928 - val_acc: 0.8793\n",
            "\n",
            "Epoch 00013: val_acc did not improve from 0.93912\n",
            "Epoch 14/100\n",
            "24000/24000 [==============================] - 36s 2ms/step - loss: 1.5591 - acc: 0.9312 - val_loss: 1.5710 - val_acc: 0.9066\n",
            "\n",
            "Epoch 00014: val_acc did not improve from 0.93912\n",
            "Epoch 15/100\n",
            "24000/24000 [==============================] - 36s 2ms/step - loss: 1.5585 - acc: 0.9321 - val_loss: 1.5682 - val_acc: 0.9308\n",
            "\n",
            "Epoch 00015: val_acc did not improve from 0.93912\n",
            "Epoch 16/100\n",
            "24000/24000 [==============================] - 36s 2ms/step - loss: 1.5590 - acc: 0.9322 - val_loss: 1.6562 - val_acc: 0.9006\n",
            "\n",
            "Epoch 00016: val_acc did not improve from 0.93912\n",
            "Epoch 17/100\n",
            "24000/24000 [==============================] - 36s 2ms/step - loss: 1.5584 - acc: 0.9334 - val_loss: 1.5758 - val_acc: 0.9107\n",
            "\n",
            "Epoch 00017: val_acc did not improve from 0.93912\n",
            "Epoch 18/100\n",
            "24000/24000 [==============================] - 36s 2ms/step - loss: 1.5596 - acc: 0.9320 - val_loss: 1.6884 - val_acc: 0.9001\n",
            "\n",
            "Epoch 00018: val_acc did not improve from 0.93912\n",
            "Epoch 19/100\n",
            "24000/24000 [==============================] - 36s 2ms/step - loss: 1.5589 - acc: 0.9343 - val_loss: 1.5705 - val_acc: 0.9279\n",
            "\n",
            "Epoch 00019: val_acc did not improve from 0.93912\n",
            "Epoch 20/100\n",
            "24000/24000 [==============================] - 36s 2ms/step - loss: 1.5580 - acc: 0.9358 - val_loss: 1.5672 - val_acc: 0.9183\n",
            "\n",
            "Epoch 00020: val_acc did not improve from 0.93912\n",
            "Epoch 21/100\n",
            "24000/24000 [==============================] - 36s 2ms/step - loss: 1.5576 - acc: 0.9360 - val_loss: 1.5927 - val_acc: 0.9044\n",
            "\n",
            "Epoch 00021: val_acc did not improve from 0.93912\n",
            "Epoch 22/100\n",
            "24000/24000 [==============================] - 36s 2ms/step - loss: 1.5574 - acc: 0.9360 - val_loss: 1.5671 - val_acc: 0.9249\n",
            "\n",
            "Epoch 00022: val_acc did not improve from 0.93912\n",
            "Epoch 23/100\n",
            "24000/24000 [==============================] - 36s 2ms/step - loss: 1.5571 - acc: 0.9378 - val_loss: 1.5648 - val_acc: 0.9416\n",
            "\n",
            "Epoch 00023: val_acc improved from 0.93912 to 0.94160, saving model to face_autoencoder.h5\n",
            "Epoch 24/100\n",
            "24000/24000 [==============================] - 36s 2ms/step - loss: 1.5569 - acc: 0.9387 - val_loss: 1.5652 - val_acc: 0.9314\n",
            "\n",
            "Epoch 00024: val_acc did not improve from 0.94160\n",
            "Epoch 25/100\n",
            "24000/24000 [==============================] - 36s 2ms/step - loss: 1.5567 - acc: 0.9407 - val_loss: 1.5649 - val_acc: 0.9297\n",
            "\n",
            "Epoch 00025: val_acc did not improve from 0.94160\n",
            "Epoch 26/100\n",
            "24000/24000 [==============================] - 36s 2ms/step - loss: 1.5565 - acc: 0.9399 - val_loss: 1.5643 - val_acc: 0.9371\n",
            "\n",
            "Epoch 00026: val_acc did not improve from 0.94160\n",
            "Epoch 27/100\n",
            "24000/24000 [==============================] - 36s 2ms/step - loss: 1.5564 - acc: 0.9413 - val_loss: 1.5651 - val_acc: 0.9210\n",
            "\n",
            "Epoch 00027: val_acc did not improve from 0.94160\n",
            "Epoch 28/100\n",
            "24000/24000 [==============================] - 36s 2ms/step - loss: 1.5562 - acc: 0.9413 - val_loss: 1.5650 - val_acc: 0.9350\n",
            "\n",
            "Epoch 00028: val_acc did not improve from 0.94160\n",
            "Epoch 29/100\n",
            "24000/24000 [==============================] - 36s 2ms/step - loss: 1.5564 - acc: 0.9412 - val_loss: 1.5643 - val_acc: 0.9335\n",
            "\n",
            "Epoch 00029: val_acc did not improve from 0.94160\n",
            "Epoch 30/100\n",
            "24000/24000 [==============================] - 36s 2ms/step - loss: 1.5563 - acc: 0.9422 - val_loss: 1.6365 - val_acc: 0.8816\n",
            "\n",
            "Epoch 00030: val_acc did not improve from 0.94160\n",
            "Epoch 31/100\n",
            "24000/24000 [==============================] - 36s 2ms/step - loss: 1.5566 - acc: 0.9417 - val_loss: 1.5647 - val_acc: 0.9305\n",
            "\n",
            "Epoch 00031: val_acc did not improve from 0.94160\n",
            "Epoch 32/100\n",
            "24000/24000 [==============================] - 36s 2ms/step - loss: 1.5562 - acc: 0.9426 - val_loss: 1.5644 - val_acc: 0.9532\n",
            "\n",
            "Epoch 00032: val_acc improved from 0.94160 to 0.95322, saving model to face_autoencoder.h5\n",
            "Epoch 33/100\n",
            "24000/24000 [==============================] - 36s 2ms/step - loss: 1.5559 - acc: 0.9435 - val_loss: 1.5643 - val_acc: 0.9298\n",
            "\n",
            "Epoch 00033: val_acc did not improve from 0.95322\n",
            "Epoch 34/100\n",
            "24000/24000 [==============================] - 36s 2ms/step - loss: 1.5557 - acc: 0.9437 - val_loss: 1.5639 - val_acc: 0.9386\n",
            "\n",
            "Epoch 00034: val_acc did not improve from 0.95322\n",
            "Epoch 35/100\n",
            "24000/24000 [==============================] - 36s 2ms/step - loss: 1.5557 - acc: 0.9443 - val_loss: 1.5638 - val_acc: 0.9385\n",
            "\n",
            "Epoch 00035: val_acc did not improve from 0.95322\n",
            "Epoch 36/100\n",
            "24000/24000 [==============================] - 36s 2ms/step - loss: 1.5589 - acc: 0.9371 - val_loss: 1.6979 - val_acc: 0.8499\n",
            "\n",
            "Epoch 00036: val_acc did not improve from 0.95322\n",
            "Epoch 37/100\n",
            "24000/24000 [==============================] - 36s 2ms/step - loss: 1.5596 - acc: 0.9375 - val_loss: 1.6520 - val_acc: 0.5545\n",
            "\n",
            "Epoch 00037: val_acc did not improve from 0.95322\n",
            "Epoch 38/100\n",
            "24000/24000 [==============================] - 36s 2ms/step - loss: 1.5577 - acc: 0.9406 - val_loss: 1.5773 - val_acc: 0.8497\n",
            "\n",
            "Epoch 00038: val_acc did not improve from 0.95322\n",
            "Epoch 39/100\n",
            "24000/24000 [==============================] - 36s 2ms/step - loss: 1.5569 - acc: 0.9409 - val_loss: 1.5667 - val_acc: 0.9406\n",
            "\n",
            "Epoch 00039: val_acc did not improve from 0.95322\n",
            "Epoch 40/100\n",
            "24000/24000 [==============================] - 36s 2ms/step - loss: 1.5564 - acc: 0.9424 - val_loss: 1.5648 - val_acc: 0.9437\n",
            "\n",
            "Epoch 00040: val_acc did not improve from 0.95322\n",
            "Epoch 41/100\n",
            "24000/24000 [==============================] - 36s 2ms/step - loss: 1.5563 - acc: 0.9424 - val_loss: 1.5677 - val_acc: 0.9454\n",
            "\n",
            "Epoch 00041: val_acc did not improve from 0.95322\n",
            "Epoch 42/100\n",
            "24000/24000 [==============================] - 36s 2ms/step - loss: 1.5562 - acc: 0.9428 - val_loss: 1.5666 - val_acc: 0.9250\n",
            "\n",
            "Epoch 00042: val_acc did not improve from 0.95322\n",
            "Epoch 43/100\n",
            "24000/24000 [==============================] - 36s 2ms/step - loss: 1.5559 - acc: 0.9441 - val_loss: 1.5647 - val_acc: 0.9302\n",
            "\n",
            "Epoch 00043: val_acc did not improve from 0.95322\n",
            "Epoch 44/100\n",
            "24000/24000 [==============================] - 36s 2ms/step - loss: 1.5560 - acc: 0.9443 - val_loss: 1.5650 - val_acc: 0.9315\n",
            "\n",
            "Epoch 00044: val_acc did not improve from 0.95322\n",
            "Epoch 45/100\n",
            "24000/24000 [==============================] - 36s 2ms/step - loss: 1.5558 - acc: 0.9438 - val_loss: 1.5643 - val_acc: 0.9532\n",
            "\n",
            "Epoch 00045: val_acc did not improve from 0.95322\n",
            "Epoch 46/100\n",
            "24000/24000 [==============================] - 36s 2ms/step - loss: 1.5555 - acc: 0.9455 - val_loss: 1.5646 - val_acc: 0.9537\n",
            "\n",
            "Epoch 00046: val_acc improved from 0.95322 to 0.95367, saving model to face_autoencoder.h5\n",
            "Epoch 47/100\n",
            "24000/24000 [==============================] - 36s 2ms/step - loss: 1.5555 - acc: 0.9449 - val_loss: 1.5636 - val_acc: 0.9506\n",
            "\n",
            "Epoch 00047: val_acc did not improve from 0.95367\n",
            "Epoch 48/100\n",
            "24000/24000 [==============================] - 36s 2ms/step - loss: 1.5554 - acc: 0.9464 - val_loss: 1.5638 - val_acc: 0.9467\n",
            "\n",
            "Epoch 00048: val_acc did not improve from 0.95367\n",
            "Epoch 49/100\n",
            "24000/24000 [==============================] - 36s 2ms/step - loss: 1.5553 - acc: 0.9463 - val_loss: 1.5628 - val_acc: 0.9420\n",
            "\n",
            "Epoch 00049: val_acc did not improve from 0.95367\n",
            "Epoch 50/100\n",
            "24000/24000 [==============================] - 36s 2ms/step - loss: 1.5552 - acc: 0.9461 - val_loss: 1.5636 - val_acc: 0.9511\n",
            "\n",
            "Epoch 00050: val_acc did not improve from 0.95367\n",
            "Epoch 51/100\n",
            "24000/24000 [==============================] - 36s 2ms/step - loss: 1.5553 - acc: 0.9461 - val_loss: 1.5636 - val_acc: 0.9581\n",
            "\n",
            "Epoch 00051: val_acc improved from 0.95367 to 0.95813, saving model to face_autoencoder.h5\n",
            "Epoch 52/100\n",
            "24000/24000 [==============================] - 36s 2ms/step - loss: 1.5555 - acc: 0.9455 - val_loss: 1.5649 - val_acc: 0.9548\n",
            "\n",
            "Epoch 00052: val_acc did not improve from 0.95813\n",
            "Epoch 53/100\n",
            "24000/24000 [==============================] - 36s 2ms/step - loss: 1.5552 - acc: 0.9472 - val_loss: 1.5636 - val_acc: 0.9480\n",
            "\n",
            "Epoch 00053: val_acc did not improve from 0.95813\n",
            "Epoch 54/100\n",
            "24000/24000 [==============================] - 36s 2ms/step - loss: 1.5551 - acc: 0.9473 - val_loss: 1.5629 - val_acc: 0.9384\n",
            "\n",
            "Epoch 00054: val_acc did not improve from 0.95813\n",
            "Epoch 55/100\n",
            "24000/24000 [==============================] - 36s 2ms/step - loss: 1.5561 - acc: 0.9448 - val_loss: 1.6136 - val_acc: 0.5904\n",
            "\n",
            "Epoch 00055: val_acc did not improve from 0.95813\n",
            "Epoch 56/100\n",
            "24000/24000 [==============================] - 36s 2ms/step - loss: 1.5564 - acc: 0.9439 - val_loss: 1.5738 - val_acc: 0.8547\n",
            "\n",
            "Epoch 00056: val_acc did not improve from 0.95813\n",
            "Epoch 57/100\n",
            "24000/24000 [==============================] - 36s 2ms/step - loss: 1.5554 - acc: 0.9459 - val_loss: 1.5650 - val_acc: 0.9214\n",
            "\n",
            "Epoch 00057: val_acc did not improve from 0.95813\n",
            "Epoch 58/100\n",
            "24000/24000 [==============================] - 36s 2ms/step - loss: 1.5552 - acc: 0.9475 - val_loss: 1.5635 - val_acc: 0.9445\n",
            "\n",
            "Epoch 00058: val_acc did not improve from 0.95813\n",
            "Epoch 59/100\n",
            "24000/24000 [==============================] - 36s 2ms/step - loss: 1.5551 - acc: 0.9473 - val_loss: 1.5635 - val_acc: 0.9342\n",
            "\n",
            "Epoch 00059: val_acc did not improve from 0.95813\n",
            "Epoch 60/100\n",
            "24000/24000 [==============================] - 36s 2ms/step - loss: 1.5550 - acc: 0.9479 - val_loss: 1.5643 - val_acc: 0.9413\n",
            "\n",
            "Epoch 00060: val_acc did not improve from 0.95813\n",
            "Epoch 61/100\n",
            "24000/24000 [==============================] - 36s 2ms/step - loss: 1.5550 - acc: 0.9483 - val_loss: 1.5628 - val_acc: 0.9307\n",
            "\n",
            "Epoch 00061: val_acc did not improve from 0.95813\n",
            "Epoch 62/100\n",
            "24000/24000 [==============================] - 36s 2ms/step - loss: 1.5550 - acc: 0.9484 - val_loss: 1.5629 - val_acc: 0.9637\n",
            "\n",
            "Epoch 00062: val_acc improved from 0.95813 to 0.96372, saving model to face_autoencoder.h5\n",
            "Epoch 63/100\n",
            "24000/24000 [==============================] - 36s 2ms/step - loss: 1.5548 - acc: 0.9484 - val_loss: 1.5632 - val_acc: 0.9334\n",
            "\n",
            "Epoch 00063: val_acc did not improve from 0.96372\n",
            "Epoch 64/100\n",
            "24000/24000 [==============================] - 36s 2ms/step - loss: 1.5548 - acc: 0.9484 - val_loss: 1.5629 - val_acc: 0.9577\n",
            "\n",
            "Epoch 00064: val_acc did not improve from 0.96372\n",
            "Epoch 65/100\n",
            "24000/24000 [==============================] - 36s 2ms/step - loss: 1.5548 - acc: 0.9492 - val_loss: 1.5627 - val_acc: 0.9467\n",
            "\n",
            "Epoch 00065: val_acc did not improve from 0.96372\n",
            "Epoch 66/100\n",
            "24000/24000 [==============================] - 36s 2ms/step - loss: 1.5547 - acc: 0.9484 - val_loss: 1.5625 - val_acc: 0.9616\n",
            "\n",
            "Epoch 00066: val_acc did not improve from 0.96372\n",
            "Epoch 67/100\n",
            "24000/24000 [==============================] - 36s 2ms/step - loss: 1.5562 - acc: 0.9456 - val_loss: 1.6100 - val_acc: 0.9137\n",
            "\n",
            "Epoch 00067: val_acc did not improve from 0.96372\n",
            "Epoch 68/100\n",
            "24000/24000 [==============================] - 36s 2ms/step - loss: 1.5554 - acc: 0.9471 - val_loss: 1.5747 - val_acc: 0.9225\n",
            "\n",
            "Epoch 00068: val_acc did not improve from 0.96372\n",
            "Epoch 69/100\n",
            "24000/24000 [==============================] - 36s 2ms/step - loss: 1.5552 - acc: 0.9470 - val_loss: 1.5651 - val_acc: 0.9486\n",
            "\n",
            "Epoch 00069: val_acc did not improve from 0.96372\n",
            "Epoch 70/100\n",
            "24000/24000 [==============================] - 36s 2ms/step - loss: 1.5549 - acc: 0.9492 - val_loss: 1.5646 - val_acc: 0.9325\n",
            "\n",
            "Epoch 00070: val_acc did not improve from 0.96372\n",
            "Epoch 71/100\n",
            "24000/24000 [==============================] - 36s 2ms/step - loss: 1.5548 - acc: 0.9484 - val_loss: 1.5630 - val_acc: 0.9596\n",
            "\n",
            "Epoch 00071: val_acc did not improve from 0.96372\n",
            "Epoch 72/100\n",
            "24000/24000 [==============================] - 36s 2ms/step - loss: 1.5547 - acc: 0.9492 - val_loss: 1.5624 - val_acc: 0.9312\n",
            "\n",
            "Epoch 00072: val_acc did not improve from 0.96372\n",
            "Epoch 73/100\n",
            "24000/24000 [==============================] - 36s 2ms/step - loss: 1.5547 - acc: 0.9487 - val_loss: 1.5636 - val_acc: 0.9634\n",
            "\n",
            "Epoch 00073: val_acc did not improve from 0.96372\n",
            "Epoch 74/100\n",
            "24000/24000 [==============================] - 36s 2ms/step - loss: 1.5546 - acc: 0.9498 - val_loss: 1.5625 - val_acc: 0.9604\n",
            "\n",
            "Epoch 00074: val_acc did not improve from 0.96372\n",
            "Epoch 75/100\n",
            "24000/24000 [==============================] - 36s 2ms/step - loss: 1.5545 - acc: 0.9498 - val_loss: 1.5624 - val_acc: 0.9432\n",
            "\n",
            "Epoch 00075: val_acc did not improve from 0.96372\n",
            "Epoch 76/100\n",
            "24000/24000 [==============================] - 36s 2ms/step - loss: 1.5545 - acc: 0.9496 - val_loss: 1.5626 - val_acc: 0.9602\n",
            "\n",
            "Epoch 00076: val_acc did not improve from 0.96372\n",
            "Epoch 77/100\n",
            "24000/24000 [==============================] - 36s 2ms/step - loss: 1.5544 - acc: 0.9498 - val_loss: 1.5624 - val_acc: 0.9639\n",
            "\n",
            "Epoch 00077: val_acc improved from 0.96372 to 0.96395, saving model to face_autoencoder.h5\n",
            "Epoch 78/100\n",
            "24000/24000 [==============================] - 36s 2ms/step - loss: 1.5545 - acc: 0.9500 - val_loss: 1.5628 - val_acc: 0.9404\n",
            "\n",
            "Epoch 00078: val_acc did not improve from 0.96395\n",
            "Epoch 79/100\n",
            "24000/24000 [==============================] - 36s 2ms/step - loss: 1.5544 - acc: 0.9504 - val_loss: 1.5628 - val_acc: 0.9219\n",
            "\n",
            "Epoch 00079: val_acc did not improve from 0.96395\n",
            "Epoch 80/100\n",
            "24000/24000 [==============================] - 36s 2ms/step - loss: 1.5544 - acc: 0.9491 - val_loss: 1.5632 - val_acc: 0.9520\n",
            "\n",
            "Epoch 00080: val_acc did not improve from 0.96395\n",
            "Epoch 81/100\n",
            "24000/24000 [==============================] - 36s 2ms/step - loss: 1.5544 - acc: 0.9505 - val_loss: 1.5620 - val_acc: 0.9473\n",
            "\n",
            "Epoch 00081: val_acc did not improve from 0.96395\n",
            "Epoch 82/100\n",
            "24000/24000 [==============================] - 36s 2ms/step - loss: 1.5543 - acc: 0.9503 - val_loss: 1.5623 - val_acc: 0.9416\n",
            "\n",
            "Epoch 00082: val_acc did not improve from 0.96395\n",
            "Epoch 83/100\n",
            "24000/24000 [==============================] - 36s 2ms/step - loss: 1.5542 - acc: 0.9509 - val_loss: 1.5622 - val_acc: 0.9630\n",
            "\n",
            "Epoch 00083: val_acc did not improve from 0.96395\n",
            "Epoch 84/100\n",
            "24000/24000 [==============================] - 36s 2ms/step - loss: 1.5543 - acc: 0.9508 - val_loss: 1.5626 - val_acc: 0.9449\n",
            "\n",
            "Epoch 00084: val_acc did not improve from 0.96395\n",
            "Epoch 85/100\n",
            "24000/24000 [==============================] - 36s 2ms/step - loss: 1.5543 - acc: 0.9508 - val_loss: 1.5626 - val_acc: 0.9606\n",
            "\n",
            "Epoch 00085: val_acc did not improve from 0.96395\n",
            "Epoch 86/100\n",
            "24000/24000 [==============================] - 36s 2ms/step - loss: 1.5545 - acc: 0.9497 - val_loss: 1.5832 - val_acc: 0.8164\n",
            "\n",
            "Epoch 00086: val_acc did not improve from 0.96395\n",
            "Epoch 87/100\n",
            "24000/24000 [==============================] - 36s 2ms/step - loss: 1.5549 - acc: 0.9480 - val_loss: 1.5659 - val_acc: 0.9202\n",
            "\n",
            "Epoch 00087: val_acc did not improve from 0.96395\n",
            "Epoch 88/100\n",
            "24000/24000 [==============================] - 36s 2ms/step - loss: 1.5545 - acc: 0.9505 - val_loss: 1.5629 - val_acc: 0.9460\n",
            "\n",
            "Epoch 00088: val_acc did not improve from 0.96395\n",
            "Epoch 89/100\n",
            "24000/24000 [==============================] - 36s 2ms/step - loss: 1.5543 - acc: 0.9501 - val_loss: 1.5632 - val_acc: 0.9483\n",
            "\n",
            "Epoch 00089: val_acc did not improve from 0.96395\n",
            "Epoch 90/100\n",
            "24000/24000 [==============================] - 36s 2ms/step - loss: 1.5543 - acc: 0.9501 - val_loss: 1.5655 - val_acc: 0.9302\n",
            "\n",
            "Epoch 00090: val_acc did not improve from 0.96395\n",
            "Epoch 91/100\n",
            "24000/24000 [==============================] - 36s 2ms/step - loss: 1.5542 - acc: 0.9502 - val_loss: 1.5625 - val_acc: 0.9297\n",
            "\n",
            "Epoch 00091: val_acc did not improve from 0.96395\n",
            "Epoch 92/100\n",
            "24000/24000 [==============================] - 36s 2ms/step - loss: 1.5541 - acc: 0.9513 - val_loss: 1.5625 - val_acc: 0.9396\n",
            "\n",
            "Epoch 00092: val_acc did not improve from 0.96395\n",
            "Epoch 93/100\n",
            "24000/24000 [==============================] - 36s 2ms/step - loss: 1.5541 - acc: 0.9516 - val_loss: 1.5624 - val_acc: 0.9624\n",
            "\n",
            "Epoch 00093: val_acc did not improve from 0.96395\n",
            "Epoch 94/100\n",
            "24000/24000 [==============================] - 36s 2ms/step - loss: 1.5541 - acc: 0.9517 - val_loss: 1.5624 - val_acc: 0.9376\n",
            "\n",
            "Epoch 00094: val_acc did not improve from 0.96395\n",
            "Epoch 95/100\n",
            "24000/24000 [==============================] - 36s 2ms/step - loss: 1.5540 - acc: 0.9511 - val_loss: 1.5621 - val_acc: 0.9653\n",
            "\n",
            "Epoch 00095: val_acc improved from 0.96395 to 0.96535, saving model to face_autoencoder.h5\n",
            "Epoch 96/100\n",
            "24000/24000 [==============================] - 36s 2ms/step - loss: 1.5540 - acc: 0.9514 - val_loss: 1.5625 - val_acc: 0.9263\n",
            "\n",
            "Epoch 00096: val_acc did not improve from 0.96535\n",
            "Epoch 97/100\n",
            "24000/24000 [==============================] - 36s 2ms/step - loss: 1.5540 - acc: 0.9516 - val_loss: 1.5624 - val_acc: 0.9496\n",
            "\n",
            "Epoch 00097: val_acc did not improve from 0.96535\n",
            "Epoch 98/100\n",
            "24000/24000 [==============================] - 36s 2ms/step - loss: 1.5542 - acc: 0.9502 - val_loss: 1.5625 - val_acc: 0.9408\n",
            "\n",
            "Epoch 00098: val_acc did not improve from 0.96535\n",
            "Epoch 99/100\n",
            "24000/24000 [==============================] - 36s 2ms/step - loss: 1.5543 - acc: 0.9507 - val_loss: 1.5628 - val_acc: 0.9624\n",
            "\n",
            "Epoch 00099: val_acc did not improve from 0.96535\n",
            "Epoch 100/100\n",
            "24000/24000 [==============================] - 36s 2ms/step - loss: 1.5541 - acc: 0.9518 - val_loss: 1.5630 - val_acc: 0.9259\n",
            "\n",
            "Epoch 00100: val_acc did not improve from 0.96535\n"
          ],
          "name": "stdout"
        }
      ]
    },
    {
      "cell_type": "code",
      "metadata": {
        "id": "4Gits8TcFkRG",
        "colab_type": "code",
        "colab": {
          "base_uri": "https://localhost:8080/",
          "height": 281
        },
        "outputId": "c729ce6c-6a2d-49c4-8d26-c3df7ec1e6a9"
      },
      "source": [
        "loss = autoencoder_train.history['loss']\n",
        "val_loss = autoencoder_train.history['val_loss']\n",
        "epochs = range(100)\n",
        "plt.figure()\n",
        "plt.plot(epochs, loss, 'bo', label = 'Training Loss')\n",
        "plt.plot(epochs, val_loss, 'b', label = 'Validation Loss')\n",
        "plt.title('Training and Validation Loss for Autoencoder Faces Model')\n",
        "plt.legend()\n",
        "plt.show()"
      ],
      "execution_count": 20,
      "outputs": [
        {
          "output_type": "display_data",
          "data": {
            "image/png": "[encoded data removed]",
            "text/plain": [
              "<Figure size 432x288 with 1 Axes>"
            ]
          },
          "metadata": {
            "tags": []
          }
        }
      ]
    },
    {
      "cell_type": "code",
      "metadata": {
        "id": "JlUQOLuqGDdT",
        "colab_type": "code",
        "colab": {}
      },
      "source": [
        "autoencoder.save_weights('Autoencoder_Faces_Weights.h5')"
      ],
      "execution_count": 0,
      "outputs": []
    },
    {
      "cell_type": "code",
      "metadata": {
        "id": "oCo4pjT6GSqA",
        "colab_type": "code",
        "colab": {}
      },
      "source": [
        "input_img = Input(shape = (64, 64, 3))\n",
        "x = Conv2D(32, (3,3), activation = 'relu', padding = 'same')(input_img)\n",
        "x = BatchNormalization()(x)\n",
        "x = Conv2D(32, (3,3), activation = 'relu', padding = 'same')(x)\n",
        "x = BatchNormalization()(x)\n",
        "x = MaxPooling2D((2,2), padding = 'same')(x)\n",
        "\n",
        "x = Conv2D(64, (3,3), activation = 'relu', padding = 'same')(x)\n",
        "x = BatchNormalization()(x)\n",
        "x = Conv2D(64, (3,3), activation = 'relu', padding = 'same')(x)\n",
        "x = BatchNormalization()(x)\n",
        "x = MaxPooling2D((2,2), padding = 'same')(x)\n",
        "\n",
        "x = Conv2D(128, (3,3), activation = 'relu', padding = 'same')(x)\n",
        "x = BatchNormalization()(x)\n",
        "x = Conv2D(128, (3,3), activation = 'relu', padding = 'same')(x)\n",
        "x = BatchNormalization()(x)\n",
        "x = MaxPooling2D((2,2), padding = 'same')(x)\n",
        "\n",
        "x = Conv2D(256, (3,3), activation = 'relu', padding = 'same')(x)\n",
        "x = BatchNormalization()(x)\n",
        "x = Conv2D(256, (3,3), activation = 'relu', padding = 'same')(x)\n",
        "x = BatchNormalization()(x)\n",
        "x = MaxPooling2D((2,2), padding = 'same')(x)\n",
        "\n",
        "x = Conv2D(512, (3,3), activation = 'relu', padding = 'same')(x)\n",
        "x = BatchNormalization()(x)\n",
        "x = Conv2D(512, (3,3), activation = 'relu', padding = 'same')(x)\n",
        "x = BatchNormalization()(x)\n",
        "x = MaxPooling2D((2,2), padding = 'same')(x)\n",
        "\n",
        "x = Flatten()(x)\n",
        "x = Dense(128, activation = 'relu')(x)\n",
        "output = Dense(160, activation = 'softmax')(x)"
      ],
      "execution_count": 0,
      "outputs": []
    },
    {
      "cell_type": "code",
      "metadata": {
        "id": "fHUP0gmKGjWD",
        "colab_type": "code",
        "colab": {}
      },
      "source": [
        "full_model = Model(input_img, output)"
      ],
      "execution_count": 0,
      "outputs": []
    },
    {
      "cell_type": "code",
      "metadata": {
        "id": "Hbk5Qxa7Gr_a",
        "colab_type": "code",
        "colab": {
          "base_uri": "https://localhost:8080/",
          "height": 34
        },
        "outputId": "cd75c664-bf02-45d8-fdbd-cf62656ce439"
      },
      "source": [
        "len(full_model.layers)"
      ],
      "execution_count": 24,
      "outputs": [
        {
          "output_type": "execute_result",
          "data": {
            "text/plain": [
              "29"
            ]
          },
          "metadata": {
            "tags": []
          },
          "execution_count": 24
        }
      ]
    },
    {
      "cell_type": "code",
      "metadata": {
        "id": "_kKQhQ9UOaUz",
        "colab_type": "code",
        "colab": {}
      },
      "source": [
        "for l1, l2 in zip(full_model.layers[:26], autoencoder.layers[0:26]):\n",
        "  l1.set_weights(l2.get_weights())"
      ],
      "execution_count": 0,
      "outputs": []
    },
    {
      "cell_type": "code",
      "metadata": {
        "id": "C8jtDWBJOsYe",
        "colab_type": "code",
        "colab": {
          "base_uri": "https://localhost:8080/",
          "height": 1000
        },
        "outputId": "4c0be305-b06f-4367-cfca-48b3bed50f59"
      },
      "source": [
        "autoencoder.get_weights()[0][1]"
      ],
      "execution_count": 26,
      "outputs": [
        {
          "output_type": "execute_result",
          "data": {
            "text/plain": [
              "array([[[-0.13205335, -0.09362765, -0.01680565, -0.04386548,\n",
              "          0.07735714, -0.11334502, -0.07388371, -0.10048779,\n",
              "         -0.03278591, -0.04950107, -0.11741651, -0.09982558,\n",
              "         -0.05605496,  0.05711193,  0.10572096,  0.01279089,\n",
              "          0.05406658,  0.17087547, -0.14371319, -0.17108881,\n",
              "         -0.04456146, -0.09664675, -0.03279164, -0.12719059,\n",
              "         -0.12144398,  0.08033599,  0.01919387, -0.0389156 ,\n",
              "          0.11676726,  0.00249902,  0.05575931, -0.09397209],\n",
              "        [ 0.14094172, -0.01029029,  0.02237911, -0.03719529,\n",
              "         -0.13880298,  0.15350087,  0.06964681,  0.06165554,\n",
              "         -0.08416193,  0.10543042, -0.06946059, -0.02356171,\n",
              "         -0.11121215,  0.1073991 , -0.01460132,  0.02247388,\n",
              "         -0.0888775 , -0.02956122,  0.11848701,  0.09147485,\n",
              "         -0.02630254, -0.08377942, -0.02699859,  0.04592564,\n",
              "          0.00887432, -0.00145939, -0.09636784,  0.03761072,\n",
              "          0.12377509,  0.025453  , -0.09374881, -0.05756369],\n",
              "        [-0.12921423,  0.01772832,  0.02646222,  0.09997018,\n",
              "         -0.05038928,  0.07211085, -0.22740343, -0.07813768,\n",
              "         -0.02537345,  0.06791748,  0.11224626,  0.04094896,\n",
              "         -0.0711529 , -0.06046744, -0.00307095, -0.08520128,\n",
              "         -0.11942668,  0.12658875,  0.00523348,  0.06426585,\n",
              "          0.01943443, -0.00565018, -0.01786437, -0.03555846,\n",
              "         -0.10002063,  0.06027343, -0.17950574,  0.03725369,\n",
              "         -0.04881087,  0.01909754, -0.08996093,  0.0401978 ]],\n",
              "\n",
              "       [[ 0.0193815 ,  0.05626787, -0.00921385, -0.1314007 ,\n",
              "          0.0682616 ,  0.05647175, -0.02897102, -0.07452135,\n",
              "         -0.06969136,  0.03222447, -0.21201012,  0.07250997,\n",
              "         -0.12412751,  0.08571348, -0.17023423,  0.10138941,\n",
              "          0.04243255,  0.15406501,  0.10143196,  0.04492036,\n",
              "          0.13680297,  0.01121611, -0.0047555 , -0.08178785,\n",
              "          0.00414117, -0.0105559 ,  0.03437811,  0.11183427,\n",
              "         -0.03739339,  0.03480688,  0.13002819,  0.0929336 ],\n",
              "        [ 0.07570211, -0.04337774, -0.04518161,  0.06459163,\n",
              "         -0.13627858,  0.02961803, -0.12108517,  0.12427182,\n",
              "          0.10328227,  0.02245581, -0.05473488, -0.08092034,\n",
              "         -0.13369003,  0.06860709,  0.00937294, -0.18628156,\n",
              "          0.10148378, -0.09267414,  0.10052262, -0.14206712,\n",
              "         -0.09504555, -0.00203549,  0.04350807, -0.06331433,\n",
              "         -0.02289447,  0.08282471, -0.06794012,  0.00867085,\n",
              "          0.0254095 , -0.01322179, -0.00987783, -0.07581514],\n",
              "        [-0.16680811, -0.00485498, -0.0725069 , -0.03668496,\n",
              "          0.08358581, -0.02614287,  0.00328205,  0.08040123,\n",
              "         -0.12881246, -0.03112285,  0.11859076,  0.0108146 ,\n",
              "          0.00094866,  0.10531337,  0.13335098,  0.13716505,\n",
              "          0.14236967,  0.14275958,  0.0306986 , -0.2027632 ,\n",
              "         -0.12883498, -0.11033965,  0.09760774, -0.10993281,\n",
              "         -0.1249188 , -0.10202182, -0.02008436,  0.03821601,\n",
              "         -0.06902621, -0.10711002, -0.06571396, -0.02738333]],\n",
              "\n",
              "       [[ 0.13190661, -0.16755152, -0.11924703, -0.07965473,\n",
              "          0.0043049 , -0.07285844, -0.16975395,  0.08380751,\n",
              "          0.00158847, -0.09403025, -0.28202823,  0.04209121,\n",
              "          0.02382753,  0.05406927, -0.11823022, -0.11020894,\n",
              "         -0.08541013,  0.12714386, -0.14134103, -0.12376044,\n",
              "          0.16699299,  0.00730587, -0.05709048, -0.03709116,\n",
              "          0.09520087,  0.08963291,  0.03657654, -0.0718969 ,\n",
              "         -0.10035307,  0.10331842,  0.18104017, -0.11340509],\n",
              "        [ 0.00412642,  0.03526943, -0.06839928,  0.0603895 ,\n",
              "         -0.0735475 ,  0.0643898 ,  0.08901834,  0.07244492,\n",
              "          0.07101136,  0.04613558, -0.12103466, -0.12851132,\n",
              "          0.03441638, -0.05002682, -0.0124424 , -0.06536866,\n",
              "         -0.05174933, -0.08538207,  0.0256893 , -0.05073824,\n",
              "         -0.12762322, -0.00453886,  0.02406148,  0.04646151,\n",
              "          0.08123112,  0.04570274, -0.00096401, -0.00668232,\n",
              "          0.08146043,  0.07712962, -0.03841978,  0.08130332],\n",
              "        [-0.03607495,  0.12314101, -0.07463835,  0.08197296,\n",
              "         -0.08661509,  0.10864192, -0.14624387, -0.08773415,\n",
              "          0.05443984,  0.08159544,  0.10191647, -0.03955129,\n",
              "         -0.08790666, -0.15061039, -0.06500787,  0.05008211,\n",
              "         -0.02845753,  0.10993614, -0.03948639,  0.11187625,\n",
              "          0.03114719,  0.14167064, -0.05625946, -0.0036158 ,\n",
              "         -0.11788259, -0.06510469,  0.07803108, -0.09041504,\n",
              "         -0.14057267, -0.13031714, -0.10903911, -0.12969318]]],\n",
              "      dtype=float32)"
            ]
          },
          "metadata": {
            "tags": []
          },
          "execution_count": 26
        }
      ]
    },
    {
      "cell_type": "code",
      "metadata": {
        "id": "QulZsGIqOwaC",
        "colab_type": "code",
        "colab": {
          "base_uri": "https://localhost:8080/",
          "height": 1000
        },
        "outputId": "89c2f60d-3bd3-4cbe-d66f-bd22af3886c3"
      },
      "source": [
        "full_model.get_weights()[0][1]"
      ],
      "execution_count": 27,
      "outputs": [
        {
          "output_type": "execute_result",
          "data": {
            "text/plain": [
              "array([[[-0.13205335, -0.09362765, -0.01680565, -0.04386548,\n",
              "          0.07735714, -0.11334502, -0.07388371, -0.10048779,\n",
              "         -0.03278591, -0.04950107, -0.11741651, -0.09982558,\n",
              "         -0.05605496,  0.05711193,  0.10572096,  0.01279089,\n",
              "          0.05406658,  0.17087547, -0.14371319, -0.17108881,\n",
              "         -0.04456146, -0.09664675, -0.03279164, -0.12719059,\n",
              "         -0.12144398,  0.08033599,  0.01919387, -0.0389156 ,\n",
              "          0.11676726,  0.00249902,  0.05575931, -0.09397209],\n",
              "        [ 0.14094172, -0.01029029,  0.02237911, -0.03719529,\n",
              "         -0.13880298,  0.15350087,  0.06964681,  0.06165554,\n",
              "         -0.08416193,  0.10543042, -0.06946059, -0.02356171,\n",
              "         -0.11121215,  0.1073991 , -0.01460132,  0.02247388,\n",
              "         -0.0888775 , -0.02956122,  0.11848701,  0.09147485,\n",
              "         -0.02630254, -0.08377942, -0.02699859,  0.04592564,\n",
              "          0.00887432, -0.00145939, -0.09636784,  0.03761072,\n",
              "          0.12377509,  0.025453  , -0.09374881, -0.05756369],\n",
              "        [-0.12921423,  0.01772832,  0.02646222,  0.09997018,\n",
              "         -0.05038928,  0.07211085, -0.22740343, -0.07813768,\n",
              "         -0.02537345,  0.06791748,  0.11224626,  0.04094896,\n",
              "         -0.0711529 , -0.06046744, -0.00307095, -0.08520128,\n",
              "         -0.11942668,  0.12658875,  0.00523348,  0.06426585,\n",
              "          0.01943443, -0.00565018, -0.01786437, -0.03555846,\n",
              "         -0.10002063,  0.06027343, -0.17950574,  0.03725369,\n",
              "         -0.04881087,  0.01909754, -0.08996093,  0.0401978 ]],\n",
              "\n",
              "       [[ 0.0193815 ,  0.05626787, -0.00921385, -0.1314007 ,\n",
              "          0.0682616 ,  0.05647175, -0.02897102, -0.07452135,\n",
              "         -0.06969136,  0.03222447, -0.21201012,  0.07250997,\n",
              "         -0.12412751,  0.08571348, -0.17023423,  0.10138941,\n",
              "          0.04243255,  0.15406501,  0.10143196,  0.04492036,\n",
              "          0.13680297,  0.01121611, -0.0047555 , -0.08178785,\n",
              "          0.00414117, -0.0105559 ,  0.03437811,  0.11183427,\n",
              "         -0.03739339,  0.03480688,  0.13002819,  0.0929336 ],\n",
              "        [ 0.07570211, -0.04337774, -0.04518161,  0.06459163,\n",
              "         -0.13627858,  0.02961803, -0.12108517,  0.12427182,\n",
              "          0.10328227,  0.02245581, -0.05473488, -0.08092034,\n",
              "         -0.13369003,  0.06860709,  0.00937294, -0.18628156,\n",
              "          0.10148378, -0.09267414,  0.10052262, -0.14206712,\n",
              "         -0.09504555, -0.00203549,  0.04350807, -0.06331433,\n",
              "         -0.02289447,  0.08282471, -0.06794012,  0.00867085,\n",
              "          0.0254095 , -0.01322179, -0.00987783, -0.07581514],\n",
              "        [-0.16680811, -0.00485498, -0.0725069 , -0.03668496,\n",
              "          0.08358581, -0.02614287,  0.00328205,  0.08040123,\n",
              "         -0.12881246, -0.03112285,  0.11859076,  0.0108146 ,\n",
              "          0.00094866,  0.10531337,  0.13335098,  0.13716505,\n",
              "          0.14236967,  0.14275958,  0.0306986 , -0.2027632 ,\n",
              "         -0.12883498, -0.11033965,  0.09760774, -0.10993281,\n",
              "         -0.1249188 , -0.10202182, -0.02008436,  0.03821601,\n",
              "         -0.06902621, -0.10711002, -0.06571396, -0.02738333]],\n",
              "\n",
              "       [[ 0.13190661, -0.16755152, -0.11924703, -0.07965473,\n",
              "          0.0043049 , -0.07285844, -0.16975395,  0.08380751,\n",
              "          0.00158847, -0.09403025, -0.28202823,  0.04209121,\n",
              "          0.02382753,  0.05406927, -0.11823022, -0.11020894,\n",
              "         -0.08541013,  0.12714386, -0.14134103, -0.12376044,\n",
              "          0.16699299,  0.00730587, -0.05709048, -0.03709116,\n",
              "          0.09520087,  0.08963291,  0.03657654, -0.0718969 ,\n",
              "         -0.10035307,  0.10331842,  0.18104017, -0.11340509],\n",
              "        [ 0.00412642,  0.03526943, -0.06839928,  0.0603895 ,\n",
              "         -0.0735475 ,  0.0643898 ,  0.08901834,  0.07244492,\n",
              "          0.07101136,  0.04613558, -0.12103466, -0.12851132,\n",
              "          0.03441638, -0.05002682, -0.0124424 , -0.06536866,\n",
              "         -0.05174933, -0.08538207,  0.0256893 , -0.05073824,\n",
              "         -0.12762322, -0.00453886,  0.02406148,  0.04646151,\n",
              "          0.08123112,  0.04570274, -0.00096401, -0.00668232,\n",
              "          0.08146043,  0.07712962, -0.03841978,  0.08130332],\n",
              "        [-0.03607495,  0.12314101, -0.07463835,  0.08197296,\n",
              "         -0.08661509,  0.10864192, -0.14624387, -0.08773415,\n",
              "          0.05443984,  0.08159544,  0.10191647, -0.03955129,\n",
              "         -0.08790666, -0.15061039, -0.06500787,  0.05008211,\n",
              "         -0.02845753,  0.10993614, -0.03948639,  0.11187625,\n",
              "          0.03114719,  0.14167064, -0.05625946, -0.0036158 ,\n",
              "         -0.11788259, -0.06510469,  0.07803108, -0.09041504,\n",
              "         -0.14057267, -0.13031714, -0.10903911, -0.12969318]]],\n",
              "      dtype=float32)"
            ]
          },
          "metadata": {
            "tags": []
          },
          "execution_count": 27
        }
      ]
    },
    {
      "cell_type": "code",
      "metadata": {
        "id": "umKs2Qa7O4mC",
        "colab_type": "code",
        "colab": {}
      },
      "source": [
        "for layer in full_model.layers[0:26]:\n",
        "  layer.trainable = False"
      ],
      "execution_count": 0,
      "outputs": []
    },
    {
      "cell_type": "code",
      "metadata": {
        "id": "4vrn8ALcO8CQ",
        "colab_type": "code",
        "colab": {}
      },
      "source": [
        "full_model.compile(loss = 'categorical_crossentropy', metrics = ['accuracy'], optimizer = 'adam')"
      ],
      "execution_count": 0,
      "outputs": []
    },
    {
      "cell_type": "code",
      "metadata": {
        "id": "Uic8dkv1PBsj",
        "colab_type": "code",
        "colab": {
          "base_uri": "https://localhost:8080/",
          "height": 1000
        },
        "outputId": "b96c74b4-7619-41fd-9ecb-3d5815a093fa"
      },
      "source": [
        "full_model.summary()"
      ],
      "execution_count": 30,
      "outputs": [
        {
          "output_type": "stream",
          "text": [
            "Model: \"model_2\"\n",
            "_________________________________________________________________\n",
            "Layer (type)                 Output Shape              Param #   \n",
            "=================================================================\n",
            "input_2 (InputLayer)         (None, 64, 64, 3)         0         \n",
            "_________________________________________________________________\n",
            "conv2d_22 (Conv2D)           (None, 64, 64, 32)        896       \n",
            "_________________________________________________________________\n",
            "batch_normalization_21 (Batc (None, 64, 64, 32)        128       \n",
            "_________________________________________________________________\n",
            "conv2d_23 (Conv2D)           (None, 64, 64, 32)        9248      \n",
            "_________________________________________________________________\n",
            "batch_normalization_22 (Batc (None, 64, 64, 32)        128       \n",
            "_________________________________________________________________\n",
            "max_pooling2d_6 (MaxPooling2 (None, 32, 32, 32)        0         \n",
            "_________________________________________________________________\n",
            "conv2d_24 (Conv2D)           (None, 32, 32, 64)        18496     \n",
            "_________________________________________________________________\n",
            "batch_normalization_23 (Batc (None, 32, 32, 64)        256       \n",
            "_________________________________________________________________\n",
            "conv2d_25 (Conv2D)           (None, 32, 32, 64)        36928     \n",
            "_________________________________________________________________\n",
            "batch_normalization_24 (Batc (None, 32, 32, 64)        256       \n",
            "_________________________________________________________________\n",
            "max_pooling2d_7 (MaxPooling2 (None, 16, 16, 64)        0         \n",
            "_________________________________________________________________\n",
            "conv2d_26 (Conv2D)           (None, 16, 16, 128)       73856     \n",
            "_________________________________________________________________\n",
            "batch_normalization_25 (Batc (None, 16, 16, 128)       512       \n",
            "_________________________________________________________________\n",
            "conv2d_27 (Conv2D)           (None, 16, 16, 128)       147584    \n",
            "_________________________________________________________________\n",
            "batch_normalization_26 (Batc (None, 16, 16, 128)       512       \n",
            "_________________________________________________________________\n",
            "max_pooling2d_8 (MaxPooling2 (None, 8, 8, 128)         0         \n",
            "_________________________________________________________________\n",
            "conv2d_28 (Conv2D)           (None, 8, 8, 256)         295168    \n",
            "_________________________________________________________________\n",
            "batch_normalization_27 (Batc (None, 8, 8, 256)         1024      \n",
            "_________________________________________________________________\n",
            "conv2d_29 (Conv2D)           (None, 8, 8, 256)         590080    \n",
            "_________________________________________________________________\n",
            "batch_normalization_28 (Batc (None, 8, 8, 256)         1024      \n",
            "_________________________________________________________________\n",
            "max_pooling2d_9 (MaxPooling2 (None, 4, 4, 256)         0         \n",
            "_________________________________________________________________\n",
            "conv2d_30 (Conv2D)           (None, 4, 4, 512)         1180160   \n",
            "_________________________________________________________________\n",
            "batch_normalization_29 (Batc (None, 4, 4, 512)         2048      \n",
            "_________________________________________________________________\n",
            "conv2d_31 (Conv2D)           (None, 4, 4, 512)         2359808   \n",
            "_________________________________________________________________\n",
            "batch_normalization_30 (Batc (None, 4, 4, 512)         2048      \n",
            "_________________________________________________________________\n",
            "max_pooling2d_10 (MaxPooling (None, 2, 2, 512)         0         \n",
            "_________________________________________________________________\n",
            "flatten_1 (Flatten)          (None, 2048)              0         \n",
            "_________________________________________________________________\n",
            "dense_1 (Dense)              (None, 128)               262272    \n",
            "_________________________________________________________________\n",
            "dense_2 (Dense)              (None, 160)               20640     \n",
            "=================================================================\n",
            "Total params: 5,003,072\n",
            "Trainable params: 282,912\n",
            "Non-trainable params: 4,720,160\n",
            "_________________________________________________________________\n"
          ],
          "name": "stdout"
        }
      ]
    },
    {
      "cell_type": "code",
      "metadata": {
        "id": "VaSjjcXuPD4J",
        "colab_type": "code",
        "colab": {
          "base_uri": "https://localhost:8080/",
          "height": 1000
        },
        "outputId": "2fb93cff-a160-4d2d-8e1f-051373e2c725"
      },
      "source": [
        "filepath = 'pretrained_face_best_weights.h5'\n",
        "checkpoint = ModelCheckpoint(filepath, monitor = 'val_acc', verbose = 1, save_best_only = True, mode = 'max')\n",
        "callbacks_list = [checkpoint]\n",
        "pretrained_classifier_train = full_model.fit(X_train, y_train, epochs = 100, batch_size = 256, verbose = 1, callbacks = callbacks_list, validation_data = [X_val, y_val])"
      ],
      "execution_count": 31,
      "outputs": [
        {
          "output_type": "stream",
          "text": [
            "Train on 24000 samples, validate on 7994 samples\n",
            "Epoch 1/100\n",
            "24000/24000 [==============================] - 11s 462us/step - loss: 4.7028 - acc: 0.0591 - val_loss: 3.9413 - val_acc: 0.1566\n",
            "\n",
            "Epoch 00001: val_acc improved from -inf to 0.15662, saving model to pretrained_face_best_weights.h5\n",
            "Epoch 2/100\n",
            "24000/24000 [==============================] - 10s 416us/step - loss: 3.1899 - acc: 0.2768 - val_loss: 2.7404 - val_acc: 0.3459\n",
            "\n",
            "Epoch 00002: val_acc improved from 0.15662 to 0.34588, saving model to pretrained_face_best_weights.h5\n",
            "Epoch 3/100\n",
            "24000/24000 [==============================] - 10s 419us/step - loss: 2.2909 - acc: 0.4450 - val_loss: 2.2334 - val_acc: 0.4463\n",
            "\n",
            "Epoch 00003: val_acc improved from 0.34588 to 0.44633, saving model to pretrained_face_best_weights.h5\n",
            "Epoch 4/100\n",
            "24000/24000 [==============================] - 10s 415us/step - loss: 1.7969 - acc: 0.5585 - val_loss: 1.8286 - val_acc: 0.5425\n",
            "\n",
            "Epoch 00004: val_acc improved from 0.44633 to 0.54253, saving model to pretrained_face_best_weights.h5\n",
            "Epoch 5/100\n",
            "24000/24000 [==============================] - 10s 416us/step - loss: 1.5024 - acc: 0.6252 - val_loss: 1.6462 - val_acc: 0.5844\n",
            "\n",
            "Epoch 00005: val_acc improved from 0.54253 to 0.58444, saving model to pretrained_face_best_weights.h5\n",
            "Epoch 6/100\n",
            "24000/24000 [==============================] - 10s 416us/step - loss: 1.2886 - acc: 0.6821 - val_loss: 1.4716 - val_acc: 0.6328\n",
            "\n",
            "Epoch 00006: val_acc improved from 0.58444 to 0.63285, saving model to pretrained_face_best_weights.h5\n",
            "Epoch 7/100\n",
            "24000/24000 [==============================] - 10s 417us/step - loss: 1.1229 - acc: 0.7229 - val_loss: 1.3623 - val_acc: 0.6546\n",
            "\n",
            "Epoch 00007: val_acc improved from 0.63285 to 0.65462, saving model to pretrained_face_best_weights.h5\n",
            "Epoch 8/100\n",
            "24000/24000 [==============================] - 10s 418us/step - loss: 0.9990 - acc: 0.7548 - val_loss: 1.2580 - val_acc: 0.6815\n",
            "\n",
            "Epoch 00008: val_acc improved from 0.65462 to 0.68151, saving model to pretrained_face_best_weights.h5\n",
            "Epoch 9/100\n",
            "24000/24000 [==============================] - 10s 418us/step - loss: 0.9003 - acc: 0.7788 - val_loss: 1.2051 - val_acc: 0.6971\n",
            "\n",
            "Epoch 00009: val_acc improved from 0.68151 to 0.69715, saving model to pretrained_face_best_weights.h5\n",
            "Epoch 10/100\n",
            "24000/24000 [==============================] - 10s 417us/step - loss: 0.8280 - acc: 0.7952 - val_loss: 1.1660 - val_acc: 0.7030\n",
            "\n",
            "Epoch 00010: val_acc improved from 0.69715 to 0.70303, saving model to pretrained_face_best_weights.h5\n",
            "Epoch 11/100\n",
            "24000/24000 [==============================] - 10s 417us/step - loss: 0.7484 - acc: 0.8185 - val_loss: 1.1265 - val_acc: 0.7125\n",
            "\n",
            "Epoch 00011: val_acc improved from 0.70303 to 0.71253, saving model to pretrained_face_best_weights.h5\n",
            "Epoch 12/100\n",
            "24000/24000 [==============================] - 10s 417us/step - loss: 0.6968 - acc: 0.8314 - val_loss: 1.0555 - val_acc: 0.7282\n",
            "\n",
            "Epoch 00012: val_acc improved from 0.71253 to 0.72817, saving model to pretrained_face_best_weights.h5\n",
            "Epoch 13/100\n",
            "24000/24000 [==============================] - 10s 416us/step - loss: 0.6455 - acc: 0.8413 - val_loss: 1.0207 - val_acc: 0.7401\n",
            "\n",
            "Epoch 00013: val_acc improved from 0.72817 to 0.74006, saving model to pretrained_face_best_weights.h5\n",
            "Epoch 14/100\n",
            "24000/24000 [==============================] - 10s 418us/step - loss: 0.6010 - acc: 0.8535 - val_loss: 1.0296 - val_acc: 0.7433\n",
            "\n",
            "Epoch 00014: val_acc improved from 0.74006 to 0.74331, saving model to pretrained_face_best_weights.h5\n",
            "Epoch 15/100\n",
            "24000/24000 [==============================] - 10s 418us/step - loss: 0.5511 - acc: 0.8660 - val_loss: 0.9530 - val_acc: 0.7588\n",
            "\n",
            "Epoch 00015: val_acc improved from 0.74331 to 0.75882, saving model to pretrained_face_best_weights.h5\n",
            "Epoch 16/100\n",
            "24000/24000 [==============================] - 10s 417us/step - loss: 0.5148 - acc: 0.8737 - val_loss: 0.9521 - val_acc: 0.7589\n",
            "\n",
            "Epoch 00016: val_acc improved from 0.75882 to 0.75894, saving model to pretrained_face_best_weights.h5\n",
            "Epoch 17/100\n",
            "24000/24000 [==============================] - 10s 417us/step - loss: 0.4792 - acc: 0.8860 - val_loss: 0.9167 - val_acc: 0.7743\n",
            "\n",
            "Epoch 00017: val_acc improved from 0.75894 to 0.77433, saving model to pretrained_face_best_weights.h5\n",
            "Epoch 18/100\n",
            "24000/24000 [==============================] - 10s 416us/step - loss: 0.4500 - acc: 0.8927 - val_loss: 0.9469 - val_acc: 0.7619\n",
            "\n",
            "Epoch 00018: val_acc did not improve from 0.77433\n",
            "Epoch 19/100\n",
            "24000/24000 [==============================] - 10s 419us/step - loss: 0.4281 - acc: 0.8945 - val_loss: 0.9237 - val_acc: 0.7721\n",
            "\n",
            "Epoch 00019: val_acc did not improve from 0.77433\n",
            "Epoch 20/100\n",
            "24000/24000 [==============================] - 10s 416us/step - loss: 0.4000 - acc: 0.9038 - val_loss: 0.8646 - val_acc: 0.7905\n",
            "\n",
            "Epoch 00020: val_acc improved from 0.77433 to 0.79047, saving model to pretrained_face_best_weights.h5\n",
            "Epoch 21/100\n",
            "24000/24000 [==============================] - 10s 416us/step - loss: 0.3735 - acc: 0.9116 - val_loss: 0.8623 - val_acc: 0.7842\n",
            "\n",
            "Epoch 00021: val_acc did not improve from 0.79047\n",
            "Epoch 22/100\n",
            "24000/24000 [==============================] - 10s 418us/step - loss: 0.3469 - acc: 0.9179 - val_loss: 0.8818 - val_acc: 0.7793\n",
            "\n",
            "Epoch 00022: val_acc did not improve from 0.79047\n",
            "Epoch 23/100\n",
            "24000/24000 [==============================] - 10s 418us/step - loss: 0.3346 - acc: 0.9197 - val_loss: 0.8177 - val_acc: 0.7990\n",
            "\n",
            "Epoch 00023: val_acc improved from 0.79047 to 0.79897, saving model to pretrained_face_best_weights.h5\n",
            "Epoch 24/100\n",
            "24000/24000 [==============================] - 10s 419us/step - loss: 0.3159 - acc: 0.9245 - val_loss: 0.8841 - val_acc: 0.7843\n",
            "\n",
            "Epoch 00024: val_acc did not improve from 0.79897\n",
            "Epoch 25/100\n",
            "24000/24000 [==============================] - 10s 419us/step - loss: 0.2930 - acc: 0.9302 - val_loss: 0.8189 - val_acc: 0.8010\n",
            "\n",
            "Epoch 00025: val_acc improved from 0.79897 to 0.80098, saving model to pretrained_face_best_weights.h5\n",
            "Epoch 26/100\n",
            "24000/24000 [==============================] - 10s 416us/step - loss: 0.2784 - acc: 0.9353 - val_loss: 0.8052 - val_acc: 0.8035\n",
            "\n",
            "Epoch 00026: val_acc improved from 0.80098 to 0.80348, saving model to pretrained_face_best_weights.h5\n",
            "Epoch 27/100\n",
            "24000/24000 [==============================] - 10s 417us/step - loss: 0.2711 - acc: 0.9363 - val_loss: 0.8260 - val_acc: 0.8011\n",
            "\n",
            "Epoch 00027: val_acc did not improve from 0.80348\n",
            "Epoch 28/100\n",
            "24000/24000 [==============================] - 10s 420us/step - loss: 0.2452 - acc: 0.9435 - val_loss: 0.7758 - val_acc: 0.8106\n",
            "\n",
            "Epoch 00028: val_acc improved from 0.80348 to 0.81061, saving model to pretrained_face_best_weights.h5\n",
            "Epoch 29/100\n",
            "24000/24000 [==============================] - 10s 417us/step - loss: 0.2326 - acc: 0.9468 - val_loss: 0.7807 - val_acc: 0.8126\n",
            "\n",
            "Epoch 00029: val_acc improved from 0.81061 to 0.81261, saving model to pretrained_face_best_weights.h5\n",
            "Epoch 30/100\n",
            "24000/24000 [==============================] - 10s 418us/step - loss: 0.2196 - acc: 0.9492 - val_loss: 0.8218 - val_acc: 0.8050\n",
            "\n",
            "Epoch 00030: val_acc did not improve from 0.81261\n",
            "Epoch 31/100\n",
            "24000/24000 [==============================] - 10s 419us/step - loss: 0.2088 - acc: 0.9538 - val_loss: 0.7830 - val_acc: 0.8196\n",
            "\n",
            "Epoch 00031: val_acc improved from 0.81261 to 0.81961, saving model to pretrained_face_best_weights.h5\n",
            "Epoch 32/100\n",
            "24000/24000 [==============================] - 10s 418us/step - loss: 0.1997 - acc: 0.9545 - val_loss: 0.8234 - val_acc: 0.8076\n",
            "\n",
            "Epoch 00032: val_acc did not improve from 0.81961\n",
            "Epoch 33/100\n",
            "24000/24000 [==============================] - 10s 417us/step - loss: 0.1834 - acc: 0.9604 - val_loss: 0.7922 - val_acc: 0.8141\n",
            "\n",
            "Epoch 00033: val_acc did not improve from 0.81961\n",
            "Epoch 34/100\n",
            "24000/24000 [==============================] - 10s 417us/step - loss: 0.1757 - acc: 0.9614 - val_loss: 0.7817 - val_acc: 0.8170\n",
            "\n",
            "Epoch 00034: val_acc did not improve from 0.81961\n",
            "Epoch 35/100\n",
            "24000/24000 [==============================] - 10s 419us/step - loss: 0.1636 - acc: 0.9640 - val_loss: 0.8401 - val_acc: 0.8094\n",
            "\n",
            "Epoch 00035: val_acc did not improve from 0.81961\n",
            "Epoch 36/100\n",
            "24000/24000 [==============================] - 10s 418us/step - loss: 0.1644 - acc: 0.9643 - val_loss: 0.8300 - val_acc: 0.8075\n",
            "\n",
            "Epoch 00036: val_acc did not improve from 0.81961\n",
            "Epoch 37/100\n",
            "24000/24000 [==============================] - 10s 417us/step - loss: 0.1458 - acc: 0.9706 - val_loss: 0.7717 - val_acc: 0.8236\n",
            "\n",
            "Epoch 00037: val_acc improved from 0.81961 to 0.82362, saving model to pretrained_face_best_weights.h5\n",
            "Epoch 38/100\n",
            "24000/24000 [==============================] - 10s 417us/step - loss: 0.1419 - acc: 0.9710 - val_loss: 0.7992 - val_acc: 0.8186\n",
            "\n",
            "Epoch 00038: val_acc did not improve from 0.82362\n",
            "Epoch 39/100\n",
            "24000/24000 [==============================] - 10s 417us/step - loss: 0.1346 - acc: 0.9726 - val_loss: 0.7717 - val_acc: 0.8267\n",
            "\n",
            "Epoch 00039: val_acc improved from 0.82362 to 0.82675, saving model to pretrained_face_best_weights.h5\n",
            "Epoch 40/100\n",
            "24000/24000 [==============================] - 10s 418us/step - loss: 0.1215 - acc: 0.9770 - val_loss: 0.7870 - val_acc: 0.8222\n",
            "\n",
            "Epoch 00040: val_acc did not improve from 0.82675\n",
            "Epoch 41/100\n",
            "24000/24000 [==============================] - 10s 418us/step - loss: 0.1152 - acc: 0.9787 - val_loss: 0.8278 - val_acc: 0.8166\n",
            "\n",
            "Epoch 00041: val_acc did not improve from 0.82675\n",
            "Epoch 42/100\n",
            "24000/24000 [==============================] - 10s 417us/step - loss: 0.1078 - acc: 0.9802 - val_loss: 0.8316 - val_acc: 0.8202\n",
            "\n",
            "Epoch 00042: val_acc did not improve from 0.82675\n",
            "Epoch 43/100\n",
            "24000/24000 [==============================] - 10s 417us/step - loss: 0.1075 - acc: 0.9796 - val_loss: 0.7695 - val_acc: 0.8301\n",
            "\n",
            "Epoch 00043: val_acc improved from 0.82675 to 0.83012, saving model to pretrained_face_best_weights.h5\n",
            "Epoch 44/100\n",
            "24000/24000 [==============================] - 10s 417us/step - loss: 0.0998 - acc: 0.9825 - val_loss: 0.8055 - val_acc: 0.8222\n",
            "\n",
            "Epoch 00044: val_acc did not improve from 0.83012\n",
            "Epoch 45/100\n",
            "24000/24000 [==============================] - 10s 418us/step - loss: 0.0956 - acc: 0.9823 - val_loss: 0.8108 - val_acc: 0.8255\n",
            "\n",
            "Epoch 00045: val_acc did not improve from 0.83012\n",
            "Epoch 46/100\n",
            "24000/24000 [==============================] - 10s 417us/step - loss: 0.0889 - acc: 0.9851 - val_loss: 0.7863 - val_acc: 0.8327\n",
            "\n",
            "Epoch 00046: val_acc improved from 0.83012 to 0.83275, saving model to pretrained_face_best_weights.h5\n",
            "Epoch 47/100\n",
            "24000/24000 [==============================] - 10s 415us/step - loss: 0.0875 - acc: 0.9843 - val_loss: 0.8444 - val_acc: 0.8181\n",
            "\n",
            "Epoch 00047: val_acc did not improve from 0.83275\n",
            "Epoch 48/100\n",
            "24000/24000 [==============================] - 10s 414us/step - loss: 0.0827 - acc: 0.9860 - val_loss: 0.8599 - val_acc: 0.8170\n",
            "\n",
            "Epoch 00048: val_acc did not improve from 0.83275\n",
            "Epoch 49/100\n",
            "24000/24000 [==============================] - 10s 416us/step - loss: 0.0756 - acc: 0.9879 - val_loss: 0.8226 - val_acc: 0.8280\n",
            "\n",
            "Epoch 00049: val_acc did not improve from 0.83275\n",
            "Epoch 50/100\n",
            "24000/24000 [==============================] - 10s 418us/step - loss: 0.0758 - acc: 0.9872 - val_loss: 0.8279 - val_acc: 0.8265\n",
            "\n",
            "Epoch 00050: val_acc did not improve from 0.83275\n",
            "Epoch 51/100\n",
            "24000/24000 [==============================] - 10s 418us/step - loss: 0.0696 - acc: 0.9888 - val_loss: 0.8584 - val_acc: 0.8211\n",
            "\n",
            "Epoch 00051: val_acc did not improve from 0.83275\n",
            "Epoch 52/100\n",
            "24000/24000 [==============================] - 10s 420us/step - loss: 0.0657 - acc: 0.9899 - val_loss: 0.8402 - val_acc: 0.8260\n",
            "\n",
            "Epoch 00052: val_acc did not improve from 0.83275\n",
            "Epoch 53/100\n",
            "24000/24000 [==============================] - 10s 417us/step - loss: 0.0631 - acc: 0.9897 - val_loss: 0.8421 - val_acc: 0.8212\n",
            "\n",
            "Epoch 00053: val_acc did not improve from 0.83275\n",
            "Epoch 54/100\n",
            "24000/24000 [==============================] - 10s 418us/step - loss: 0.0601 - acc: 0.9910 - val_loss: 0.8295 - val_acc: 0.8327\n",
            "\n",
            "Epoch 00054: val_acc improved from 0.83275 to 0.83275, saving model to pretrained_face_best_weights.h5\n",
            "Epoch 55/100\n",
            "24000/24000 [==============================] - 10s 413us/step - loss: 0.0602 - acc: 0.9908 - val_loss: 0.8461 - val_acc: 0.8301\n",
            "\n",
            "Epoch 00055: val_acc did not improve from 0.83275\n",
            "Epoch 56/100\n",
            "24000/24000 [==============================] - 10s 414us/step - loss: 0.0572 - acc: 0.9915 - val_loss: 0.8545 - val_acc: 0.8256\n",
            "\n",
            "Epoch 00056: val_acc did not improve from 0.83275\n",
            "Epoch 57/100\n",
            "24000/24000 [==============================] - 10s 414us/step - loss: 0.0517 - acc: 0.9930 - val_loss: 0.8530 - val_acc: 0.8281\n",
            "\n",
            "Epoch 00057: val_acc did not improve from 0.83275\n",
            "Epoch 58/100\n",
            "24000/24000 [==============================] - 10s 417us/step - loss: 0.0505 - acc: 0.9928 - val_loss: 0.8244 - val_acc: 0.8364\n",
            "\n",
            "Epoch 00058: val_acc improved from 0.83275 to 0.83638, saving model to pretrained_face_best_weights.h5\n",
            "Epoch 59/100\n",
            "24000/24000 [==============================] - 10s 414us/step - loss: 0.0490 - acc: 0.9926 - val_loss: 0.8712 - val_acc: 0.8227\n",
            "\n",
            "Epoch 00059: val_acc did not improve from 0.83638\n",
            "Epoch 60/100\n",
            "24000/24000 [==============================] - 10s 412us/step - loss: 0.0482 - acc: 0.9932 - val_loss: 0.8469 - val_acc: 0.8360\n",
            "\n",
            "Epoch 00060: val_acc did not improve from 0.83638\n",
            "Epoch 61/100\n",
            "24000/24000 [==============================] - 10s 414us/step - loss: 0.0522 - acc: 0.9908 - val_loss: 0.8675 - val_acc: 0.8295\n",
            "\n",
            "Epoch 00061: val_acc did not improve from 0.83638\n",
            "Epoch 62/100\n",
            "24000/24000 [==============================] - 10s 415us/step - loss: 0.0539 - acc: 0.9896 - val_loss: 0.8389 - val_acc: 0.8312\n",
            "\n",
            "Epoch 00062: val_acc did not improve from 0.83638\n",
            "Epoch 63/100\n",
            "24000/24000 [==============================] - 10s 417us/step - loss: 0.0531 - acc: 0.9903 - val_loss: 0.9040 - val_acc: 0.8232\n",
            "\n",
            "Epoch 00063: val_acc did not improve from 0.83638\n",
            "Epoch 64/100\n",
            "24000/24000 [==============================] - 10s 415us/step - loss: 0.0483 - acc: 0.9919 - val_loss: 0.8612 - val_acc: 0.8344\n",
            "\n",
            "Epoch 00064: val_acc did not improve from 0.83638\n",
            "Epoch 65/100\n",
            "24000/24000 [==============================] - 10s 414us/step - loss: 0.0441 - acc: 0.9934 - val_loss: 0.8874 - val_acc: 0.8266\n",
            "\n",
            "Epoch 00065: val_acc did not improve from 0.83638\n",
            "Epoch 66/100\n",
            "24000/24000 [==============================] - 10s 415us/step - loss: 0.0439 - acc: 0.9924 - val_loss: 0.8529 - val_acc: 0.8366\n",
            "\n",
            "Epoch 00066: val_acc improved from 0.83638 to 0.83663, saving model to pretrained_face_best_weights.h5\n",
            "Epoch 67/100\n",
            "24000/24000 [==============================] - 10s 414us/step - loss: 0.0447 - acc: 0.9925 - val_loss: 0.8975 - val_acc: 0.8269\n",
            "\n",
            "Epoch 00067: val_acc did not improve from 0.83663\n",
            "Epoch 68/100\n",
            "24000/24000 [==============================] - 10s 419us/step - loss: 0.0344 - acc: 0.9951 - val_loss: 0.8786 - val_acc: 0.8326\n",
            "\n",
            "Epoch 00068: val_acc did not improve from 0.83663\n",
            "Epoch 69/100\n",
            "24000/24000 [==============================] - 10s 417us/step - loss: 0.0328 - acc: 0.9954 - val_loss: 0.8826 - val_acc: 0.8327\n",
            "\n",
            "Epoch 00069: val_acc did not improve from 0.83663\n",
            "Epoch 70/100\n",
            "24000/24000 [==============================] - 10s 418us/step - loss: 0.0314 - acc: 0.9958 - val_loss: 0.8900 - val_acc: 0.8307\n",
            "\n",
            "Epoch 00070: val_acc did not improve from 0.83663\n",
            "Epoch 71/100\n",
            "24000/24000 [==============================] - 10s 417us/step - loss: 0.0333 - acc: 0.9953 - val_loss: 0.9378 - val_acc: 0.8215\n",
            "\n",
            "Epoch 00071: val_acc did not improve from 0.83663\n",
            "Epoch 72/100\n",
            "24000/24000 [==============================] - 10s 416us/step - loss: 0.0435 - acc: 0.9915 - val_loss: 0.9348 - val_acc: 0.8232\n",
            "\n",
            "Epoch 00072: val_acc did not improve from 0.83663\n",
            "Epoch 73/100\n",
            "24000/24000 [==============================] - 10s 417us/step - loss: 0.0553 - acc: 0.9869 - val_loss: 0.9192 - val_acc: 0.8262\n",
            "\n",
            "Epoch 00073: val_acc did not improve from 0.83663\n",
            "Epoch 74/100\n",
            "24000/24000 [==============================] - 10s 416us/step - loss: 0.0678 - acc: 0.9818 - val_loss: 0.9365 - val_acc: 0.8272\n",
            "\n",
            "Epoch 00074: val_acc did not improve from 0.83663\n",
            "Epoch 75/100\n",
            "24000/24000 [==============================] - 10s 415us/step - loss: 0.0557 - acc: 0.9860 - val_loss: 0.9371 - val_acc: 0.8255\n",
            "\n",
            "Epoch 00075: val_acc did not improve from 0.83663\n",
            "Epoch 76/100\n",
            "24000/24000 [==============================] - 10s 416us/step - loss: 0.0329 - acc: 0.9943 - val_loss: 0.8961 - val_acc: 0.8374\n",
            "\n",
            "Epoch 00076: val_acc improved from 0.83663 to 0.83738, saving model to pretrained_face_best_weights.h5\n",
            "Epoch 77/100\n",
            "24000/24000 [==============================] - 10s 413us/step - loss: 0.0222 - acc: 0.9975 - val_loss: 0.8549 - val_acc: 0.8431\n",
            "\n",
            "Epoch 00077: val_acc improved from 0.83738 to 0.84313, saving model to pretrained_face_best_weights.h5\n",
            "Epoch 78/100\n",
            "24000/24000 [==============================] - 10s 415us/step - loss: 0.0143 - acc: 0.9995 - val_loss: 0.8428 - val_acc: 0.8499\n",
            "\n",
            "Epoch 00078: val_acc improved from 0.84313 to 0.84989, saving model to pretrained_face_best_weights.h5\n",
            "Epoch 79/100\n",
            "24000/24000 [==============================] - 10s 413us/step - loss: 0.0130 - acc: 0.9995 - val_loss: 0.8820 - val_acc: 0.8379\n",
            "\n",
            "Epoch 00079: val_acc did not improve from 0.84989\n",
            "Epoch 80/100\n",
            "24000/24000 [==============================] - 10s 419us/step - loss: 0.0162 - acc: 0.9989 - val_loss: 0.8902 - val_acc: 0.8431\n",
            "\n",
            "Epoch 00080: val_acc did not improve from 0.84989\n",
            "Epoch 81/100\n",
            "24000/24000 [==============================] - 10s 415us/step - loss: 0.0127 - acc: 0.9996 - val_loss: 0.8707 - val_acc: 0.8444\n",
            "\n",
            "Epoch 00081: val_acc did not improve from 0.84989\n",
            "Epoch 82/100\n",
            "24000/24000 [==============================] - 10s 413us/step - loss: 0.0122 - acc: 0.9995 - val_loss: 0.8805 - val_acc: 0.8426\n",
            "\n",
            "Epoch 00082: val_acc did not improve from 0.84989\n",
            "Epoch 83/100\n",
            "24000/24000 [==============================] - 10s 414us/step - loss: 0.0137 - acc: 0.9995 - val_loss: 0.8819 - val_acc: 0.8438\n",
            "\n",
            "Epoch 00083: val_acc did not improve from 0.84989\n",
            "Epoch 84/100\n",
            "24000/24000 [==============================] - 10s 414us/step - loss: 0.0122 - acc: 0.9997 - val_loss: 0.8461 - val_acc: 0.8518\n",
            "\n",
            "Epoch 00084: val_acc improved from 0.84989 to 0.85176, saving model to pretrained_face_best_weights.h5\n",
            "Epoch 85/100\n",
            "24000/24000 [==============================] - 10s 416us/step - loss: 0.0119 - acc: 0.9996 - val_loss: 0.8650 - val_acc: 0.8490\n",
            "\n",
            "Epoch 00085: val_acc did not improve from 0.85176\n",
            "Epoch 86/100\n",
            "24000/24000 [==============================] - 10s 415us/step - loss: 0.0143 - acc: 0.9990 - val_loss: 0.9024 - val_acc: 0.8418\n",
            "\n",
            "Epoch 00086: val_acc did not improve from 0.85176\n",
            "Epoch 87/100\n",
            "24000/24000 [==============================] - 10s 415us/step - loss: 0.0449 - acc: 0.9892 - val_loss: 1.1487 - val_acc: 0.7923\n",
            "\n",
            "Epoch 00087: val_acc did not improve from 0.85176\n",
            "Epoch 88/100\n",
            "24000/24000 [==============================] - 10s 416us/step - loss: 0.1697 - acc: 0.9438 - val_loss: 1.0478 - val_acc: 0.8140\n",
            "\n",
            "Epoch 00088: val_acc did not improve from 0.85176\n",
            "Epoch 89/100\n",
            "24000/24000 [==============================] - 10s 414us/step - loss: 0.1190 - acc: 0.9627 - val_loss: 1.2080 - val_acc: 0.7870\n",
            "\n",
            "Epoch 00089: val_acc did not improve from 0.85176\n",
            "Epoch 90/100\n",
            "24000/24000 [==============================] - 10s 415us/step - loss: 0.0745 - acc: 0.9771 - val_loss: 0.9227 - val_acc: 0.8388\n",
            "\n",
            "Epoch 00090: val_acc did not improve from 0.85176\n",
            "Epoch 91/100\n",
            "24000/24000 [==============================] - 10s 418us/step - loss: 0.0250 - acc: 0.9955 - val_loss: 0.8979 - val_acc: 0.8466\n",
            "\n",
            "Epoch 00091: val_acc did not improve from 0.85176\n",
            "Epoch 92/100\n",
            "24000/24000 [==============================] - 10s 414us/step - loss: 0.0128 - acc: 0.9989 - val_loss: 0.8700 - val_acc: 0.8526\n",
            "\n",
            "Epoch 00092: val_acc improved from 0.85176 to 0.85264, saving model to pretrained_face_best_weights.h5\n",
            "Epoch 93/100\n",
            "24000/24000 [==============================] - 10s 417us/step - loss: 0.0086 - acc: 0.9997 - val_loss: 0.8594 - val_acc: 0.8544\n",
            "\n",
            "Epoch 00093: val_acc improved from 0.85264 to 0.85439, saving model to pretrained_face_best_weights.h5\n",
            "Epoch 94/100\n",
            "24000/24000 [==============================] - 10s 417us/step - loss: 0.0084 - acc: 0.9996 - val_loss: 0.8783 - val_acc: 0.8518\n",
            "\n",
            "Epoch 00094: val_acc did not improve from 0.85439\n",
            "Epoch 95/100\n",
            "24000/24000 [==============================] - 10s 417us/step - loss: 0.0070 - acc: 0.9998 - val_loss: 0.8839 - val_acc: 0.8509\n",
            "\n",
            "Epoch 00095: val_acc did not improve from 0.85439\n",
            "Epoch 96/100\n",
            "24000/24000 [==============================] - 10s 414us/step - loss: 0.0080 - acc: 0.9995 - val_loss: 0.8917 - val_acc: 0.8484\n",
            "\n",
            "Epoch 00096: val_acc did not improve from 0.85439\n",
            "Epoch 97/100\n",
            "24000/24000 [==============================] - 10s 416us/step - loss: 0.0071 - acc: 0.9998 - val_loss: 0.8774 - val_acc: 0.8530\n",
            "\n",
            "Epoch 00097: val_acc did not improve from 0.85439\n",
            "Epoch 98/100\n",
            "24000/24000 [==============================] - 10s 417us/step - loss: 0.0065 - acc: 0.9998 - val_loss: 0.8688 - val_acc: 0.8558\n",
            "\n",
            "Epoch 00098: val_acc improved from 0.85439 to 0.85577, saving model to pretrained_face_best_weights.h5\n",
            "Epoch 99/100\n",
            "24000/24000 [==============================] - 10s 417us/step - loss: 0.0061 - acc: 0.9998 - val_loss: 0.8804 - val_acc: 0.8505\n",
            "\n",
            "Epoch 00099: val_acc did not improve from 0.85577\n",
            "Epoch 100/100\n",
            "24000/24000 [==============================] - 10s 417us/step - loss: 0.0058 - acc: 0.9998 - val_loss: 0.8768 - val_acc: 0.8564\n",
            "\n",
            "Epoch 00100: val_acc improved from 0.85577 to 0.85639, saving model to pretrained_face_best_weights.h5\n"
          ],
          "name": "stdout"
        }
      ]
    },
    {
      "cell_type": "code",
      "metadata": {
        "id": "euJ4zgp-Paf7",
        "colab_type": "code",
        "colab": {}
      },
      "source": [
        "full_model.save_weights('full_model_pretrained_faces_weights.h5')"
      ],
      "execution_count": 0,
      "outputs": []
    },
    {
      "cell_type": "code",
      "metadata": {
        "id": "8sAisql_P0Z9",
        "colab_type": "code",
        "colab": {
          "base_uri": "https://localhost:8080/",
          "height": 545
        },
        "outputId": "be1792b0-19b5-452f-bb22-864b506dfe5e"
      },
      "source": [
        "accuracy = pretrained_classifier_train.history['acc']\n",
        "val_accuracy = pretrained_classifier_train.history['val_acc']\n",
        "loss = pretrained_classifier_train.history['loss']\n",
        "val_loss = pretrained_classifier_train.history['val_loss']\n",
        "epochs = range(len(accuracy))\n",
        "plt.plot(epochs, accuracy, 'bo', label = 'Training Accuracy')\n",
        "plt.plot(epochs, val_accuracy, 'b', label = 'Validation Accuracy')\n",
        "plt.title('Training and Validation Accuracy using Pretrained Autoencoder Weights')\n",
        "plt.legend()\n",
        "plt.figure()\n",
        "plt.plot(epochs, loss, 'bo', label = 'Training Loss')\n",
        "plt.plot(epochs, val_loss, 'b', label = 'Validation Loss')\n",
        "plt.title('Training and Validation Loss using Pretrained Autoencoder Weights')\n",
        "plt.legend()\n",
        "plt.show()"
      ],
      "execution_count": 33,
      "outputs": [
        {
          "output_type": "display_data",
          "data": {
            "image/png": "[encoded data removed]",
            "text/plain": [
              "<Figure size 432x288 with 1 Axes>"
            ]
          },
          "metadata": {
            "tags": []
          }
        },
        {
          "output_type": "display_data",
          "data": {
            "image/png": "[encoded data removed]",
            "text/plain": [
              "<Figure size 432x288 with 1 Axes>"
            ]
          },
          "metadata": {
            "tags": []
          }
        }
      ]
    },
    {
      "cell_type": "code",
      "metadata": {
        "id": "h468PJm5P67y",
        "colab_type": "code",
        "colab": {}
      },
      "source": [
        "test_eval = full_model.evaluate(X_test, y_test, verbose = 0)"
      ],
      "execution_count": 0,
      "outputs": []
    },
    {
      "cell_type": "code",
      "metadata": {
        "id": "sv9BtyfYQTiS",
        "colab_type": "code",
        "colab": {
          "base_uri": "https://localhost:8080/",
          "height": 51
        },
        "outputId": "9e200e4c-d343-4075-cd37-d1b471aef311"
      },
      "source": [
        "print('Test loss : ', test_eval[0])\n",
        "print('Test accuracy : ', test_eval[1])"
      ],
      "execution_count": 35,
      "outputs": [
        {
          "output_type": "stream",
          "text": [
            "Test loss :  1.0425702388510107\n",
            "Test accuracy :  0.82975\n"
          ],
          "name": "stdout"
        }
      ]
    },
    {
      "cell_type": "code",
      "metadata": {
        "id": "kYEuqqWgQZGB",
        "colab_type": "code",
        "colab": {}
      },
      "source": [
        "predicted_classes = full_model.predict(X_test)"
      ],
      "execution_count": 0,
      "outputs": []
    },
    {
      "cell_type": "code",
      "metadata": {
        "id": "NYcDQQJWQh4P",
        "colab_type": "code",
        "colab": {}
      },
      "source": [
        "predicted_classes = np.argmax(np.round(predicted_classes), axis = 1)"
      ],
      "execution_count": 0,
      "outputs": []
    },
    {
      "cell_type": "code",
      "metadata": {
        "id": "ibsVenxYXuyk",
        "colab_type": "code",
        "colab": {}
      },
      "source": [
        "predicted_classes = lb.inverse_transform(predicted_classes)"
      ],
      "execution_count": 0,
      "outputs": []
    },
    {
      "cell_type": "code",
      "metadata": {
        "id": "WoQPyjDlQkba",
        "colab_type": "code",
        "colab": {}
      },
      "source": [
        "test_df['predicted_classes'] = predicted_classes"
      ],
      "execution_count": 0,
      "outputs": []
    },
    {
      "cell_type": "code",
      "metadata": {
        "id": "Gd4Aj5cWQ8vl",
        "colab_type": "code",
        "colab": {
          "base_uri": "https://localhost:8080/",
          "height": 204
        },
        "outputId": "1ab2fc72-1643-44f9-bc26-e41fe29499c2"
      },
      "source": [
        "test_df.head()"
      ],
      "execution_count": 43,
      "outputs": [
        {
          "output_type": "execute_result",
          "data": {
            "text/html": [
              "<div>\n",
              "<style scoped>\n",
              "    .dataframe tbody tr th:only-of-type {\n",
              "        vertical-align: middle;\n",
              "    }\n",
              "\n",
              "    .dataframe tbody tr th {\n",
              "        vertical-align: top;\n",
              "    }\n",
              "\n",
              "    .dataframe thead th {\n",
              "        text-align: right;\n",
              "    }\n",
              "</style>\n",
              "<table border=\"1\" class=\"dataframe\">\n",
              "  <thead>\n",
              "    <tr style=\"text-align: right;\">\n",
              "      <th></th>\n",
              "      <th>test_labels</th>\n",
              "      <th>predicted_classes</th>\n",
              "    </tr>\n",
              "  </thead>\n",
              "  <tbody>\n",
              "    <tr>\n",
              "      <th>0</th>\n",
              "      <td>Sergey_Lavrov</td>\n",
              "      <td>Sergey_Lavrov</td>\n",
              "    </tr>\n",
              "    <tr>\n",
              "      <th>1</th>\n",
              "      <td>Gloria_Macapagal_Arroyo</td>\n",
              "      <td>Gloria_Macapagal_Arroyo</td>\n",
              "    </tr>\n",
              "    <tr>\n",
              "      <th>2</th>\n",
              "      <td>George_W_Bush</td>\n",
              "      <td>George_W_Bush</td>\n",
              "    </tr>\n",
              "    <tr>\n",
              "      <th>3</th>\n",
              "      <td>Michael_Bloomberg</td>\n",
              "      <td>Michael_Bloomberg</td>\n",
              "    </tr>\n",
              "    <tr>\n",
              "      <th>4</th>\n",
              "      <td>Nestor_Kirchner</td>\n",
              "      <td>Tommy_Franks</td>\n",
              "    </tr>\n",
              "  </tbody>\n",
              "</table>\n",
              "</div>"
            ],
            "text/plain": [
              "                test_labels         predicted_classes\n",
              "0            Sergey_Lavrov             Sergey_Lavrov \n",
              "1  Gloria_Macapagal_Arroyo   Gloria_Macapagal_Arroyo \n",
              "2            George_W_Bush             George_W_Bush \n",
              "3        Michael_Bloomberg         Michael_Bloomberg \n",
              "4          Nestor_Kirchner              Tommy_Franks "
            ]
          },
          "metadata": {
            "tags": []
          },
          "execution_count": 43
        }
      ]
    },
    {
      "cell_type": "code",
      "metadata": {
        "id": "361MEaf9RCWw",
        "colab_type": "code",
        "colab": {
          "base_uri": "https://localhost:8080/",
          "height": 419
        },
        "outputId": "0f9e7bea-8c0a-4105-f561-2eda758b581a"
      },
      "source": [
        "test_df[test_df['test_labels'] != test_df['predicted_classes']]"
      ],
      "execution_count": 44,
      "outputs": [
        {
          "output_type": "execute_result",
          "data": {
            "text/html": [
              "<div>\n",
              "<style scoped>\n",
              "    .dataframe tbody tr th:only-of-type {\n",
              "        vertical-align: middle;\n",
              "    }\n",
              "\n",
              "    .dataframe tbody tr th {\n",
              "        vertical-align: top;\n",
              "    }\n",
              "\n",
              "    .dataframe thead th {\n",
              "        text-align: right;\n",
              "    }\n",
              "</style>\n",
              "<table border=\"1\" class=\"dataframe\">\n",
              "  <thead>\n",
              "    <tr style=\"text-align: right;\">\n",
              "      <th></th>\n",
              "      <th>test_labels</th>\n",
              "      <th>predicted_classes</th>\n",
              "    </tr>\n",
              "  </thead>\n",
              "  <tbody>\n",
              "    <tr>\n",
              "      <th>4</th>\n",
              "      <td>Nestor_Kirchner</td>\n",
              "      <td>Tommy_Franks</td>\n",
              "    </tr>\n",
              "    <tr>\n",
              "      <th>12</th>\n",
              "      <td>Trent_Lott</td>\n",
              "      <td>Bill_McBride</td>\n",
              "    </tr>\n",
              "    <tr>\n",
              "      <th>16</th>\n",
              "      <td>Pierce_Brosnan</td>\n",
              "      <td>Juan_Carlos_Ferrero</td>\n",
              "    </tr>\n",
              "    <tr>\n",
              "      <th>32</th>\n",
              "      <td>John_Snow</td>\n",
              "      <td>Dick_Cheney</td>\n",
              "    </tr>\n",
              "    <tr>\n",
              "      <th>34</th>\n",
              "      <td>Atal_Bihari_Vajpayee</td>\n",
              "      <td>Alejandro_Toledo</td>\n",
              "    </tr>\n",
              "    <tr>\n",
              "      <th>...</th>\n",
              "      <td>...</td>\n",
              "      <td>...</td>\n",
              "    </tr>\n",
              "    <tr>\n",
              "      <th>7984</th>\n",
              "      <td>Muhammad_Ali</td>\n",
              "      <td>Dominique_de_Villepin</td>\n",
              "    </tr>\n",
              "    <tr>\n",
              "      <th>7986</th>\n",
              "      <td>Pervez_Musharraf</td>\n",
              "      <td>Silvio_Berlusconi</td>\n",
              "    </tr>\n",
              "    <tr>\n",
              "      <th>7994</th>\n",
              "      <td>Lance_Armstrong</td>\n",
              "      <td>Rudolph_Giuliani</td>\n",
              "    </tr>\n",
              "    <tr>\n",
              "      <th>7996</th>\n",
              "      <td>Vaclav_Havel</td>\n",
              "      <td>Ricardo_Lagos</td>\n",
              "    </tr>\n",
              "    <tr>\n",
              "      <th>7998</th>\n",
              "      <td>Richard_Gephardt</td>\n",
              "      <td>Alejandro_Toledo</td>\n",
              "    </tr>\n",
              "  </tbody>\n",
              "</table>\n",
              "<p>1409 rows × 2 columns</p>\n",
              "</div>"
            ],
            "text/plain": [
              "                test_labels       predicted_classes\n",
              "4          Nestor_Kirchner            Tommy_Franks \n",
              "12              Trent_Lott            Bill_McBride \n",
              "16          Pierce_Brosnan     Juan_Carlos_Ferrero \n",
              "32               John_Snow             Dick_Cheney \n",
              "34    Atal_Bihari_Vajpayee        Alejandro_Toledo \n",
              "...                     ...                     ...\n",
              "7984          Muhammad_Ali   Dominique_de_Villepin \n",
              "7986      Pervez_Musharraf       Silvio_Berlusconi \n",
              "7994       Lance_Armstrong        Rudolph_Giuliani \n",
              "7996          Vaclav_Havel           Ricardo_Lagos \n",
              "7998      Richard_Gephardt        Alejandro_Toledo \n",
              "\n",
              "[1409 rows x 2 columns]"
            ]
          },
          "metadata": {
            "tags": []
          },
          "execution_count": 44
        }
      ]
    },
    {
      "cell_type": "code",
      "metadata": {
        "id": "Awt3rhQ-RdxR",
        "colab_type": "code",
        "colab": {
          "base_uri": "https://localhost:8080/",
          "height": 34
        },
        "outputId": "03d63cb4-2bcd-4822-9833-caeecc2de972"
      },
      "source": [
        "1-round(len(test_df[test_df['test_labels'] != test_df['predicted_classes']])/len(test_df),3)"
      ],
      "execution_count": 45,
      "outputs": [
        {
          "output_type": "execute_result",
          "data": {
            "text/plain": [
              "0.8240000000000001"
            ]
          },
          "metadata": {
            "tags": []
          },
          "execution_count": 45
        }
      ]
    },
    {
      "cell_type": "code",
      "metadata": {
        "id": "f5i4hBL0Rusf",
        "colab_type": "code",
        "colab": {}
      },
      "source": [
        "test_df.to_csv('predicted_results.csv')"
      ],
      "execution_count": 0,
      "outputs": []
    },
    {
      "cell_type": "code",
      "metadata": {
        "id": "sj9Z1bqaYIl9",
        "colab_type": "code",
        "colab": {}
      },
      "source": [
        ""
      ],
      "execution_count": 0,
      "outputs": []
    }
  ]
}