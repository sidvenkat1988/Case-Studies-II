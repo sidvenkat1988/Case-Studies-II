{
  "nbformat": 4,
  "nbformat_minor": 0,
  "metadata": {
    "colab": {
      "name": "MFCC Voice Model.ipynb",
      "provenance": [],
      "collapsed_sections": []
    },
    "kernelspec": {
      "name": "python3",
      "display_name": "Python 3"
    },
    "accelerator": "GPU"
  },
  "cells": [
    {
      "cell_type": "code",
      "metadata": {
        "id": "64-A_21H33UL",
        "colab_type": "code",
        "colab": {
          "base_uri": "https://localhost:8080/",
          "height": 34
        },
        "outputId": "af86d04b-3cab-4aaf-a423-b8341ba07743"
      },
      "source": [
        "%cd drive/My\\ Drive"
      ],
      "execution_count": 1,
      "outputs": [
        {
          "output_type": "stream",
          "text": [
            "/content/drive/My Drive\n"
          ],
          "name": "stdout"
        }
      ]
    },
    {
      "cell_type": "code",
      "metadata": {
        "id": "SXHqZ_354BN6",
        "colab_type": "code",
        "colab": {
          "base_uri": "https://localhost:8080/",
          "height": 34
        },
        "outputId": "f8f75edd-8c84-488d-e0fa-597b07101ae7"
      },
      "source": [
        "%cd case\\ studies\\ 2"
      ],
      "execution_count": 2,
      "outputs": [
        {
          "output_type": "stream",
          "text": [
            "/content/drive/My Drive/case studies 2\n"
          ],
          "name": "stdout"
        }
      ]
    },
    {
      "cell_type": "code",
      "metadata": {
        "id": "32yyvYW74C4r",
        "colab_type": "code",
        "colab": {
          "base_uri": "https://localhost:8080/",
          "height": 34
        },
        "outputId": "ed8c99be-f4b7-43e3-c183-ad47a5bcc02b"
      },
      "source": [
        "%cd Models/"
      ],
      "execution_count": 3,
      "outputs": [
        {
          "output_type": "stream",
          "text": [
            "/content/drive/My Drive/case studies 2/Models\n"
          ],
          "name": "stdout"
        }
      ]
    },
    {
      "cell_type": "code",
      "metadata": {
        "id": "Sa-VdTA84EMS",
        "colab_type": "code",
        "colab": {
          "base_uri": "https://localhost:8080/",
          "height": 34
        },
        "outputId": "d390de9d-0c6d-406c-de93-bf92116d9b52"
      },
      "source": [
        "%cd Voice\\ Models"
      ],
      "execution_count": 4,
      "outputs": [
        {
          "output_type": "stream",
          "text": [
            "/content/drive/My Drive/case studies 2/Models/Voice Models\n"
          ],
          "name": "stdout"
        }
      ]
    },
    {
      "cell_type": "code",
      "metadata": {
        "id": "hecbAhJT4Fjk",
        "colab_type": "code",
        "colab": {
          "base_uri": "https://localhost:8080/",
          "height": 34
        },
        "outputId": "25a685c3-67b7-4014-eeea-145958a0085e"
      },
      "source": [
        "%cd MFCC/"
      ],
      "execution_count": 5,
      "outputs": [
        {
          "output_type": "stream",
          "text": [
            "/content/drive/My Drive/case studies 2/Models/Voice Models/MFCC\n"
          ],
          "name": "stdout"
        }
      ]
    },
    {
      "cell_type": "code",
      "metadata": {
        "id": "kYz-NXnk4HyE",
        "colab_type": "code",
        "colab": {
          "base_uri": "https://localhost:8080/",
          "height": 34
        },
        "outputId": "4eab852c-8f5a-4dbf-f423-fc56c4010f9e"
      },
      "source": [
        "!ls"
      ],
      "execution_count": 49,
      "outputs": [
        {
          "output_type": "stream",
          "text": [
            "test_data.npy  test_label.npy  train_data.npy  train_label.npy\n"
          ],
          "name": "stdout"
        }
      ]
    },
    {
      "cell_type": "code",
      "metadata": {
        "id": "OyYv9_wO4ImO",
        "colab_type": "code",
        "colab": {
          "base_uri": "https://localhost:8080/",
          "height": 80
        },
        "outputId": "3bf20cb8-0fcc-44c1-85e7-56fed767baef"
      },
      "source": [
        "import pandas as pd\n",
        "import numpy as np\n",
        "from keras.layers import Input, Dense, Conv2D, MaxPooling2D, UpSampling2D, Dropout, Flatten, BatchNormalization, Activation\n",
        "from keras.models import Model\n",
        "from keras import backend as K\n",
        "from keras.utils.np_utils import to_categorical\n",
        "\n",
        "from keras.callbacks import ModelCheckpoint\n",
        "import matplotlib.pyplot as plt\n",
        "%matplotlib inline\n",
        "import cv2\n",
        "from sklearn.preprocessing import LabelEncoder"
      ],
      "execution_count": 7,
      "outputs": [
        {
          "output_type": "stream",
          "text": [
            "Using TensorFlow backend.\n"
          ],
          "name": "stderr"
        },
        {
          "output_type": "display_data",
          "data": {
            "text/html": [
              "<p style=\"color: red;\">\n",
              "The default version of TensorFlow in Colab will soon switch to TensorFlow 2.x.<br>\n",
              "We recommend you <a href=\"https://www.tensorflow.org/guide/migrate\" target=\"_blank\">upgrade</a> now \n",
              "or ensure your notebook will continue to use TensorFlow 1.x via the <code>%tensorflow_version 1.x</code> magic:\n",
              "<a href=\"https://colab.research.google.com/notebooks/tensorflow_version.ipynb\" target=\"_blank\">more info</a>.</p>\n"
            ],
            "text/plain": [
              "<IPython.core.display.HTML object>"
            ]
          },
          "metadata": {
            "tags": []
          }
        }
      ]
    },
    {
      "cell_type": "code",
      "metadata": {
        "id": "i1gSMkwo5C8J",
        "colab_type": "code",
        "colab": {}
      },
      "source": [
        "from sklearn.preprocessing import StandardScaler"
      ],
      "execution_count": 0,
      "outputs": []
    },
    {
      "cell_type": "code",
      "metadata": {
        "id": "SkbqYxxm4MQJ",
        "colab_type": "code",
        "colab": {}
      },
      "source": [
        "train_data = np.load('train_data.npy', allow_pickle=True)\n",
        "train_labels = np.load('train_label.npy', allow_pickle = True)\n",
        "test_data = np.load('test_data.npy', allow_pickle = True)\n",
        "test_labels = np.load('test_label.npy', allow_pickle = True)"
      ],
      "execution_count": 0,
      "outputs": []
    },
    {
      "cell_type": "code",
      "metadata": {
        "id": "A8WwyBPi4S7o",
        "colab_type": "code",
        "colab": {}
      },
      "source": [
        "train_df = pd.DataFrame(columns = ['train_labels'])\n",
        "train_df['train_labels'] = train_labels"
      ],
      "execution_count": 0,
      "outputs": []
    },
    {
      "cell_type": "code",
      "metadata": {
        "id": "vR4oCTrm4ZX_",
        "colab_type": "code",
        "colab": {}
      },
      "source": [
        "test_df = pd.DataFrame(columns = ['test_labels'])\n",
        "test_df['test_labels'] = test_labels"
      ],
      "execution_count": 0,
      "outputs": []
    },
    {
      "cell_type": "code",
      "metadata": {
        "id": "el3zBnFm4bwe",
        "colab_type": "code",
        "colab": {}
      },
      "source": [
        "X = train_data\n",
        "X_test = test_data"
      ],
      "execution_count": 0,
      "outputs": []
    },
    {
      "cell_type": "code",
      "metadata": {
        "id": "z2t99l0Y41zB",
        "colab_type": "code",
        "colab": {}
      },
      "source": [
        "y = train_labels"
      ],
      "execution_count": 0,
      "outputs": []
    },
    {
      "cell_type": "code",
      "metadata": {
        "id": "Q2HGY75u44V4",
        "colab_type": "code",
        "colab": {}
      },
      "source": [
        "y_test = test_labels"
      ],
      "execution_count": 0,
      "outputs": []
    },
    {
      "cell_type": "code",
      "metadata": {
        "id": "nZKgaaGV5RtZ",
        "colab_type": "code",
        "colab": {}
      },
      "source": [
        "X_train = X[:6400]\n",
        "X_val = X[6400:]\n",
        "y_train = y[:6400]\n",
        "y_val = y[6400:]"
      ],
      "execution_count": 0,
      "outputs": []
    },
    {
      "cell_type": "code",
      "metadata": {
        "id": "opTI0lHv48wQ",
        "colab_type": "code",
        "colab": {}
      },
      "source": [
        "lb = LabelEncoder()\n",
        "y_train = to_categorical(lb.fit_transform(y_train))\n",
        "y_val = to_categorical(lb.fit_transform(y_val))\n",
        "y_test = to_categorical(lb.fit_transform(y_test))"
      ],
      "execution_count": 0,
      "outputs": []
    },
    {
      "cell_type": "code",
      "metadata": {
        "id": "CoL0c1kj6Ik2",
        "colab_type": "code",
        "colab": {
          "base_uri": "https://localhost:8080/",
          "height": 34
        },
        "outputId": "f7620464-b6f0-4c85-f98f-3574e7b20618"
      },
      "source": [
        "y_train.shape"
      ],
      "execution_count": 58,
      "outputs": [
        {
          "output_type": "execute_result",
          "data": {
            "text/plain": [
              "(6400, 100)"
            ]
          },
          "metadata": {
            "tags": []
          },
          "execution_count": 58
        }
      ]
    },
    {
      "cell_type": "code",
      "metadata": {
        "id": "hhjjhlFL6Kdt",
        "colab_type": "code",
        "colab": {
          "base_uri": "https://localhost:8080/",
          "height": 34
        },
        "outputId": "1e52c11b-741b-41c0-fa9a-1dbc5070360d"
      },
      "source": [
        "y_val.shape"
      ],
      "execution_count": 59,
      "outputs": [
        {
          "output_type": "execute_result",
          "data": {
            "text/plain": [
              "(1600, 100)"
            ]
          },
          "metadata": {
            "tags": []
          },
          "execution_count": 59
        }
      ]
    },
    {
      "cell_type": "code",
      "metadata": {
        "id": "mDV5t3cQ6NFF",
        "colab_type": "code",
        "colab": {
          "base_uri": "https://localhost:8080/",
          "height": 34
        },
        "outputId": "532ee934-0cd3-40e7-abe5-255a9facf45f"
      },
      "source": [
        "y_test.shape"
      ],
      "execution_count": 60,
      "outputs": [
        {
          "output_type": "execute_result",
          "data": {
            "text/plain": [
              "(2000, 100)"
            ]
          },
          "metadata": {
            "tags": []
          },
          "execution_count": 60
        }
      ]
    },
    {
      "cell_type": "code",
      "metadata": {
        "id": "ifZZMZ5y7RYC",
        "colab_type": "code",
        "colab": {}
      },
      "source": [
        "ss = StandardScaler()\n",
        "X_train = ss.fit_transform(X_train)\n",
        "X_val = ss.transform(X_val)\n",
        "X_test = ss.transform(X_test)"
      ],
      "execution_count": 0,
      "outputs": []
    },
    {
      "cell_type": "code",
      "metadata": {
        "id": "kVLmkNlo-mfL",
        "colab_type": "code",
        "colab": {
          "base_uri": "https://localhost:8080/",
          "height": 139
        },
        "outputId": "bae3dbf3-c0f2-45c6-cf24-68f236757b2b"
      },
      "source": [
        "input = Input(shape = (40, ))\n",
        "x = Dense(128, activation = 'relu')(input)\n",
        "x = Dense(128, activation = 'relu')(x)\n",
        "x = Dense(64, activation = 'relu')(x)\n",
        "x = Dense(64, activation = 'relu')(x)\n",
        "encoded = Dense(32, activation = 'relu')(x)\n",
        "x = Dense(64, activation = 'relu')(encoded)\n",
        "x = Dense(64, activation = 'relu')(x)\n",
        "x = Dense(128, activation = 'relu')(x)\n",
        "x = Dense(128, activation = 'relu')(x)\n",
        "x = Dense(40, activation = 'softmax')(x)"
      ],
      "execution_count": 62,
      "outputs": [
        {
          "output_type": "stream",
          "text": [
            "WARNING:tensorflow:From /usr/local/lib/python3.6/dist-packages/keras/backend/tensorflow_backend.py:66: The name tf.get_default_graph is deprecated. Please use tf.compat.v1.get_default_graph instead.\n",
            "\n",
            "WARNING:tensorflow:From /usr/local/lib/python3.6/dist-packages/keras/backend/tensorflow_backend.py:541: The name tf.placeholder is deprecated. Please use tf.compat.v1.placeholder instead.\n",
            "\n",
            "WARNING:tensorflow:From /usr/local/lib/python3.6/dist-packages/keras/backend/tensorflow_backend.py:4432: The name tf.random_uniform is deprecated. Please use tf.random.uniform instead.\n",
            "\n"
          ],
          "name": "stdout"
        }
      ]
    },
    {
      "cell_type": "code",
      "metadata": {
        "id": "xY53e3oJ-uKX",
        "colab_type": "code",
        "colab": {
          "base_uri": "https://localhost:8080/",
          "height": 105
        },
        "outputId": "bfee5b55-6681-4e95-bc68-c0daab5e2931"
      },
      "source": [
        "autoencoder = Model(input, x)\n",
        "autoencoder.compile(loss = 'categorical_crossentropy', metrics = ['accuracy'], optimizer = 'adam')"
      ],
      "execution_count": 63,
      "outputs": [
        {
          "output_type": "stream",
          "text": [
            "WARNING:tensorflow:From /usr/local/lib/python3.6/dist-packages/keras/optimizers.py:793: The name tf.train.Optimizer is deprecated. Please use tf.compat.v1.train.Optimizer instead.\n",
            "\n",
            "WARNING:tensorflow:From /usr/local/lib/python3.6/dist-packages/keras/backend/tensorflow_backend.py:3576: The name tf.log is deprecated. Please use tf.math.log instead.\n",
            "\n"
          ],
          "name": "stdout"
        }
      ]
    },
    {
      "cell_type": "code",
      "metadata": {
        "id": "IeTSEp3g-2tS",
        "colab_type": "code",
        "colab": {
          "base_uri": "https://localhost:8080/",
          "height": 527
        },
        "outputId": "7a4dc7e7-77d7-4656-ecf6-7afcbed7478b"
      },
      "source": [
        "autoencoder.summary()"
      ],
      "execution_count": 64,
      "outputs": [
        {
          "output_type": "stream",
          "text": [
            "Model: \"model_1\"\n",
            "_________________________________________________________________\n",
            "Layer (type)                 Output Shape              Param #   \n",
            "=================================================================\n",
            "input_1 (InputLayer)         (None, 40)                0         \n",
            "_________________________________________________________________\n",
            "dense_1 (Dense)              (None, 128)               5248      \n",
            "_________________________________________________________________\n",
            "dense_2 (Dense)              (None, 128)               16512     \n",
            "_________________________________________________________________\n",
            "dense_3 (Dense)              (None, 64)                8256      \n",
            "_________________________________________________________________\n",
            "dense_4 (Dense)              (None, 64)                4160      \n",
            "_________________________________________________________________\n",
            "dense_5 (Dense)              (None, 32)                2080      \n",
            "_________________________________________________________________\n",
            "dense_6 (Dense)              (None, 64)                2112      \n",
            "_________________________________________________________________\n",
            "dense_7 (Dense)              (None, 64)                4160      \n",
            "_________________________________________________________________\n",
            "dense_8 (Dense)              (None, 128)               8320      \n",
            "_________________________________________________________________\n",
            "dense_9 (Dense)              (None, 128)               16512     \n",
            "_________________________________________________________________\n",
            "dense_10 (Dense)             (None, 40)                5160      \n",
            "=================================================================\n",
            "Total params: 72,520\n",
            "Trainable params: 72,520\n",
            "Non-trainable params: 0\n",
            "_________________________________________________________________\n"
          ],
          "name": "stdout"
        }
      ]
    },
    {
      "cell_type": "code",
      "metadata": {
        "id": "gRZ9mn_h-5qm",
        "colab_type": "code",
        "colab": {}
      },
      "source": [
        "filepath = 'voice_autoencoder.h5'\n",
        "checkpoint = ModelCheckpoint(filepath, monitor = 'val_acc', verbose = 1, save_best_only = True, mode = 'max')\n",
        "callbacks_list = [checkpoint]"
      ],
      "execution_count": 0,
      "outputs": []
    },
    {
      "cell_type": "code",
      "metadata": {
        "id": "pK2LwHJN-9VT",
        "colab_type": "code",
        "colab": {
          "base_uri": "https://localhost:8080/",
          "height": 1000
        },
        "outputId": "43547ea9-e214-4b53-ee84-c058512d70c0"
      },
      "source": [
        "autoencoder_train = autoencoder.fit(X_train, X_train, epochs = 100, batch_size = 16, verbose = 1, callbacks = callbacks_list, validation_data = [X_val, X_val])"
      ],
      "execution_count": 68,
      "outputs": [
        {
          "output_type": "stream",
          "text": [
            "WARNING:tensorflow:From /usr/local/lib/python3.6/dist-packages/tensorflow_core/python/ops/math_grad.py:1424: where (from tensorflow.python.ops.array_ops) is deprecated and will be removed in a future version.\n",
            "Instructions for updating:\n",
            "Use tf.where in 2.0, which has the same broadcast rule as np.where\n",
            "WARNING:tensorflow:From /usr/local/lib/python3.6/dist-packages/keras/backend/tensorflow_backend.py:1033: The name tf.assign_add is deprecated. Please use tf.compat.v1.assign_add instead.\n",
            "\n",
            "WARNING:tensorflow:From /usr/local/lib/python3.6/dist-packages/keras/backend/tensorflow_backend.py:1020: The name tf.assign is deprecated. Please use tf.compat.v1.assign instead.\n",
            "\n",
            "WARNING:tensorflow:From /usr/local/lib/python3.6/dist-packages/keras/backend/tensorflow_backend.py:3005: The name tf.Session is deprecated. Please use tf.compat.v1.Session instead.\n",
            "\n",
            "Train on 6400 samples, validate on 1600 samples\n",
            "Epoch 1/100\n",
            "WARNING:tensorflow:From /usr/local/lib/python3.6/dist-packages/keras/backend/tensorflow_backend.py:190: The name tf.get_default_session is deprecated. Please use tf.compat.v1.get_default_session instead.\n",
            "\n",
            "WARNING:tensorflow:From /usr/local/lib/python3.6/dist-packages/keras/backend/tensorflow_backend.py:197: The name tf.ConfigProto is deprecated. Please use tf.compat.v1.ConfigProto instead.\n",
            "\n",
            "WARNING:tensorflow:From /usr/local/lib/python3.6/dist-packages/keras/backend/tensorflow_backend.py:207: The name tf.global_variables is deprecated. Please use tf.compat.v1.global_variables instead.\n",
            "\n",
            "WARNING:tensorflow:From /usr/local/lib/python3.6/dist-packages/keras/backend/tensorflow_backend.py:216: The name tf.is_variable_initialized is deprecated. Please use tf.compat.v1.is_variable_initialized instead.\n",
            "\n",
            "WARNING:tensorflow:From /usr/local/lib/python3.6/dist-packages/keras/backend/tensorflow_backend.py:223: The name tf.variables_initializer is deprecated. Please use tf.compat.v1.variables_initializer instead.\n",
            "\n",
            "6400/6400 [==============================] - 12s 2ms/step - loss: -125.6289 - acc: 0.0712 - val_loss: -147.2751 - val_acc: 0.0956\n",
            "\n",
            "Epoch 00001: val_acc improved from -inf to 0.09563, saving model to voice_autoencoder.h5\n",
            "Epoch 2/100\n",
            "6400/6400 [==============================] - 3s 529us/step - loss: -147.7682 - acc: 0.1113 - val_loss: -155.3511 - val_acc: 0.1425\n",
            "\n",
            "Epoch 00002: val_acc improved from 0.09563 to 0.14250, saving model to voice_autoencoder.h5\n",
            "Epoch 3/100\n",
            "6400/6400 [==============================] - 3s 528us/step - loss: -154.4807 - acc: 0.1280 - val_loss: -160.1229 - val_acc: 0.1344\n",
            "\n",
            "Epoch 00003: val_acc did not improve from 0.14250\n",
            "Epoch 4/100\n",
            "6400/6400 [==============================] - 3s 537us/step - loss: -159.2281 - acc: 0.1531 - val_loss: -165.9257 - val_acc: 0.1638\n",
            "\n",
            "Epoch 00004: val_acc improved from 0.14250 to 0.16375, saving model to voice_autoencoder.h5\n",
            "Epoch 5/100\n",
            "6400/6400 [==============================] - 3s 542us/step - loss: -163.7015 - acc: 0.1800 - val_loss: -168.9071 - val_acc: 0.1819\n",
            "\n",
            "Epoch 00005: val_acc improved from 0.16375 to 0.18188, saving model to voice_autoencoder.h5\n",
            "Epoch 6/100\n",
            "6400/6400 [==============================] - 3s 537us/step - loss: -166.4639 - acc: 0.1778 - val_loss: -170.1124 - val_acc: 0.1800\n",
            "\n",
            "Epoch 00006: val_acc did not improve from 0.18188\n",
            "Epoch 7/100\n",
            "6400/6400 [==============================] - 3s 534us/step - loss: -167.9312 - acc: 0.1797 - val_loss: -172.0382 - val_acc: 0.1669\n",
            "\n",
            "Epoch 00007: val_acc did not improve from 0.18188\n",
            "Epoch 8/100\n",
            "6400/6400 [==============================] - 3s 526us/step - loss: -169.6809 - acc: 0.1941 - val_loss: -172.5326 - val_acc: 0.1625\n",
            "\n",
            "Epoch 00008: val_acc did not improve from 0.18188\n",
            "Epoch 9/100\n",
            "6400/6400 [==============================] - 3s 528us/step - loss: -171.4286 - acc: 0.2002 - val_loss: -175.3031 - val_acc: 0.1913\n",
            "\n",
            "Epoch 00009: val_acc improved from 0.18188 to 0.19125, saving model to voice_autoencoder.h5\n",
            "Epoch 10/100\n",
            "6400/6400 [==============================] - 3s 534us/step - loss: -173.2122 - acc: 0.2130 - val_loss: -177.3404 - val_acc: 0.2119\n",
            "\n",
            "Epoch 00010: val_acc improved from 0.19125 to 0.21188, saving model to voice_autoencoder.h5\n",
            "Epoch 11/100\n",
            "6400/6400 [==============================] - 3s 526us/step - loss: -174.5083 - acc: 0.2139 - val_loss: -178.2646 - val_acc: 0.2263\n",
            "\n",
            "Epoch 00011: val_acc improved from 0.21188 to 0.22625, saving model to voice_autoencoder.h5\n",
            "Epoch 12/100\n",
            "6400/6400 [==============================] - 3s 538us/step - loss: -175.5629 - acc: 0.2248 - val_loss: -179.3433 - val_acc: 0.2475\n",
            "\n",
            "Epoch 00012: val_acc improved from 0.22625 to 0.24750, saving model to voice_autoencoder.h5\n",
            "Epoch 13/100\n",
            "6400/6400 [==============================] - 3s 529us/step - loss: -177.0556 - acc: 0.2386 - val_loss: -179.8919 - val_acc: 0.2487\n",
            "\n",
            "Epoch 00013: val_acc improved from 0.24750 to 0.24875, saving model to voice_autoencoder.h5\n",
            "Epoch 14/100\n",
            "6400/6400 [==============================] - 3s 534us/step - loss: -178.1596 - acc: 0.2408 - val_loss: -181.6937 - val_acc: 0.2706\n",
            "\n",
            "Epoch 00014: val_acc improved from 0.24875 to 0.27063, saving model to voice_autoencoder.h5\n",
            "Epoch 15/100\n",
            "6400/6400 [==============================] - 4s 554us/step - loss: -178.9831 - acc: 0.2508 - val_loss: -182.4995 - val_acc: 0.2350\n",
            "\n",
            "Epoch 00015: val_acc did not improve from 0.27063\n",
            "Epoch 16/100\n",
            "6400/6400 [==============================] - 4s 568us/step - loss: -179.9084 - acc: 0.2509 - val_loss: -183.3516 - val_acc: 0.2612\n",
            "\n",
            "Epoch 00016: val_acc did not improve from 0.27063\n",
            "Epoch 17/100\n",
            "6400/6400 [==============================] - 4s 574us/step - loss: -180.8623 - acc: 0.2558 - val_loss: -183.8740 - val_acc: 0.2412\n",
            "\n",
            "Epoch 00017: val_acc did not improve from 0.27063\n",
            "Epoch 18/100\n",
            "6400/6400 [==============================] - 3s 528us/step - loss: -181.3613 - acc: 0.2580 - val_loss: -184.9834 - val_acc: 0.2525\n",
            "\n",
            "Epoch 00018: val_acc did not improve from 0.27063\n",
            "Epoch 19/100\n",
            "6400/6400 [==============================] - 3s 537us/step - loss: -181.8699 - acc: 0.2455 - val_loss: -185.2705 - val_acc: 0.2469\n",
            "\n",
            "Epoch 00019: val_acc did not improve from 0.27063\n",
            "Epoch 20/100\n",
            "6400/6400 [==============================] - 3s 532us/step - loss: -182.8227 - acc: 0.2647 - val_loss: -184.5537 - val_acc: 0.2569\n",
            "\n",
            "Epoch 00020: val_acc did not improve from 0.27063\n",
            "Epoch 21/100\n",
            "6400/6400 [==============================] - 3s 534us/step - loss: -183.0777 - acc: 0.2633 - val_loss: -186.3695 - val_acc: 0.2850\n",
            "\n",
            "Epoch 00021: val_acc improved from 0.27063 to 0.28500, saving model to voice_autoencoder.h5\n",
            "Epoch 22/100\n",
            "6400/6400 [==============================] - 3s 539us/step - loss: -183.5944 - acc: 0.2652 - val_loss: -186.3662 - val_acc: 0.2675\n",
            "\n",
            "Epoch 00022: val_acc did not improve from 0.28500\n",
            "Epoch 23/100\n",
            "6400/6400 [==============================] - 3s 531us/step - loss: -184.2855 - acc: 0.2753 - val_loss: -186.8072 - val_acc: 0.2812\n",
            "\n",
            "Epoch 00023: val_acc did not improve from 0.28500\n",
            "Epoch 24/100\n",
            "6400/6400 [==============================] - 3s 530us/step - loss: -184.7438 - acc: 0.2808 - val_loss: -187.1873 - val_acc: 0.2437\n",
            "\n",
            "Epoch 00024: val_acc did not improve from 0.28500\n",
            "Epoch 25/100\n",
            "6400/6400 [==============================] - 3s 528us/step - loss: -185.1021 - acc: 0.2792 - val_loss: -187.8821 - val_acc: 0.2737\n",
            "\n",
            "Epoch 00025: val_acc did not improve from 0.28500\n",
            "Epoch 26/100\n",
            "6400/6400 [==============================] - 3s 532us/step - loss: -185.3764 - acc: 0.2839 - val_loss: -187.6726 - val_acc: 0.2669\n",
            "\n",
            "Epoch 00026: val_acc did not improve from 0.28500\n",
            "Epoch 27/100\n",
            "6400/6400 [==============================] - 3s 542us/step - loss: -185.7640 - acc: 0.2755 - val_loss: -187.8116 - val_acc: 0.2756\n",
            "\n",
            "Epoch 00027: val_acc did not improve from 0.28500\n",
            "Epoch 28/100\n",
            "6400/6400 [==============================] - 3s 535us/step - loss: -185.8289 - acc: 0.2820 - val_loss: -188.6189 - val_acc: 0.3081\n",
            "\n",
            "Epoch 00028: val_acc improved from 0.28500 to 0.30812, saving model to voice_autoencoder.h5\n",
            "Epoch 29/100\n",
            "6400/6400 [==============================] - 3s 530us/step - loss: -186.4547 - acc: 0.2888 - val_loss: -188.7920 - val_acc: 0.2906\n",
            "\n",
            "Epoch 00029: val_acc did not improve from 0.30812\n",
            "Epoch 30/100\n",
            "6400/6400 [==============================] - 3s 543us/step - loss: -186.6904 - acc: 0.2961 - val_loss: -189.1602 - val_acc: 0.2944\n",
            "\n",
            "Epoch 00030: val_acc did not improve from 0.30812\n",
            "Epoch 31/100\n",
            "6400/6400 [==============================] - 3s 529us/step - loss: -186.9960 - acc: 0.2903 - val_loss: -189.1612 - val_acc: 0.2431\n",
            "\n",
            "Epoch 00031: val_acc did not improve from 0.30812\n",
            "Epoch 32/100\n",
            "6400/6400 [==============================] - 3s 537us/step - loss: -187.1446 - acc: 0.2941 - val_loss: -189.0556 - val_acc: 0.2625\n",
            "\n",
            "Epoch 00032: val_acc did not improve from 0.30812\n",
            "Epoch 33/100\n",
            "6400/6400 [==============================] - 3s 532us/step - loss: -187.1753 - acc: 0.2988 - val_loss: -189.8698 - val_acc: 0.2956\n",
            "\n",
            "Epoch 00033: val_acc did not improve from 0.30812\n",
            "Epoch 34/100\n",
            "6400/6400 [==============================] - 3s 530us/step - loss: -187.8802 - acc: 0.3064 - val_loss: -189.7616 - val_acc: 0.2900\n",
            "\n",
            "Epoch 00034: val_acc did not improve from 0.30812\n",
            "Epoch 35/100\n",
            "6400/6400 [==============================] - 3s 534us/step - loss: -187.9167 - acc: 0.3011 - val_loss: -190.1800 - val_acc: 0.2963\n",
            "\n",
            "Epoch 00035: val_acc did not improve from 0.30812\n",
            "Epoch 36/100\n",
            "6400/6400 [==============================] - 3s 531us/step - loss: -188.2823 - acc: 0.2970 - val_loss: -190.1836 - val_acc: 0.2831\n",
            "\n",
            "Epoch 00036: val_acc did not improve from 0.30812\n",
            "Epoch 37/100\n",
            "6400/6400 [==============================] - 3s 536us/step - loss: -188.2774 - acc: 0.2955 - val_loss: -190.2403 - val_acc: 0.2756\n",
            "\n",
            "Epoch 00037: val_acc did not improve from 0.30812\n",
            "Epoch 38/100\n",
            "6400/6400 [==============================] - 3s 531us/step - loss: -188.3947 - acc: 0.2967 - val_loss: -190.5441 - val_acc: 0.2794\n",
            "\n",
            "Epoch 00038: val_acc did not improve from 0.30812\n",
            "Epoch 39/100\n",
            "6400/6400 [==============================] - 3s 537us/step - loss: -188.6981 - acc: 0.2955 - val_loss: -190.7676 - val_acc: 0.2956\n",
            "\n",
            "Epoch 00039: val_acc did not improve from 0.30812\n",
            "Epoch 40/100\n",
            "6400/6400 [==============================] - 3s 524us/step - loss: -188.8342 - acc: 0.3169 - val_loss: -191.1016 - val_acc: 0.3056\n",
            "\n",
            "Epoch 00040: val_acc did not improve from 0.30812\n",
            "Epoch 41/100\n",
            "6400/6400 [==============================] - 3s 538us/step - loss: -189.1051 - acc: 0.3144 - val_loss: -191.0592 - val_acc: 0.2787\n",
            "\n",
            "Epoch 00041: val_acc did not improve from 0.30812\n",
            "Epoch 42/100\n",
            "6400/6400 [==============================] - 3s 531us/step - loss: -188.8861 - acc: 0.3080 - val_loss: -191.1469 - val_acc: 0.3206\n",
            "\n",
            "Epoch 00042: val_acc improved from 0.30812 to 0.32062, saving model to voice_autoencoder.h5\n",
            "Epoch 43/100\n",
            "6400/6400 [==============================] - 3s 518us/step - loss: -189.4691 - acc: 0.3150 - val_loss: -191.2174 - val_acc: 0.2812\n",
            "\n",
            "Epoch 00043: val_acc did not improve from 0.32062\n",
            "Epoch 44/100\n",
            "6400/6400 [==============================] - 3s 538us/step - loss: -189.5160 - acc: 0.3181 - val_loss: -191.0845 - val_acc: 0.2794\n",
            "\n",
            "Epoch 00044: val_acc did not improve from 0.32062\n",
            "Epoch 45/100\n",
            "6400/6400 [==============================] - 3s 533us/step - loss: -189.7445 - acc: 0.3025 - val_loss: -191.7254 - val_acc: 0.2812\n",
            "\n",
            "Epoch 00045: val_acc did not improve from 0.32062\n",
            "Epoch 46/100\n",
            "6400/6400 [==============================] - 3s 526us/step - loss: -190.1431 - acc: 0.3156 - val_loss: -192.0516 - val_acc: 0.2975\n",
            "\n",
            "Epoch 00046: val_acc did not improve from 0.32062\n",
            "Epoch 47/100\n",
            "6400/6400 [==============================] - 3s 531us/step - loss: -190.1488 - acc: 0.3144 - val_loss: -192.0418 - val_acc: 0.3019\n",
            "\n",
            "Epoch 00047: val_acc did not improve from 0.32062\n",
            "Epoch 48/100\n",
            "6400/6400 [==============================] - 3s 533us/step - loss: -190.3943 - acc: 0.3117 - val_loss: -191.9085 - val_acc: 0.2950\n",
            "\n",
            "Epoch 00048: val_acc did not improve from 0.32062\n",
            "Epoch 49/100\n",
            "6400/6400 [==============================] - 3s 532us/step - loss: -190.5091 - acc: 0.2984 - val_loss: -191.8553 - val_acc: 0.2938\n",
            "\n",
            "Epoch 00049: val_acc did not improve from 0.32062\n",
            "Epoch 50/100\n",
            "6400/6400 [==============================] - 3s 536us/step - loss: -190.7578 - acc: 0.3106 - val_loss: -192.0558 - val_acc: 0.2900\n",
            "\n",
            "Epoch 00050: val_acc did not improve from 0.32062\n",
            "Epoch 51/100\n",
            "6400/6400 [==============================] - 3s 530us/step - loss: -190.7929 - acc: 0.3172 - val_loss: -192.1427 - val_acc: 0.2838\n",
            "\n",
            "Epoch 00051: val_acc did not improve from 0.32062\n",
            "Epoch 52/100\n",
            "6400/6400 [==============================] - 3s 523us/step - loss: -190.7316 - acc: 0.3166 - val_loss: -191.7663 - val_acc: 0.2969\n",
            "\n",
            "Epoch 00052: val_acc did not improve from 0.32062\n",
            "Epoch 53/100\n",
            "6400/6400 [==============================] - 3s 531us/step - loss: -190.9365 - acc: 0.3184 - val_loss: -192.7736 - val_acc: 0.2925\n",
            "\n",
            "Epoch 00053: val_acc did not improve from 0.32062\n",
            "Epoch 54/100\n",
            "6400/6400 [==============================] - 3s 534us/step - loss: -191.4070 - acc: 0.3244 - val_loss: -193.0959 - val_acc: 0.3187\n",
            "\n",
            "Epoch 00054: val_acc did not improve from 0.32062\n",
            "Epoch 55/100\n",
            "6400/6400 [==============================] - 3s 535us/step - loss: -191.3075 - acc: 0.3180 - val_loss: -192.5307 - val_acc: 0.3119\n",
            "\n",
            "Epoch 00055: val_acc did not improve from 0.32062\n",
            "Epoch 56/100\n",
            "6400/6400 [==============================] - 3s 535us/step - loss: -191.4270 - acc: 0.3173 - val_loss: -192.7569 - val_acc: 0.2844\n",
            "\n",
            "Epoch 00056: val_acc did not improve from 0.32062\n",
            "Epoch 57/100\n",
            "6400/6400 [==============================] - 3s 533us/step - loss: -191.6348 - acc: 0.3145 - val_loss: -192.9907 - val_acc: 0.3200\n",
            "\n",
            "Epoch 00057: val_acc did not improve from 0.32062\n",
            "Epoch 58/100\n",
            "6400/6400 [==============================] - 3s 532us/step - loss: -191.8613 - acc: 0.3242 - val_loss: -193.1307 - val_acc: 0.3038\n",
            "\n",
            "Epoch 00058: val_acc did not improve from 0.32062\n",
            "Epoch 59/100\n",
            "6400/6400 [==============================] - 3s 534us/step - loss: -191.5852 - acc: 0.3259 - val_loss: -192.6148 - val_acc: 0.3100\n",
            "\n",
            "Epoch 00059: val_acc did not improve from 0.32062\n",
            "Epoch 60/100\n",
            "6400/6400 [==============================] - 3s 540us/step - loss: -191.9843 - acc: 0.3398 - val_loss: -193.4195 - val_acc: 0.3019\n",
            "\n",
            "Epoch 00060: val_acc did not improve from 0.32062\n",
            "Epoch 61/100\n",
            "6400/6400 [==============================] - 3s 534us/step - loss: -192.1165 - acc: 0.3331 - val_loss: -193.1107 - val_acc: 0.3125\n",
            "\n",
            "Epoch 00061: val_acc did not improve from 0.32062\n",
            "Epoch 62/100\n",
            "6400/6400 [==============================] - 3s 534us/step - loss: -191.8732 - acc: 0.3181 - val_loss: -193.2602 - val_acc: 0.3175\n",
            "\n",
            "Epoch 00062: val_acc did not improve from 0.32062\n",
            "Epoch 63/100\n",
            "6400/6400 [==============================] - 3s 536us/step - loss: -192.1927 - acc: 0.3233 - val_loss: -193.4999 - val_acc: 0.3281\n",
            "\n",
            "Epoch 00063: val_acc improved from 0.32062 to 0.32812, saving model to voice_autoencoder.h5\n",
            "Epoch 64/100\n",
            "6400/6400 [==============================] - 3s 527us/step - loss: -192.3407 - acc: 0.3306 - val_loss: -193.2833 - val_acc: 0.3231\n",
            "\n",
            "Epoch 00064: val_acc did not improve from 0.32812\n",
            "Epoch 65/100\n",
            "6400/6400 [==============================] - 3s 531us/step - loss: -192.3618 - acc: 0.3237 - val_loss: -193.6794 - val_acc: 0.3312\n",
            "\n",
            "Epoch 00065: val_acc improved from 0.32812 to 0.33125, saving model to voice_autoencoder.h5\n",
            "Epoch 66/100\n",
            "6400/6400 [==============================] - 3s 536us/step - loss: -192.5801 - acc: 0.3364 - val_loss: -193.7321 - val_acc: 0.3131\n",
            "\n",
            "Epoch 00066: val_acc did not improve from 0.33125\n",
            "Epoch 67/100\n",
            "6400/6400 [==============================] - 3s 542us/step - loss: -192.5832 - acc: 0.3278 - val_loss: -193.6116 - val_acc: 0.3119\n",
            "\n",
            "Epoch 00067: val_acc did not improve from 0.33125\n",
            "Epoch 68/100\n",
            "6400/6400 [==============================] - 3s 533us/step - loss: -192.6049 - acc: 0.3330 - val_loss: -193.2487 - val_acc: 0.3231\n",
            "\n",
            "Epoch 00068: val_acc did not improve from 0.33125\n",
            "Epoch 69/100\n",
            "6400/6400 [==============================] - 4s 564us/step - loss: -192.5253 - acc: 0.3222 - val_loss: -193.6236 - val_acc: 0.3013\n",
            "\n",
            "Epoch 00069: val_acc did not improve from 0.33125\n",
            "Epoch 70/100\n",
            "6400/6400 [==============================] - 4s 555us/step - loss: -192.6772 - acc: 0.3319 - val_loss: -193.8370 - val_acc: 0.3137\n",
            "\n",
            "Epoch 00070: val_acc did not improve from 0.33125\n",
            "Epoch 71/100\n",
            "6400/6400 [==============================] - 3s 525us/step - loss: -192.8999 - acc: 0.3259 - val_loss: -193.9081 - val_acc: 0.3275\n",
            "\n",
            "Epoch 00071: val_acc did not improve from 0.33125\n",
            "Epoch 72/100\n",
            "6400/6400 [==============================] - 3s 535us/step - loss: -193.0466 - acc: 0.3425 - val_loss: -193.9657 - val_acc: 0.3262\n",
            "\n",
            "Epoch 00072: val_acc did not improve from 0.33125\n",
            "Epoch 73/100\n",
            "6400/6400 [==============================] - 3s 528us/step - loss: -192.8489 - acc: 0.3398 - val_loss: -193.8905 - val_acc: 0.3194\n",
            "\n",
            "Epoch 00073: val_acc did not improve from 0.33125\n",
            "Epoch 74/100\n",
            "6400/6400 [==============================] - 3s 526us/step - loss: -192.8588 - acc: 0.3389 - val_loss: -194.0137 - val_acc: 0.3156\n",
            "\n",
            "Epoch 00074: val_acc did not improve from 0.33125\n",
            "Epoch 75/100\n",
            "6400/6400 [==============================] - 3s 530us/step - loss: -193.1021 - acc: 0.3273 - val_loss: -193.8428 - val_acc: 0.3212\n",
            "\n",
            "Epoch 00075: val_acc did not improve from 0.33125\n",
            "Epoch 76/100\n",
            "6400/6400 [==============================] - 3s 526us/step - loss: -193.3798 - acc: 0.3398 - val_loss: -193.9879 - val_acc: 0.3075\n",
            "\n",
            "Epoch 00076: val_acc did not improve from 0.33125\n",
            "Epoch 77/100\n",
            "6400/6400 [==============================] - 3s 521us/step - loss: -193.2827 - acc: 0.3294 - val_loss: -194.0120 - val_acc: 0.3137\n",
            "\n",
            "Epoch 00077: val_acc did not improve from 0.33125\n",
            "Epoch 78/100\n",
            "6400/6400 [==============================] - 3s 541us/step - loss: -193.4804 - acc: 0.3414 - val_loss: -194.0170 - val_acc: 0.3294\n",
            "\n",
            "Epoch 00078: val_acc did not improve from 0.33125\n",
            "Epoch 79/100\n",
            "6400/6400 [==============================] - 3s 531us/step - loss: -193.3735 - acc: 0.3473 - val_loss: -194.0313 - val_acc: 0.3306\n",
            "\n",
            "Epoch 00079: val_acc did not improve from 0.33125\n",
            "Epoch 80/100\n",
            "6400/6400 [==============================] - 3s 524us/step - loss: -192.8814 - acc: 0.3291 - val_loss: -193.7659 - val_acc: 0.3006\n",
            "\n",
            "Epoch 00080: val_acc did not improve from 0.33125\n",
            "Epoch 81/100\n",
            "6400/6400 [==============================] - 3s 533us/step - loss: -193.0177 - acc: 0.3420 - val_loss: -194.4429 - val_acc: 0.3106\n",
            "\n",
            "Epoch 00081: val_acc did not improve from 0.33125\n",
            "Epoch 82/100\n",
            "6400/6400 [==============================] - 3s 528us/step - loss: -193.5263 - acc: 0.3431 - val_loss: -194.3098 - val_acc: 0.3381\n",
            "\n",
            "Epoch 00082: val_acc improved from 0.33125 to 0.33813, saving model to voice_autoencoder.h5\n",
            "Epoch 83/100\n",
            "6400/6400 [==============================] - 3s 527us/step - loss: -193.5950 - acc: 0.3422 - val_loss: -194.2940 - val_acc: 0.3244\n",
            "\n",
            "Epoch 00083: val_acc did not improve from 0.33813\n",
            "Epoch 84/100\n",
            "6400/6400 [==============================] - 3s 529us/step - loss: -193.7161 - acc: 0.3419 - val_loss: -194.5222 - val_acc: 0.3425\n",
            "\n",
            "Epoch 00084: val_acc improved from 0.33813 to 0.34250, saving model to voice_autoencoder.h5\n",
            "Epoch 85/100\n",
            "6400/6400 [==============================] - 3s 536us/step - loss: -193.6097 - acc: 0.3362 - val_loss: -194.2002 - val_acc: 0.3456\n",
            "\n",
            "Epoch 00085: val_acc improved from 0.34250 to 0.34563, saving model to voice_autoencoder.h5\n",
            "Epoch 86/100\n",
            "6400/6400 [==============================] - 3s 530us/step - loss: -193.7502 - acc: 0.3425 - val_loss: -194.4974 - val_acc: 0.3419\n",
            "\n",
            "Epoch 00086: val_acc did not improve from 0.34563\n",
            "Epoch 87/100\n",
            "6400/6400 [==============================] - 3s 526us/step - loss: -193.3722 - acc: 0.3311 - val_loss: -194.0255 - val_acc: 0.3212\n",
            "\n",
            "Epoch 00087: val_acc did not improve from 0.34563\n",
            "Epoch 88/100\n",
            "6400/6400 [==============================] - 3s 538us/step - loss: -193.5668 - acc: 0.3339 - val_loss: -194.1177 - val_acc: 0.3569\n",
            "\n",
            "Epoch 00088: val_acc improved from 0.34563 to 0.35687, saving model to voice_autoencoder.h5\n",
            "Epoch 89/100\n",
            "6400/6400 [==============================] - 3s 537us/step - loss: -193.8815 - acc: 0.3425 - val_loss: -194.1267 - val_acc: 0.3262\n",
            "\n",
            "Epoch 00089: val_acc did not improve from 0.35687\n",
            "Epoch 90/100\n",
            "6400/6400 [==============================] - 3s 540us/step - loss: -193.8731 - acc: 0.3416 - val_loss: -194.7536 - val_acc: 0.3256\n",
            "\n",
            "Epoch 00090: val_acc did not improve from 0.35687\n",
            "Epoch 91/100\n",
            "6400/6400 [==============================] - 3s 536us/step - loss: -193.8136 - acc: 0.3472 - val_loss: -194.5236 - val_acc: 0.3319\n",
            "\n",
            "Epoch 00091: val_acc did not improve from 0.35687\n",
            "Epoch 92/100\n",
            "6400/6400 [==============================] - 3s 527us/step - loss: -193.9928 - acc: 0.3394 - val_loss: -194.8501 - val_acc: 0.3275\n",
            "\n",
            "Epoch 00092: val_acc did not improve from 0.35687\n",
            "Epoch 93/100\n",
            "6400/6400 [==============================] - 3s 527us/step - loss: -194.3702 - acc: 0.3466 - val_loss: -194.8892 - val_acc: 0.3500\n",
            "\n",
            "Epoch 00093: val_acc did not improve from 0.35687\n",
            "Epoch 94/100\n",
            "6400/6400 [==============================] - 3s 527us/step - loss: -194.3163 - acc: 0.3589 - val_loss: -194.8257 - val_acc: 0.3438\n",
            "\n",
            "Epoch 00094: val_acc did not improve from 0.35687\n",
            "Epoch 95/100\n",
            "6400/6400 [==============================] - 3s 537us/step - loss: -193.6549 - acc: 0.3323 - val_loss: -194.5819 - val_acc: 0.3425\n",
            "\n",
            "Epoch 00095: val_acc did not improve from 0.35687\n",
            "Epoch 96/100\n",
            "6400/6400 [==============================] - 3s 532us/step - loss: -194.1935 - acc: 0.3416 - val_loss: -194.5069 - val_acc: 0.3656\n",
            "\n",
            "Epoch 00096: val_acc improved from 0.35687 to 0.36562, saving model to voice_autoencoder.h5\n",
            "Epoch 97/100\n",
            "6400/6400 [==============================] - 3s 528us/step - loss: -194.3215 - acc: 0.3441 - val_loss: -194.5163 - val_acc: 0.3344\n",
            "\n",
            "Epoch 00097: val_acc did not improve from 0.36562\n",
            "Epoch 98/100\n",
            "6400/6400 [==============================] - 3s 531us/step - loss: -194.1510 - acc: 0.3463 - val_loss: -194.8911 - val_acc: 0.3713\n",
            "\n",
            "Epoch 00098: val_acc improved from 0.36562 to 0.37125, saving model to voice_autoencoder.h5\n",
            "Epoch 99/100\n",
            "6400/6400 [==============================] - 3s 524us/step - loss: -194.6035 - acc: 0.3500 - val_loss: -194.9280 - val_acc: 0.3312\n",
            "\n",
            "Epoch 00099: val_acc did not improve from 0.37125\n",
            "Epoch 100/100\n",
            "6400/6400 [==============================] - 3s 515us/step - loss: -194.4595 - acc: 0.3452 - val_loss: -194.9923 - val_acc: 0.3463\n",
            "\n",
            "Epoch 00100: val_acc did not improve from 0.37125\n"
          ],
          "name": "stdout"
        }
      ]
    },
    {
      "cell_type": "code",
      "metadata": {
        "id": "6CVSQnib_L9C",
        "colab_type": "code",
        "colab": {
          "base_uri": "https://localhost:8080/",
          "height": 281
        },
        "outputId": "2141ca97-9310-447b-cd82-9731a4649aa8"
      },
      "source": [
        "loss = autoencoder_train.history['loss']\n",
        "val_loss = autoencoder_train.history['val_loss']\n",
        "epochs = range(100)\n",
        "plt.figure()\n",
        "plt.plot(epochs, loss, 'bo', label = 'Training Loss')\n",
        "plt.plot(epochs, val_loss, 'b', label = 'Validation Loss')\n",
        "plt.title('Training and Validation Loss for Autoencoders on MFCCs')\n",
        "plt.legend()\n",
        "plt.show()"
      ],
      "execution_count": 70,
      "outputs": [
        {
          "output_type": "display_data",
          "data": {
            "image/png": "[encoded data removed]",
            "text/plain": [
              "<Figure size 432x288 with 1 Axes>"
            ]
          },
          "metadata": {
            "tags": []
          }
        }
      ]
    },
    {
      "cell_type": "code",
      "metadata": {
        "id": "T9VRhB6oApse",
        "colab_type": "code",
        "colab": {}
      },
      "source": [
        "autoencoder.save_weights('Autoencoder_Voices_Weights.h5')"
      ],
      "execution_count": 0,
      "outputs": []
    },
    {
      "cell_type": "code",
      "metadata": {
        "id": "D_TEsDbuA3Z_",
        "colab_type": "code",
        "colab": {}
      },
      "source": [
        "input = Input(shape = (40, ))\n",
        "x = Dense(128, activation = 'relu')(input)\n",
        "x = Dense(128, activation = 'relu')(x)\n",
        "x = Dense(64, activation = 'relu')(x)\n",
        "x = Dense(64, activation = 'relu')(x)\n",
        "encoded = Dense(32, activation = 'relu')(x)\n",
        "x = Dense(128, activation = 'relu')(encoded)\n",
        "output = Dense(100, activation = 'softmax')(x)"
      ],
      "execution_count": 0,
      "outputs": []
    },
    {
      "cell_type": "code",
      "metadata": {
        "id": "ni0ReOKVBIlH",
        "colab_type": "code",
        "colab": {}
      },
      "source": [
        "full_model = Model(input, output)"
      ],
      "execution_count": 0,
      "outputs": []
    },
    {
      "cell_type": "code",
      "metadata": {
        "id": "Hx8kyuSBBMpW",
        "colab_type": "code",
        "colab": {
          "base_uri": "https://localhost:8080/",
          "height": 34
        },
        "outputId": "687d6ca0-1418-4a11-b055-43249ef1fae4"
      },
      "source": [
        "len(full_model.layers)"
      ],
      "execution_count": 74,
      "outputs": [
        {
          "output_type": "execute_result",
          "data": {
            "text/plain": [
              "8"
            ]
          },
          "metadata": {
            "tags": []
          },
          "execution_count": 74
        }
      ]
    },
    {
      "cell_type": "code",
      "metadata": {
        "id": "B1LIIhkzBO0u",
        "colab_type": "code",
        "colab": {}
      },
      "source": [
        "for l1, l2 in zip(full_model.layers[:6], autoencoder.layers[0:6]):\n",
        "  l1.set_weights(l2.get_weights())"
      ],
      "execution_count": 0,
      "outputs": []
    },
    {
      "cell_type": "code",
      "metadata": {
        "id": "_EJIMro_BVed",
        "colab_type": "code",
        "colab": {
          "base_uri": "https://localhost:8080/",
          "height": 459
        },
        "outputId": "bfc96d8d-8e2a-42cd-bf6f-8f06e2e20dcd"
      },
      "source": [
        "autoencoder.get_weights()[0][1]"
      ],
      "execution_count": 76,
      "outputs": [
        {
          "output_type": "execute_result",
          "data": {
            "text/plain": [
              "array([ 0.05387349, -0.10567961,  0.19412678,  0.17528418,  0.25584242,\n",
              "       -0.15974623,  0.3653098 , -0.66731364, -0.21035647, -0.16649148,\n",
              "       -0.0692225 , -0.040491  ,  0.19600216, -0.35123584, -0.5212695 ,\n",
              "       -0.45420045, -0.05359562,  0.22080202,  0.11263556,  0.11165377,\n",
              "        0.1522395 ,  0.74657553,  0.20379923,  0.1711179 , -0.14913252,\n",
              "        0.05878667, -0.30182847, -0.14830917,  0.2060685 ,  0.17622708,\n",
              "        0.19013682, -0.10642849,  0.06285158, -0.48234412, -0.04240697,\n",
              "        0.22406282,  0.03625853, -0.22430946, -0.27700734, -0.06248192,\n",
              "       -0.03643917, -0.37369007,  0.12959088, -0.00550769,  0.4069404 ,\n",
              "       -0.76144636,  0.14754324,  0.06707559, -0.273207  ,  0.22935112,\n",
              "        0.13974652, -0.01262413, -0.07659116,  0.03220008, -0.35661426,\n",
              "       -0.31055135,  0.00755485,  0.07798854, -0.24147794, -0.18338472,\n",
              "        0.1364172 , -0.0562776 ,  0.14168973, -0.13718778,  0.13327935,\n",
              "       -0.32742736, -0.06032571, -0.06628612,  0.0475603 , -0.19429983,\n",
              "        0.34744295,  0.1741643 ,  0.17487012, -0.08662941,  0.36749148,\n",
              "       -0.0956079 ,  0.13405424,  0.28210017, -0.03779141,  0.0412449 ,\n",
              "        0.11835308, -0.02591261, -0.0018047 , -0.11861268, -0.10926878,\n",
              "        0.05006341, -0.17741454, -0.0480874 ,  0.25084642, -0.21726175,\n",
              "       -0.07072257, -0.22798795,  0.16846883, -0.51759744, -0.17714742,\n",
              "        0.35206077, -0.17040744,  0.14840294,  0.03181427,  0.06831217,\n",
              "        0.10835455, -0.1177272 , -0.11979278, -0.40929645, -0.08042813,\n",
              "        0.11843964, -0.01982791, -0.01846399,  0.43052098,  0.00728049,\n",
              "        0.20005678,  0.0128846 , -0.08214093,  0.27385873,  0.11164593,\n",
              "        0.5083549 , -0.15967405,  0.02584524,  0.02006115, -0.23978233,\n",
              "       -0.10163394, -0.26493606,  0.05345678,  0.0460225 ,  0.65370554,\n",
              "       -0.07441781,  0.4651257 ,  0.0817588 ], dtype=float32)"
            ]
          },
          "metadata": {
            "tags": []
          },
          "execution_count": 76
        }
      ]
    },
    {
      "cell_type": "code",
      "metadata": {
        "id": "iaXQB0wnBXvk",
        "colab_type": "code",
        "colab": {
          "base_uri": "https://localhost:8080/",
          "height": 459
        },
        "outputId": "e49c6540-9653-4250-b543-72713eca625a"
      },
      "source": [
        "full_model.get_weights()[0][1]"
      ],
      "execution_count": 77,
      "outputs": [
        {
          "output_type": "execute_result",
          "data": {
            "text/plain": [
              "array([ 0.05387349, -0.10567961,  0.19412678,  0.17528418,  0.25584242,\n",
              "       -0.15974623,  0.3653098 , -0.66731364, -0.21035647, -0.16649148,\n",
              "       -0.0692225 , -0.040491  ,  0.19600216, -0.35123584, -0.5212695 ,\n",
              "       -0.45420045, -0.05359562,  0.22080202,  0.11263556,  0.11165377,\n",
              "        0.1522395 ,  0.74657553,  0.20379923,  0.1711179 , -0.14913252,\n",
              "        0.05878667, -0.30182847, -0.14830917,  0.2060685 ,  0.17622708,\n",
              "        0.19013682, -0.10642849,  0.06285158, -0.48234412, -0.04240697,\n",
              "        0.22406282,  0.03625853, -0.22430946, -0.27700734, -0.06248192,\n",
              "       -0.03643917, -0.37369007,  0.12959088, -0.00550769,  0.4069404 ,\n",
              "       -0.76144636,  0.14754324,  0.06707559, -0.273207  ,  0.22935112,\n",
              "        0.13974652, -0.01262413, -0.07659116,  0.03220008, -0.35661426,\n",
              "       -0.31055135,  0.00755485,  0.07798854, -0.24147794, -0.18338472,\n",
              "        0.1364172 , -0.0562776 ,  0.14168973, -0.13718778,  0.13327935,\n",
              "       -0.32742736, -0.06032571, -0.06628612,  0.0475603 , -0.19429983,\n",
              "        0.34744295,  0.1741643 ,  0.17487012, -0.08662941,  0.36749148,\n",
              "       -0.0956079 ,  0.13405424,  0.28210017, -0.03779141,  0.0412449 ,\n",
              "        0.11835308, -0.02591261, -0.0018047 , -0.11861268, -0.10926878,\n",
              "        0.05006341, -0.17741454, -0.0480874 ,  0.25084642, -0.21726175,\n",
              "       -0.07072257, -0.22798795,  0.16846883, -0.51759744, -0.17714742,\n",
              "        0.35206077, -0.17040744,  0.14840294,  0.03181427,  0.06831217,\n",
              "        0.10835455, -0.1177272 , -0.11979278, -0.40929645, -0.08042813,\n",
              "        0.11843964, -0.01982791, -0.01846399,  0.43052098,  0.00728049,\n",
              "        0.20005678,  0.0128846 , -0.08214093,  0.27385873,  0.11164593,\n",
              "        0.5083549 , -0.15967405,  0.02584524,  0.02006115, -0.23978233,\n",
              "       -0.10163394, -0.26493606,  0.05345678,  0.0460225 ,  0.65370554,\n",
              "       -0.07441781,  0.4651257 ,  0.0817588 ], dtype=float32)"
            ]
          },
          "metadata": {
            "tags": []
          },
          "execution_count": 77
        }
      ]
    },
    {
      "cell_type": "code",
      "metadata": {
        "id": "8qwFmol5BbCa",
        "colab_type": "code",
        "colab": {}
      },
      "source": [
        "for layer in full_model.layers[0:6]:\n",
        "  layer.trainable = False"
      ],
      "execution_count": 0,
      "outputs": []
    },
    {
      "cell_type": "code",
      "metadata": {
        "id": "m-kIgwlrBgdd",
        "colab_type": "code",
        "colab": {}
      },
      "source": [
        "full_model.compile(loss = 'categorical_crossentropy', metrics = ['accuracy'], optimizer = 'adam')"
      ],
      "execution_count": 0,
      "outputs": []
    },
    {
      "cell_type": "code",
      "metadata": {
        "id": "omUm54poBjXv",
        "colab_type": "code",
        "colab": {
          "base_uri": "https://localhost:8080/",
          "height": 425
        },
        "outputId": "84e5691e-8694-4deb-d6e8-cafc760cb8c8"
      },
      "source": [
        "full_model.summary()"
      ],
      "execution_count": 80,
      "outputs": [
        {
          "output_type": "stream",
          "text": [
            "Model: \"model_2\"\n",
            "_________________________________________________________________\n",
            "Layer (type)                 Output Shape              Param #   \n",
            "=================================================================\n",
            "input_2 (InputLayer)         (None, 40)                0         \n",
            "_________________________________________________________________\n",
            "dense_11 (Dense)             (None, 128)               5248      \n",
            "_________________________________________________________________\n",
            "dense_12 (Dense)             (None, 128)               16512     \n",
            "_________________________________________________________________\n",
            "dense_13 (Dense)             (None, 64)                8256      \n",
            "_________________________________________________________________\n",
            "dense_14 (Dense)             (None, 64)                4160      \n",
            "_________________________________________________________________\n",
            "dense_15 (Dense)             (None, 32)                2080      \n",
            "_________________________________________________________________\n",
            "dense_16 (Dense)             (None, 128)               4224      \n",
            "_________________________________________________________________\n",
            "dense_17 (Dense)             (None, 100)               12900     \n",
            "=================================================================\n",
            "Total params: 53,380\n",
            "Trainable params: 17,124\n",
            "Non-trainable params: 36,256\n",
            "_________________________________________________________________\n"
          ],
          "name": "stdout"
        }
      ]
    },
    {
      "cell_type": "code",
      "metadata": {
        "id": "4Y-23L17BlSe",
        "colab_type": "code",
        "colab": {
          "base_uri": "https://localhost:8080/",
          "height": 1000
        },
        "outputId": "4ecd5733-ef20-456d-9975-10879d2bda00"
      },
      "source": [
        "filepath = 'pretrained_voice_best_weights.h5'\n",
        "checkpoint = ModelCheckpoint(filepath, monitor = 'val_acc', verbose = 1, save_best_only = True, mode = 'max')\n",
        "callbacks_list = [checkpoint]\n",
        "pretrained_classifier_train = full_model.fit(X_train, y_train, epochs = 100, batch_size = 16, verbose = 1, callbacks = callbacks_list, validation_data = [X_val, y_val])"
      ],
      "execution_count": 81,
      "outputs": [
        {
          "output_type": "stream",
          "text": [
            "Train on 6400 samples, validate on 1600 samples\n",
            "Epoch 1/100\n",
            "6400/6400 [==============================] - 2s 359us/step - loss: 1.8114 - acc: 0.6584 - val_loss: 0.6372 - val_acc: 0.8912\n",
            "\n",
            "Epoch 00001: val_acc improved from -inf to 0.89125, saving model to pretrained_voice_best_weights.h5\n",
            "Epoch 2/100\n",
            "6400/6400 [==============================] - 2s 307us/step - loss: 0.4794 - acc: 0.9147 - val_loss: 0.4460 - val_acc: 0.9231\n",
            "\n",
            "Epoch 00002: val_acc improved from 0.89125 to 0.92312, saving model to pretrained_voice_best_weights.h5\n",
            "Epoch 3/100\n",
            "6400/6400 [==============================] - 2s 308us/step - loss: 0.3415 - acc: 0.9381 - val_loss: 0.3611 - val_acc: 0.9369\n",
            "\n",
            "Epoch 00003: val_acc improved from 0.92312 to 0.93688, saving model to pretrained_voice_best_weights.h5\n",
            "Epoch 4/100\n",
            "6400/6400 [==============================] - 2s 311us/step - loss: 0.2845 - acc: 0.9531 - val_loss: 0.3332 - val_acc: 0.9400\n",
            "\n",
            "Epoch 00004: val_acc improved from 0.93688 to 0.94000, saving model to pretrained_voice_best_weights.h5\n",
            "Epoch 5/100\n",
            "6400/6400 [==============================] - 2s 302us/step - loss: 0.2491 - acc: 0.9586 - val_loss: 0.3231 - val_acc: 0.9394\n",
            "\n",
            "Epoch 00005: val_acc did not improve from 0.94000\n",
            "Epoch 6/100\n",
            "6400/6400 [==============================] - 2s 309us/step - loss: 0.2264 - acc: 0.9631 - val_loss: 0.3262 - val_acc: 0.9344\n",
            "\n",
            "Epoch 00006: val_acc did not improve from 0.94000\n",
            "Epoch 7/100\n",
            "6400/6400 [==============================] - 2s 319us/step - loss: 0.2040 - acc: 0.9702 - val_loss: 0.3231 - val_acc: 0.9400\n",
            "\n",
            "Epoch 00007: val_acc did not improve from 0.94000\n",
            "Epoch 8/100\n",
            "6400/6400 [==============================] - 2s 319us/step - loss: 0.2022 - acc: 0.9678 - val_loss: 0.3047 - val_acc: 0.9487\n",
            "\n",
            "Epoch 00008: val_acc improved from 0.94000 to 0.94875, saving model to pretrained_voice_best_weights.h5\n",
            "Epoch 9/100\n",
            "6400/6400 [==============================] - 2s 330us/step - loss: 0.1773 - acc: 0.9723 - val_loss: 0.2961 - val_acc: 0.9500\n",
            "\n",
            "Epoch 00009: val_acc improved from 0.94875 to 0.95000, saving model to pretrained_voice_best_weights.h5\n",
            "Epoch 10/100\n",
            "6400/6400 [==============================] - 2s 328us/step - loss: 0.1722 - acc: 0.9750 - val_loss: 0.3090 - val_acc: 0.9481\n",
            "\n",
            "Epoch 00010: val_acc did not improve from 0.95000\n",
            "Epoch 11/100\n",
            "6400/6400 [==============================] - 2s 328us/step - loss: 0.1755 - acc: 0.9734 - val_loss: 0.2931 - val_acc: 0.9525\n",
            "\n",
            "Epoch 00011: val_acc improved from 0.95000 to 0.95250, saving model to pretrained_voice_best_weights.h5\n",
            "Epoch 12/100\n",
            "6400/6400 [==============================] - 2s 334us/step - loss: 0.1543 - acc: 0.9798 - val_loss: 0.2838 - val_acc: 0.9487\n",
            "\n",
            "Epoch 00012: val_acc did not improve from 0.95250\n",
            "Epoch 13/100\n",
            "6400/6400 [==============================] - 2s 316us/step - loss: 0.1555 - acc: 0.9764 - val_loss: 0.2921 - val_acc: 0.9525\n",
            "\n",
            "Epoch 00013: val_acc did not improve from 0.95250\n",
            "Epoch 14/100\n",
            "6400/6400 [==============================] - 2s 313us/step - loss: 0.1437 - acc: 0.9836 - val_loss: 0.2964 - val_acc: 0.9544\n",
            "\n",
            "Epoch 00014: val_acc improved from 0.95250 to 0.95437, saving model to pretrained_voice_best_weights.h5\n",
            "Epoch 15/100\n",
            "6400/6400 [==============================] - 2s 311us/step - loss: 0.1416 - acc: 0.9817 - val_loss: 0.3424 - val_acc: 0.9425\n",
            "\n",
            "Epoch 00015: val_acc did not improve from 0.95437\n",
            "Epoch 16/100\n",
            "6400/6400 [==============================] - 2s 312us/step - loss: 0.1488 - acc: 0.9797 - val_loss: 0.3070 - val_acc: 0.9537\n",
            "\n",
            "Epoch 00016: val_acc did not improve from 0.95437\n",
            "Epoch 17/100\n",
            "6400/6400 [==============================] - 2s 312us/step - loss: 0.1369 - acc: 0.9819 - val_loss: 0.3260 - val_acc: 0.9425\n",
            "\n",
            "Epoch 00017: val_acc did not improve from 0.95437\n",
            "Epoch 18/100\n",
            "6400/6400 [==============================] - 2s 308us/step - loss: 0.1329 - acc: 0.9844 - val_loss: 0.3209 - val_acc: 0.9487\n",
            "\n",
            "Epoch 00018: val_acc did not improve from 0.95437\n",
            "Epoch 19/100\n",
            "6400/6400 [==============================] - 2s 320us/step - loss: 0.1256 - acc: 0.9864 - val_loss: 0.3132 - val_acc: 0.9494\n",
            "\n",
            "Epoch 00019: val_acc did not improve from 0.95437\n",
            "Epoch 20/100\n",
            "6400/6400 [==============================] - 2s 310us/step - loss: 0.1288 - acc: 0.9867 - val_loss: 0.3130 - val_acc: 0.9594\n",
            "\n",
            "Epoch 00020: val_acc improved from 0.95437 to 0.95937, saving model to pretrained_voice_best_weights.h5\n",
            "Epoch 21/100\n",
            "6400/6400 [==============================] - 2s 312us/step - loss: 0.1265 - acc: 0.9842 - val_loss: 0.3040 - val_acc: 0.9544\n",
            "\n",
            "Epoch 00021: val_acc did not improve from 0.95937\n",
            "Epoch 22/100\n",
            "6400/6400 [==============================] - 2s 314us/step - loss: 0.1328 - acc: 0.9831 - val_loss: 0.3402 - val_acc: 0.9463\n",
            "\n",
            "Epoch 00022: val_acc did not improve from 0.95937\n",
            "Epoch 23/100\n",
            "6400/6400 [==============================] - 2s 304us/step - loss: 0.1375 - acc: 0.9827 - val_loss: 0.3431 - val_acc: 0.9513\n",
            "\n",
            "Epoch 00023: val_acc did not improve from 0.95937\n",
            "Epoch 24/100\n",
            "6400/6400 [==============================] - 2s 305us/step - loss: 0.1277 - acc: 0.9844 - val_loss: 0.3121 - val_acc: 0.9587\n",
            "\n",
            "Epoch 00024: val_acc did not improve from 0.95937\n",
            "Epoch 25/100\n",
            "6400/6400 [==============================] - 2s 316us/step - loss: 0.1175 - acc: 0.9891 - val_loss: 0.3085 - val_acc: 0.9575\n",
            "\n",
            "Epoch 00025: val_acc did not improve from 0.95937\n",
            "Epoch 26/100\n",
            "6400/6400 [==============================] - 2s 313us/step - loss: 0.1125 - acc: 0.9898 - val_loss: 0.3077 - val_acc: 0.9550\n",
            "\n",
            "Epoch 00026: val_acc did not improve from 0.95937\n",
            "Epoch 27/100\n",
            "6400/6400 [==============================] - 2s 314us/step - loss: 0.1246 - acc: 0.9869 - val_loss: 0.3681 - val_acc: 0.9463\n",
            "\n",
            "Epoch 00027: val_acc did not improve from 0.95937\n",
            "Epoch 28/100\n",
            "6400/6400 [==============================] - 2s 308us/step - loss: 0.1220 - acc: 0.9869 - val_loss: 0.3464 - val_acc: 0.9537\n",
            "\n",
            "Epoch 00028: val_acc did not improve from 0.95937\n",
            "Epoch 29/100\n",
            "6400/6400 [==============================] - 2s 312us/step - loss: 0.1121 - acc: 0.9902 - val_loss: 0.3017 - val_acc: 0.9594\n",
            "\n",
            "Epoch 00029: val_acc did not improve from 0.95937\n",
            "Epoch 30/100\n",
            "6400/6400 [==============================] - 2s 312us/step - loss: 0.1106 - acc: 0.9894 - val_loss: 0.3257 - val_acc: 0.9563\n",
            "\n",
            "Epoch 00030: val_acc did not improve from 0.95937\n",
            "Epoch 31/100\n",
            "6400/6400 [==============================] - 2s 308us/step - loss: 0.1232 - acc: 0.9855 - val_loss: 0.3300 - val_acc: 0.9544\n",
            "\n",
            "Epoch 00031: val_acc did not improve from 0.95937\n",
            "Epoch 32/100\n",
            "6400/6400 [==============================] - 2s 307us/step - loss: 0.1102 - acc: 0.9897 - val_loss: 0.3253 - val_acc: 0.9575\n",
            "\n",
            "Epoch 00032: val_acc did not improve from 0.95937\n",
            "Epoch 33/100\n",
            "6400/6400 [==============================] - 2s 315us/step - loss: 0.1143 - acc: 0.9895 - val_loss: 0.3249 - val_acc: 0.9556\n",
            "\n",
            "Epoch 00033: val_acc did not improve from 0.95937\n",
            "Epoch 34/100\n",
            "6400/6400 [==============================] - 2s 314us/step - loss: 0.1109 - acc: 0.9897 - val_loss: 0.3552 - val_acc: 0.9494\n",
            "\n",
            "Epoch 00034: val_acc did not improve from 0.95937\n",
            "Epoch 35/100\n",
            "6400/6400 [==============================] - 2s 318us/step - loss: 0.1097 - acc: 0.9898 - val_loss: 0.3106 - val_acc: 0.9581\n",
            "\n",
            "Epoch 00035: val_acc did not improve from 0.95937\n",
            "Epoch 36/100\n",
            "6400/6400 [==============================] - 2s 319us/step - loss: 0.1044 - acc: 0.9917 - val_loss: 0.3276 - val_acc: 0.9581\n",
            "\n",
            "Epoch 00036: val_acc did not improve from 0.95937\n",
            "Epoch 37/100\n",
            "6400/6400 [==============================] - 2s 312us/step - loss: 0.1143 - acc: 0.9884 - val_loss: 0.3343 - val_acc: 0.9594\n",
            "\n",
            "Epoch 00037: val_acc did not improve from 0.95937\n",
            "Epoch 38/100\n",
            "6400/6400 [==============================] - 2s 315us/step - loss: 0.1156 - acc: 0.9880 - val_loss: 0.3444 - val_acc: 0.9519\n",
            "\n",
            "Epoch 00038: val_acc did not improve from 0.95937\n",
            "Epoch 39/100\n",
            "6400/6400 [==============================] - 2s 303us/step - loss: 0.1166 - acc: 0.9878 - val_loss: 0.3475 - val_acc: 0.9531\n",
            "\n",
            "Epoch 00039: val_acc did not improve from 0.95937\n",
            "Epoch 40/100\n",
            "6400/6400 [==============================] - 2s 308us/step - loss: 0.1111 - acc: 0.9902 - val_loss: 0.3516 - val_acc: 0.9513\n",
            "\n",
            "Epoch 00040: val_acc did not improve from 0.95937\n",
            "Epoch 41/100\n",
            "6400/6400 [==============================] - 2s 311us/step - loss: 0.1124 - acc: 0.9898 - val_loss: 0.3316 - val_acc: 0.9525\n",
            "\n",
            "Epoch 00041: val_acc did not improve from 0.95937\n",
            "Epoch 42/100\n",
            "6400/6400 [==============================] - 2s 311us/step - loss: 0.1065 - acc: 0.9912 - val_loss: 0.3318 - val_acc: 0.9581\n",
            "\n",
            "Epoch 00042: val_acc did not improve from 0.95937\n",
            "Epoch 43/100\n",
            "6400/6400 [==============================] - 2s 314us/step - loss: 0.1013 - acc: 0.9925 - val_loss: 0.3336 - val_acc: 0.9581\n",
            "\n",
            "Epoch 00043: val_acc did not improve from 0.95937\n",
            "Epoch 44/100\n",
            "6400/6400 [==============================] - 2s 308us/step - loss: 0.1004 - acc: 0.9927 - val_loss: 0.3340 - val_acc: 0.9600\n",
            "\n",
            "Epoch 00044: val_acc improved from 0.95937 to 0.96000, saving model to pretrained_voice_best_weights.h5\n",
            "Epoch 45/100\n",
            "6400/6400 [==============================] - 2s 307us/step - loss: 0.1035 - acc: 0.9912 - val_loss: 0.3477 - val_acc: 0.9594\n",
            "\n",
            "Epoch 00045: val_acc did not improve from 0.96000\n",
            "Epoch 46/100\n",
            "6400/6400 [==============================] - 2s 312us/step - loss: 0.1022 - acc: 0.9920 - val_loss: 0.3585 - val_acc: 0.9575\n",
            "\n",
            "Epoch 00046: val_acc did not improve from 0.96000\n",
            "Epoch 47/100\n",
            "6400/6400 [==============================] - 2s 313us/step - loss: 0.1187 - acc: 0.9877 - val_loss: 0.4064 - val_acc: 0.9400\n",
            "\n",
            "Epoch 00047: val_acc did not improve from 0.96000\n",
            "Epoch 48/100\n",
            "6400/6400 [==============================] - 2s 315us/step - loss: 0.1196 - acc: 0.9862 - val_loss: 0.3867 - val_acc: 0.9513\n",
            "\n",
            "Epoch 00048: val_acc did not improve from 0.96000\n",
            "Epoch 49/100\n",
            "6400/6400 [==============================] - 2s 316us/step - loss: 0.1097 - acc: 0.9898 - val_loss: 0.3805 - val_acc: 0.9513\n",
            "\n",
            "Epoch 00049: val_acc did not improve from 0.96000\n",
            "Epoch 50/100\n",
            "6400/6400 [==============================] - 2s 317us/step - loss: 0.1082 - acc: 0.9906 - val_loss: 0.3542 - val_acc: 0.9544\n",
            "\n",
            "Epoch 00050: val_acc did not improve from 0.96000\n",
            "Epoch 51/100\n",
            "6400/6400 [==============================] - 2s 320us/step - loss: 0.0989 - acc: 0.9933 - val_loss: 0.3506 - val_acc: 0.9581\n",
            "\n",
            "Epoch 00051: val_acc did not improve from 0.96000\n",
            "Epoch 52/100\n",
            "6400/6400 [==============================] - 2s 306us/step - loss: 0.1002 - acc: 0.9930 - val_loss: 0.3582 - val_acc: 0.9563\n",
            "\n",
            "Epoch 00052: val_acc did not improve from 0.96000\n",
            "Epoch 53/100\n",
            "6400/6400 [==============================] - 2s 310us/step - loss: 0.1041 - acc: 0.9911 - val_loss: 0.3629 - val_acc: 0.9544\n",
            "\n",
            "Epoch 00053: val_acc did not improve from 0.96000\n",
            "Epoch 54/100\n",
            "6400/6400 [==============================] - 2s 309us/step - loss: 0.1002 - acc: 0.9925 - val_loss: 0.3535 - val_acc: 0.9569\n",
            "\n",
            "Epoch 00054: val_acc did not improve from 0.96000\n",
            "Epoch 55/100\n",
            "6400/6400 [==============================] - 2s 308us/step - loss: 0.1086 - acc: 0.9903 - val_loss: 0.3930 - val_acc: 0.9513\n",
            "\n",
            "Epoch 00055: val_acc did not improve from 0.96000\n",
            "Epoch 56/100\n",
            "6400/6400 [==============================] - 2s 308us/step - loss: 0.1121 - acc: 0.9903 - val_loss: 0.3568 - val_acc: 0.9550\n",
            "\n",
            "Epoch 00056: val_acc did not improve from 0.96000\n",
            "Epoch 57/100\n",
            "6400/6400 [==============================] - 2s 310us/step - loss: 0.1157 - acc: 0.9894 - val_loss: 0.3505 - val_acc: 0.9556\n",
            "\n",
            "Epoch 00057: val_acc did not improve from 0.96000\n",
            "Epoch 58/100\n",
            "6400/6400 [==============================] - 2s 310us/step - loss: 0.1031 - acc: 0.9912 - val_loss: 0.3773 - val_acc: 0.9494\n",
            "\n",
            "Epoch 00058: val_acc did not improve from 0.96000\n",
            "Epoch 59/100\n",
            "6400/6400 [==============================] - 2s 315us/step - loss: 0.1001 - acc: 0.9922 - val_loss: 0.3515 - val_acc: 0.9563\n",
            "\n",
            "Epoch 00059: val_acc did not improve from 0.96000\n",
            "Epoch 60/100\n",
            "6400/6400 [==============================] - 2s 311us/step - loss: 0.1029 - acc: 0.9906 - val_loss: 0.3628 - val_acc: 0.9519\n",
            "\n",
            "Epoch 00060: val_acc did not improve from 0.96000\n",
            "Epoch 61/100\n",
            "6400/6400 [==============================] - 2s 306us/step - loss: 0.1007 - acc: 0.9922 - val_loss: 0.3630 - val_acc: 0.9575\n",
            "\n",
            "Epoch 00061: val_acc did not improve from 0.96000\n",
            "Epoch 62/100\n",
            "6400/6400 [==============================] - 2s 308us/step - loss: 0.0978 - acc: 0.9931 - val_loss: 0.3570 - val_acc: 0.9550\n",
            "\n",
            "Epoch 00062: val_acc did not improve from 0.96000\n",
            "Epoch 63/100\n",
            "6400/6400 [==============================] - 2s 312us/step - loss: 0.0972 - acc: 0.9930 - val_loss: 0.3703 - val_acc: 0.9550\n",
            "\n",
            "Epoch 00063: val_acc did not improve from 0.96000\n",
            "Epoch 64/100\n",
            "6400/6400 [==============================] - 2s 314us/step - loss: 0.1069 - acc: 0.9905 - val_loss: 0.3626 - val_acc: 0.9525\n",
            "\n",
            "Epoch 00064: val_acc did not improve from 0.96000\n",
            "Epoch 65/100\n",
            "6400/6400 [==============================] - 2s 306us/step - loss: 0.1085 - acc: 0.9891 - val_loss: 0.3802 - val_acc: 0.9544\n",
            "\n",
            "Epoch 00065: val_acc did not improve from 0.96000\n",
            "Epoch 66/100\n",
            "6400/6400 [==============================] - 2s 313us/step - loss: 0.1013 - acc: 0.9919 - val_loss: 0.3753 - val_acc: 0.9550\n",
            "\n",
            "Epoch 00066: val_acc did not improve from 0.96000\n",
            "Epoch 67/100\n",
            "6400/6400 [==============================] - 2s 309us/step - loss: 0.1010 - acc: 0.9923 - val_loss: 0.3792 - val_acc: 0.9544\n",
            "\n",
            "Epoch 00067: val_acc did not improve from 0.96000\n",
            "Epoch 68/100\n",
            "6400/6400 [==============================] - 2s 318us/step - loss: 0.1009 - acc: 0.9927 - val_loss: 0.3755 - val_acc: 0.9606\n",
            "\n",
            "Epoch 00068: val_acc improved from 0.96000 to 0.96062, saving model to pretrained_voice_best_weights.h5\n",
            "Epoch 69/100\n",
            "6400/6400 [==============================] - 2s 307us/step - loss: 0.0959 - acc: 0.9934 - val_loss: 0.3625 - val_acc: 0.9606\n",
            "\n",
            "Epoch 00069: val_acc did not improve from 0.96062\n",
            "Epoch 70/100\n",
            "6400/6400 [==============================] - 2s 315us/step - loss: 0.0963 - acc: 0.9930 - val_loss: 0.3733 - val_acc: 0.9569\n",
            "\n",
            "Epoch 00070: val_acc did not improve from 0.96062\n",
            "Epoch 71/100\n",
            "6400/6400 [==============================] - 2s 317us/step - loss: 0.1052 - acc: 0.9914 - val_loss: 0.3884 - val_acc: 0.9525\n",
            "\n",
            "Epoch 00071: val_acc did not improve from 0.96062\n",
            "Epoch 72/100\n",
            "6400/6400 [==============================] - 2s 313us/step - loss: 0.1271 - acc: 0.9870 - val_loss: 0.3811 - val_acc: 0.9487\n",
            "\n",
            "Epoch 00072: val_acc did not improve from 0.96062\n",
            "Epoch 73/100\n",
            "6400/6400 [==============================] - 2s 308us/step - loss: 0.1016 - acc: 0.9920 - val_loss: 0.3620 - val_acc: 0.9581\n",
            "\n",
            "Epoch 00073: val_acc did not improve from 0.96062\n",
            "Epoch 74/100\n",
            "6400/6400 [==============================] - 2s 312us/step - loss: 0.0969 - acc: 0.9933 - val_loss: 0.3776 - val_acc: 0.9569\n",
            "\n",
            "Epoch 00074: val_acc did not improve from 0.96062\n",
            "Epoch 75/100\n",
            "6400/6400 [==============================] - 2s 322us/step - loss: 0.0984 - acc: 0.9928 - val_loss: 0.3780 - val_acc: 0.9550\n",
            "\n",
            "Epoch 00075: val_acc did not improve from 0.96062\n",
            "Epoch 76/100\n",
            "6400/6400 [==============================] - 2s 307us/step - loss: 0.1002 - acc: 0.9923 - val_loss: 0.3905 - val_acc: 0.9587\n",
            "\n",
            "Epoch 00076: val_acc did not improve from 0.96062\n",
            "Epoch 77/100\n",
            "6400/6400 [==============================] - 2s 311us/step - loss: 0.0951 - acc: 0.9937 - val_loss: 0.3815 - val_acc: 0.9600\n",
            "\n",
            "Epoch 00077: val_acc did not improve from 0.96062\n",
            "Epoch 78/100\n",
            "6400/6400 [==============================] - 2s 310us/step - loss: 0.0950 - acc: 0.9939 - val_loss: 0.3833 - val_acc: 0.9587\n",
            "\n",
            "Epoch 00078: val_acc did not improve from 0.96062\n",
            "Epoch 79/100\n",
            "6400/6400 [==============================] - 2s 320us/step - loss: 0.0988 - acc: 0.9933 - val_loss: 0.3811 - val_acc: 0.9613\n",
            "\n",
            "Epoch 00079: val_acc improved from 0.96062 to 0.96125, saving model to pretrained_voice_best_weights.h5\n",
            "Epoch 80/100\n",
            "6400/6400 [==============================] - 2s 316us/step - loss: 0.0954 - acc: 0.9936 - val_loss: 0.3806 - val_acc: 0.9563\n",
            "\n",
            "Epoch 00080: val_acc did not improve from 0.96125\n",
            "Epoch 81/100\n",
            "6400/6400 [==============================] - 2s 313us/step - loss: 0.1044 - acc: 0.9914 - val_loss: 0.4023 - val_acc: 0.9513\n",
            "\n",
            "Epoch 00081: val_acc did not improve from 0.96125\n",
            "Epoch 82/100\n",
            "6400/6400 [==============================] - 2s 311us/step - loss: 0.1131 - acc: 0.9891 - val_loss: 0.4310 - val_acc: 0.9425\n",
            "\n",
            "Epoch 00082: val_acc did not improve from 0.96125\n",
            "Epoch 83/100\n",
            "6400/6400 [==============================] - 2s 321us/step - loss: 0.1166 - acc: 0.9895 - val_loss: 0.3634 - val_acc: 0.9587\n",
            "\n",
            "Epoch 00083: val_acc did not improve from 0.96125\n",
            "Epoch 84/100\n",
            "6400/6400 [==============================] - 2s 310us/step - loss: 0.0989 - acc: 0.9925 - val_loss: 0.3744 - val_acc: 0.9606\n",
            "\n",
            "Epoch 00084: val_acc did not improve from 0.96125\n",
            "Epoch 85/100\n",
            "6400/6400 [==============================] - 2s 307us/step - loss: 0.0960 - acc: 0.9934 - val_loss: 0.3751 - val_acc: 0.9594\n",
            "\n",
            "Epoch 00085: val_acc did not improve from 0.96125\n",
            "Epoch 86/100\n",
            "6400/6400 [==============================] - 2s 309us/step - loss: 0.0981 - acc: 0.9930 - val_loss: 0.3807 - val_acc: 0.9619\n",
            "\n",
            "Epoch 00086: val_acc improved from 0.96125 to 0.96188, saving model to pretrained_voice_best_weights.h5\n",
            "Epoch 87/100\n",
            "6400/6400 [==============================] - 2s 304us/step - loss: 0.0954 - acc: 0.9936 - val_loss: 0.3792 - val_acc: 0.9581\n",
            "\n",
            "Epoch 00087: val_acc did not improve from 0.96188\n",
            "Epoch 88/100\n",
            "6400/6400 [==============================] - 2s 316us/step - loss: 0.0979 - acc: 0.9931 - val_loss: 0.3697 - val_acc: 0.9619\n",
            "\n",
            "Epoch 00088: val_acc did not improve from 0.96188\n",
            "Epoch 89/100\n",
            "6400/6400 [==============================] - 2s 309us/step - loss: 0.0975 - acc: 0.9927 - val_loss: 0.3964 - val_acc: 0.9544\n",
            "\n",
            "Epoch 00089: val_acc did not improve from 0.96188\n",
            "Epoch 90/100\n",
            "6400/6400 [==============================] - 2s 312us/step - loss: 0.0973 - acc: 0.9930 - val_loss: 0.3993 - val_acc: 0.9500\n",
            "\n",
            "Epoch 00090: val_acc did not improve from 0.96188\n",
            "Epoch 91/100\n",
            "6400/6400 [==============================] - 2s 315us/step - loss: 0.1045 - acc: 0.9902 - val_loss: 0.4220 - val_acc: 0.9556\n",
            "\n",
            "Epoch 00091: val_acc did not improve from 0.96188\n",
            "Epoch 92/100\n",
            "6400/6400 [==============================] - 2s 307us/step - loss: 0.1025 - acc: 0.9917 - val_loss: 0.3749 - val_acc: 0.9575\n",
            "\n",
            "Epoch 00092: val_acc did not improve from 0.96188\n",
            "Epoch 93/100\n",
            "6400/6400 [==============================] - 2s 310us/step - loss: 0.1032 - acc: 0.9911 - val_loss: 0.4076 - val_acc: 0.9550\n",
            "\n",
            "Epoch 00093: val_acc did not improve from 0.96188\n",
            "Epoch 94/100\n",
            "6400/6400 [==============================] - 2s 309us/step - loss: 0.1016 - acc: 0.9925 - val_loss: 0.3655 - val_acc: 0.9556\n",
            "\n",
            "Epoch 00094: val_acc did not improve from 0.96188\n",
            "Epoch 95/100\n",
            "6400/6400 [==============================] - 2s 313us/step - loss: 0.1023 - acc: 0.9919 - val_loss: 0.4207 - val_acc: 0.9506\n",
            "\n",
            "Epoch 00095: val_acc did not improve from 0.96188\n",
            "Epoch 96/100\n",
            "6400/6400 [==============================] - 2s 320us/step - loss: 0.1051 - acc: 0.9916 - val_loss: 0.3722 - val_acc: 0.9594\n",
            "\n",
            "Epoch 00096: val_acc did not improve from 0.96188\n",
            "Epoch 97/100\n",
            "6400/6400 [==============================] - 2s 330us/step - loss: 0.0974 - acc: 0.9930 - val_loss: 0.3733 - val_acc: 0.9581\n",
            "\n",
            "Epoch 00097: val_acc did not improve from 0.96188\n",
            "Epoch 98/100\n",
            "6400/6400 [==============================] - 2s 326us/step - loss: 0.0949 - acc: 0.9937 - val_loss: 0.3742 - val_acc: 0.9581\n",
            "\n",
            "Epoch 00098: val_acc did not improve from 0.96188\n",
            "Epoch 99/100\n",
            "6400/6400 [==============================] - 2s 304us/step - loss: 0.0961 - acc: 0.9930 - val_loss: 0.3846 - val_acc: 0.9569\n",
            "\n",
            "Epoch 00099: val_acc did not improve from 0.96188\n",
            "Epoch 100/100\n",
            "6400/6400 [==============================] - 2s 321us/step - loss: 0.0962 - acc: 0.9933 - val_loss: 0.3742 - val_acc: 0.9569\n",
            "\n",
            "Epoch 00100: val_acc did not improve from 0.96188\n"
          ],
          "name": "stdout"
        }
      ]
    },
    {
      "cell_type": "code",
      "metadata": {
        "id": "piGN3LFuBu1N",
        "colab_type": "code",
        "colab": {}
      },
      "source": [
        "full_model.save_weights('full_model_pretrained_voices_weights.h5')"
      ],
      "execution_count": 0,
      "outputs": []
    },
    {
      "cell_type": "code",
      "metadata": {
        "id": "gO52VtthCpTJ",
        "colab_type": "code",
        "colab": {
          "base_uri": "https://localhost:8080/",
          "height": 545
        },
        "outputId": "40e10482-6e6d-49ea-c927-004d29b32873"
      },
      "source": [
        "accuracy = pretrained_classifier_train.history['acc']\n",
        "val_accuracy = pretrained_classifier_train.history['val_acc']\n",
        "loss = pretrained_classifier_train.history['loss']\n",
        "val_loss = pretrained_classifier_train.history['val_loss']\n",
        "epochs = range(len(accuracy))\n",
        "plt.plot(epochs, accuracy, 'bo', label = 'Training Accuracy')\n",
        "plt.plot(epochs, val_accuracy, 'b', label = 'Validation Accuracy')\n",
        "plt.title('Training and Validation Accuracy using Pretrained Autoencoder Weights')\n",
        "plt.legend()\n",
        "plt.figure()\n",
        "plt.plot(epochs, loss, 'bo', label = 'Training Loss')\n",
        "plt.plot(epochs, val_loss, 'b', label = 'Validation Loss')\n",
        "plt.title('Training and Validation Loss using Pretrained Autoencoder Weights')\n",
        "plt.legend()\n",
        "plt.show()"
      ],
      "execution_count": 83,
      "outputs": [
        {
          "output_type": "display_data",
          "data": {
            "image/png": "[encoded data removed]",
            "text/plain": [
              "<Figure size 432x288 with 1 Axes>"
            ]
          },
          "metadata": {
            "tags": []
          }
        },
        {
          "output_type": "display_data",
          "data": {
            "image/png": "[encoded data removed]",
            "text/plain": [
              "<Figure size 432x288 with 1 Axes>"
            ]
          },
          "metadata": {
            "tags": []
          }
        }
      ]
    },
    {
      "cell_type": "code",
      "metadata": {
        "id": "jFAfo35rCt2v",
        "colab_type": "code",
        "colab": {}
      },
      "source": [
        "test_eval = full_model.evaluate(X_test, y_test, verbose = 0)"
      ],
      "execution_count": 0,
      "outputs": []
    },
    {
      "cell_type": "code",
      "metadata": {
        "id": "vRimV9ZRC1D_",
        "colab_type": "code",
        "colab": {
          "base_uri": "https://localhost:8080/",
          "height": 51
        },
        "outputId": "a0108667-0a37-4822-df49-be5fca2d96ec"
      },
      "source": [
        "print('Test loss : ', test_eval[0])\n",
        "print('Test accuracy : ', test_eval[1])"
      ],
      "execution_count": 85,
      "outputs": [
        {
          "output_type": "stream",
          "text": [
            "Test loss :  0.3654981872854987\n",
            "Test accuracy :  0.959\n"
          ],
          "name": "stdout"
        }
      ]
    },
    {
      "cell_type": "code",
      "metadata": {
        "id": "LoFbTLbmC3T9",
        "colab_type": "code",
        "colab": {}
      },
      "source": [
        "predicted_classes = full_model.predict(X_test)"
      ],
      "execution_count": 0,
      "outputs": []
    },
    {
      "cell_type": "code",
      "metadata": {
        "id": "0tgV0AVCC6xM",
        "colab_type": "code",
        "colab": {}
      },
      "source": [
        "predicted_classes = np.argmax(np.round(predicted_classes), axis = 1)"
      ],
      "execution_count": 0,
      "outputs": []
    },
    {
      "cell_type": "code",
      "metadata": {
        "id": "Q7Ng03I3C8ve",
        "colab_type": "code",
        "colab": {}
      },
      "source": [
        "predicted_classes = lb.inverse_transform(predicted_classes)"
      ],
      "execution_count": 0,
      "outputs": []
    },
    {
      "cell_type": "code",
      "metadata": {
        "id": "CCU_bcBoDRdy",
        "colab_type": "code",
        "colab": {}
      },
      "source": [
        "test_df['predicted_classes'] = predicted_classes"
      ],
      "execution_count": 0,
      "outputs": []
    },
    {
      "cell_type": "code",
      "metadata": {
        "id": "Kds5r22aDT-t",
        "colab_type": "code",
        "colab": {
          "base_uri": "https://localhost:8080/",
          "height": 204
        },
        "outputId": "768f8af4-a158-4a8d-c0c2-48a710d8eac3"
      },
      "source": [
        "test_df.head()"
      ],
      "execution_count": 90,
      "outputs": [
        {
          "output_type": "execute_result",
          "data": {
            "text/html": [
              "<div>\n",
              "<style scoped>\n",
              "    .dataframe tbody tr th:only-of-type {\n",
              "        vertical-align: middle;\n",
              "    }\n",
              "\n",
              "    .dataframe tbody tr th {\n",
              "        vertical-align: top;\n",
              "    }\n",
              "\n",
              "    .dataframe thead th {\n",
              "        text-align: right;\n",
              "    }\n",
              "</style>\n",
              "<table border=\"1\" class=\"dataframe\">\n",
              "  <thead>\n",
              "    <tr style=\"text-align: right;\">\n",
              "      <th></th>\n",
              "      <th>test_labels</th>\n",
              "      <th>predicted_classes</th>\n",
              "    </tr>\n",
              "  </thead>\n",
              "  <tbody>\n",
              "    <tr>\n",
              "      <th>0</th>\n",
              "      <td>103</td>\n",
              "      <td>103</td>\n",
              "    </tr>\n",
              "    <tr>\n",
              "      <th>1</th>\n",
              "      <td>1624</td>\n",
              "      <td>1624</td>\n",
              "    </tr>\n",
              "    <tr>\n",
              "      <th>2</th>\n",
              "      <td>5163</td>\n",
              "      <td>5163</td>\n",
              "    </tr>\n",
              "    <tr>\n",
              "      <th>3</th>\n",
              "      <td>201</td>\n",
              "      <td>201</td>\n",
              "    </tr>\n",
              "    <tr>\n",
              "      <th>4</th>\n",
              "      <td>4160</td>\n",
              "      <td>4160</td>\n",
              "    </tr>\n",
              "  </tbody>\n",
              "</table>\n",
              "</div>"
            ],
            "text/plain": [
              "  test_labels predicted_classes\n",
              "0         103               103\n",
              "1        1624              1624\n",
              "2        5163              5163\n",
              "3         201               201\n",
              "4        4160              4160"
            ]
          },
          "metadata": {
            "tags": []
          },
          "execution_count": 90
        }
      ]
    },
    {
      "cell_type": "code",
      "metadata": {
        "id": "fleCnAUTDWEK",
        "colab_type": "code",
        "colab": {
          "base_uri": "https://localhost:8080/",
          "height": 419
        },
        "outputId": "f045efb1-74e3-4714-820f-9ad21db95258"
      },
      "source": [
        "test_df[test_df['test_labels'] != test_df['predicted_classes']]"
      ],
      "execution_count": 91,
      "outputs": [
        {
          "output_type": "execute_result",
          "data": {
            "text/html": [
              "<div>\n",
              "<style scoped>\n",
              "    .dataframe tbody tr th:only-of-type {\n",
              "        vertical-align: middle;\n",
              "    }\n",
              "\n",
              "    .dataframe tbody tr th {\n",
              "        vertical-align: top;\n",
              "    }\n",
              "\n",
              "    .dataframe thead th {\n",
              "        text-align: right;\n",
              "    }\n",
              "</style>\n",
              "<table border=\"1\" class=\"dataframe\">\n",
              "  <thead>\n",
              "    <tr style=\"text-align: right;\">\n",
              "      <th></th>\n",
              "      <th>test_labels</th>\n",
              "      <th>predicted_classes</th>\n",
              "    </tr>\n",
              "  </thead>\n",
              "  <tbody>\n",
              "    <tr>\n",
              "      <th>6</th>\n",
              "      <td>7902</td>\n",
              "      <td>374</td>\n",
              "    </tr>\n",
              "    <tr>\n",
              "      <th>51</th>\n",
              "      <td>8797</td>\n",
              "      <td>5703</td>\n",
              "    </tr>\n",
              "    <tr>\n",
              "      <th>81</th>\n",
              "      <td>2182</td>\n",
              "      <td>4852</td>\n",
              "    </tr>\n",
              "    <tr>\n",
              "      <th>83</th>\n",
              "      <td>446</td>\n",
              "      <td>4323</td>\n",
              "    </tr>\n",
              "    <tr>\n",
              "      <th>86</th>\n",
              "      <td>89</td>\n",
              "      <td>4852</td>\n",
              "    </tr>\n",
              "    <tr>\n",
              "      <th>...</th>\n",
              "      <td>...</td>\n",
              "      <td>...</td>\n",
              "    </tr>\n",
              "    <tr>\n",
              "      <th>1903</th>\n",
              "      <td>2182</td>\n",
              "      <td>4852</td>\n",
              "    </tr>\n",
              "    <tr>\n",
              "      <th>1912</th>\n",
              "      <td>3112</td>\n",
              "      <td>6476</td>\n",
              "    </tr>\n",
              "    <tr>\n",
              "      <th>1924</th>\n",
              "      <td>446</td>\n",
              "      <td>61</td>\n",
              "    </tr>\n",
              "    <tr>\n",
              "      <th>1928</th>\n",
              "      <td>4515</td>\n",
              "      <td>6818</td>\n",
              "    </tr>\n",
              "    <tr>\n",
              "      <th>1931</th>\n",
              "      <td>2182</td>\n",
              "      <td>4852</td>\n",
              "    </tr>\n",
              "  </tbody>\n",
              "</table>\n",
              "<p>85 rows × 2 columns</p>\n",
              "</div>"
            ],
            "text/plain": [
              "     test_labels predicted_classes\n",
              "6           7902               374\n",
              "51          8797              5703\n",
              "81          2182              4852\n",
              "83           446              4323\n",
              "86            89              4852\n",
              "...          ...               ...\n",
              "1903        2182              4852\n",
              "1912        3112              6476\n",
              "1924         446                61\n",
              "1928        4515              6818\n",
              "1931        2182              4852\n",
              "\n",
              "[85 rows x 2 columns]"
            ]
          },
          "metadata": {
            "tags": []
          },
          "execution_count": 91
        }
      ]
    },
    {
      "cell_type": "code",
      "metadata": {
        "id": "SCL1TBluDbCM",
        "colab_type": "code",
        "colab": {
          "base_uri": "https://localhost:8080/",
          "height": 34
        },
        "outputId": "b4b62bc3-0bef-413b-a1d2-06d4b0599d9e"
      },
      "source": [
        "1-round(len(test_df[test_df['test_labels'] != test_df['predicted_classes']])/len(test_df),3)"
      ],
      "execution_count": 92,
      "outputs": [
        {
          "output_type": "execute_result",
          "data": {
            "text/plain": [
              "0.957"
            ]
          },
          "metadata": {
            "tags": []
          },
          "execution_count": 92
        }
      ]
    },
    {
      "cell_type": "code",
      "metadata": {
        "id": "n_VYc417DlIs",
        "colab_type": "code",
        "colab": {}
      },
      "source": [
        ""
      ],
      "execution_count": 0,
      "outputs": []
    }
  ]
}